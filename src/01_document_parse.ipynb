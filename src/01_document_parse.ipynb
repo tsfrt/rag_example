{
 "cells": [
  {
   "cell_type": "code",
   "execution_count": 0,
   "metadata": {
    "application/vnd.databricks.v1+cell": {
     "cellMetadata": {
      "byteLimit": 2048000,
      "rowLimit": 10000
     },
     "inputWidgets": {},
     "nuid": "aa271996-8de0-4467-bdf6-50d531ee41b6",
     "showTitle": false,
     "tableResultSettingsMap": {},
     "title": "brjjdkgknvktnrkffrtkieunlenktvricguk"
    }
   },
   "outputs": [],
   "source": [
    "%pip install --quiet databricks-sdk httpx PyMuPDF openai\n",
    "dbutils.library.restartPython()"
   ]
  },
  {
   "cell_type": "code",
   "execution_count": 0,
   "metadata": {
    "application/vnd.databricks.v1+cell": {
     "cellMetadata": {
      "byteLimit": 2048000,
      "rowLimit": 10000
     },
     "inputWidgets": {},
     "nuid": "fa0c7d37-95d2-437b-917f-20c12a2ce072",
     "showTitle": false,
     "tableResultSettingsMap": {},
     "title": ""
    }
   },
   "outputs": [],
   "source": [
    "import base64\n",
    "import fitz \n",
    "import pandas as pd\n",
    "import os\n",
    "import glob\n",
    "from pathlib import Path\n",
    "import time\n",
    "import random\n",
    "import threading\n",
    "from collections import deque\n",
    "from datetime import datetime, timedelta\n",
    "from concurrent.futures import ThreadPoolExecutor, as_completed\n",
    "from pyspark.sql.functions import col, concat, lit, regexp_replace, split\n",
    "from tqdm import tqdm\n"
   ]
  },
  {
   "cell_type": "code",
   "execution_count": 0,
   "metadata": {
    "application/vnd.databricks.v1+cell": {
     "cellMetadata": {
      "byteLimit": 2048000,
      "rowLimit": 10000
     },
     "inputWidgets": {},
     "nuid": "ac2acf1f-729c-4ac4-bd31-faf8e4998454",
     "showTitle": false,
     "tableResultSettingsMap": {},
     "title": ""
    }
   },
   "outputs": [],
   "source": [
    "dbutils.widgets.text(\n",
    "    \"volume_path\",\n",
    "    \"/Volumes/tsfrt/gsa/performance\",\n",
    "    label=\"Path to volume containing documents\",\n",
    ")\n",
    "\n",
    "# MLflow experiment name.\n",
    "dbutils.widgets.text(\n",
    "    \"output_schema\",\n",
    "    \"tsfrt.gsa\",\n",
    "    label=\"Catalog and schema name for output table ({catalog}.{schema})\",\n",
    ")\n",
    "\n",
    "dbutils.widgets.text(\n",
    "    \"output_catalog\",\n",
    "    \"tsfrt\",\n",
    "    label=\"table for final output with embeddings\",\n",
    ")\n",
    "\n",
    "dbutils.widgets.text(\n",
    "    \"output_schema\",\n",
    "    \"gsa\",\n",
    "    label=\"table for final output with embeddings\",\n",
    ")\n",
    "\n",
    "dbutils.widgets.text(\n",
    "    \"output_table\",\n",
    "    \"document_base\",\n",
    "    label=\"table for final output with embeddings\",\n",
    ")\n",
    "\n",
    "dbutils.widgets.text(\n",
    "    \"embedding_model\",\n",
    "    \"databricks-gte-large-en\",\n",
    "    label=\"embedding model to use\",\n",
    ")\n",
    "\n",
    "dbutils.widgets.text(\n",
    "    \"foundation_model\",\n",
    "    \"databricks-llama-4-maverick\",\n",
    "    label=\"foundation model used for doc parsing\",\n",
    ")\n",
    "\n"
   ]
  },
  {
   "cell_type": "code",
   "execution_count": 0,
   "metadata": {
    "application/vnd.databricks.v1+cell": {
     "cellMetadata": {
      "byteLimit": 2048000,
      "rowLimit": 10000
     },
     "inputWidgets": {},
     "nuid": "44acdadf-92c5-4fea-8246-f6085751e817",
     "showTitle": false,
     "tableResultSettingsMap": {},
     "title": ""
    }
   },
   "outputs": [
    {
     "name": "stdout",
     "output_type": "stream",
     "text": [
      "📂 PDF Directory: /Volumes/tsfrt/gsa/performance\n",
      "📊 Output Catalog: tsfrt.gsa\n",
      "🔧 Processing Mode: combined\n",
      "💾 Final Table: tsfrt.gsa.all_pdfs_parsed\n"
     ]
    }
   ],
   "source": [
    "# UPDATE THESE PATHS FOR YOUR SETUP\n",
    "OUTPUT_CTLG = dbutils.widgets.get(\"output_catalog\")\n",
    "OUTPUT_SCHEMA = dbutils.widgets.get(\"output_schema\")\n",
    "OUTPUT_TABLE = dbutils.widgets.get(\"output_table\")\n",
    "\n",
    "PDF_DIRECTORY = dbutils.widgets.get(\"volume_path\")\n",
    "OUTPUT_CATALOG = f\"{OUTPUT_CTLG}.{OUTPUT_SCHEMA}\"\n",
    "\n",
    "# You can choose the processing mode:\n",
    "# \"combined\" - All PDFs go into one table with doc_id to distinguish (recommended)\n",
    "# \"separate\" - Each PDF gets its own table\n",
    "PROCESSING_MODE = \"combined\"  # or \"separate\"\n",
    "\n",
    "# Table naming\n",
    "if PROCESSING_MODE == \"combined\":\n",
    "    INTERMEDIATE_TABLE = f\"{OUTPUT_CATALOG}.all_pdfs_parsed_intermediate\"\n",
    "    FINAL_TABLE = f\"{OUTPUT_CATALOG}.all_pdfs_parsed\"\n",
    "else:\n",
    "    # For separate mode, tables will be named dynamically per PDF\n",
    "    pass\n",
    "\n",
    "context = dbutils.notebook.entry_point.getDbutils().notebook().getContext()\n",
    "workspace_url = context.apiUrl().get()\n",
    "DATABRICKS_TOKEN = dbutils.notebook.entry_point.getDbutils().notebook().getContext().apiToken().get()\n",
    "DATABRICKS_BASE_URL = f'{workspace_url}/serving-endpoints/'\n",
    "\n",
    "print(f\"📂 PDF Directory: {PDF_DIRECTORY}\")\n",
    "print(f\"📊 Output Catalog: {OUTPUT_CATALOG}\")\n",
    "print(f\"🔧 Processing Mode: {PROCESSING_MODE}\")\n",
    "if PROCESSING_MODE == \"combined\":\n",
    "    print(f\"💾 Final Table: {FINAL_TABLE}\")"
   ]
  },
  {
   "cell_type": "code",
   "execution_count": 0,
   "metadata": {
    "application/vnd.databricks.v1+cell": {
     "cellMetadata": {
      "byteLimit": 2048000,
      "rowLimit": 10000
     },
     "inputWidgets": {},
     "nuid": "9772c304-e711-4de4-b14a-c5ef2c8495a4",
     "showTitle": true,
     "tableResultSettingsMap": {},
     "title": "bbrhbkjgfhjrbub"
    }
   },
   "outputs": [],
   "source": [
    "def count_pdf_pages_fitz(directory=\".\", show_details=True):\n",
    "    \"\"\"\n",
    "    Count pages in all PDF files in a directory using PyMuPDF (fitz)\n",
    "    \n",
    "    Args:\n",
    "        directory (str): Directory path to scan for PDFs\n",
    "        show_details (bool): Whether to show individual file counts\n",
    "    \n",
    "    Returns:\n",
    "        tuple: (total_pages, file_count, errors)\n",
    "    \"\"\"\n",
    "    pdf_files = list(Path(directory).glob(\"*.pdf\"))\n",
    "    \n",
    "    if not pdf_files:\n",
    "        print(f\"No PDF files found in '{directory}'\")\n",
    "        return 0, 0, 0\n",
    "    \n",
    "    total_pages = 0\n",
    "    file_count = 0\n",
    "    errors = 0\n",
    "    \n",
    "    print(f\"Scanning {len(pdf_files)} PDF files in '{directory}'...\\n\")\n",
    "    \n",
    "    for pdf_file in pdf_files:\n",
    "        try:\n",
    "            # Open PDF with fitz\n",
    "            doc = fitz.open(pdf_file)\n",
    "            pages = doc.page_count\n",
    "            doc.close()\n",
    "            \n",
    "            if show_details:\n",
    "                print(f\"{pdf_file.name:<50} {pages:>6} pages\")\n",
    "            \n",
    "            total_pages += pages\n",
    "            file_count += 1\n",
    "            \n",
    "        except Exception as e:\n",
    "            print(f\"ERROR - {pdf_file.name}: {e}\")\n",
    "            errors += 1\n",
    "    print(\"\\n\")\n",
    "    return total_pages, file_count, errors"
   ]
  },
  {
   "cell_type": "code",
   "execution_count": 0,
   "metadata": {
    "application/vnd.databricks.v1+cell": {
     "cellMetadata": {
      "byteLimit": 2048000,
      "rowLimit": 10000
     },
     "inputWidgets": {},
     "nuid": "ead9553e-6c1c-49ee-974b-54e1c30f9a09",
     "showTitle": false,
     "tableResultSettingsMap": {},
     "title": ""
    }
   },
   "outputs": [
    {
     "name": "stdout",
     "output_type": "stream",
     "text": [
      "Scanning 6 PDF files in '/Volumes/tsfrt/gsa/performance'...\n",
      "\n",
      "FY 2024 GSA Annual Performance Plan FY 2022 Report_Final_508.pdf     91 pages\n",
      "FY-2023-Annual-Performance-Report_FINAL_508-1282025.pdf     32 pages\n",
      "FY-2026-GSA-Annual-Performance-Plan_5-28-25.pdf        10 pages\n",
      "GSA-FY2024-Annual-Performance-Report-Final-508-Jan-2025.pdf     29 pages\n",
      "GSA_Annual_Performance_Plan_FY_2023_FINAL_508.pdf      90 pages\n",
      "executive-documents.pdf                                 1 pages\n",
      "\n",
      "\n",
      "Total 6 PDFs found with a total of 253 pages. 0 errors.\n"
     ]
    }
   ],
   "source": [
    "\n",
    "total_pages, num_documents, errors = (count_pdf_pages_fitz(PDF_DIRECTORY, show_details=True))\n",
    "\n",
    "print(f\"Total {num_documents} PDFs found with a total of {total_pages} pages. {errors} errors.\")"
   ]
  },
  {
   "cell_type": "code",
   "execution_count": 0,
   "metadata": {
    "application/vnd.databricks.v1+cell": {
     "cellMetadata": {
      "byteLimit": 2048000,
      "rowLimit": 10000
     },
     "inputWidgets": {},
     "nuid": "8d193d82-eb4d-4584-b24c-af20e1ce6fa2",
     "showTitle": false,
     "tableResultSettingsMap": {},
     "title": ""
    }
   },
   "outputs": [],
   "source": [
    "def get_pdf_files(directory_path):\n",
    "    \"\"\"\n",
    "    Get all PDF files from a Unity Catalog volume directory.\n",
    "    \n",
    "    Args:\n",
    "        directory_path: Path to directory containing PDFs\n",
    "        \n",
    "    Returns:\n",
    "        List of PDF file paths\n",
    "    \"\"\"\n",
    "    try:\n",
    "        # List all files in the directory\n",
    "        files = dbutils.fs.ls(directory_path)\n",
    "        \n",
    "        # Filter for PDF files and clean the paths\n",
    "        pdf_files = []\n",
    "        for file in files:\n",
    "            if file.path.lower().endswith('.pdf'):\n",
    "                # Remove 'dbfs:' prefix if present to work with PyMuPDF\n",
    "                clean_path = file.path.replace('dbfs:', '') if file.path.startswith('dbfs:') else file.path\n",
    "                pdf_files.append(clean_path)\n",
    "        \n",
    "        print(f\"Found {len(pdf_files)} PDF files in {directory_path}\")\n",
    "        for pdf in pdf_files:\n",
    "            file_name = os.path.basename(pdf)\n",
    "            print(f\"  - {file_name}\")\n",
    "            print(f\"    Path: {pdf}\")\n",
    "            \n",
    "        return pdf_files\n",
    "        \n",
    "    except Exception as e:\n",
    "        print(f\"Error accessing directory {directory_path}: {str(e)}\")\n",
    "        return []\n",
    "\n",
    "def get_clean_doc_name(pdf_path):\n",
    "    \"\"\"Extract a clean document name from the PDF path for table naming.\"\"\"\n",
    "    file_name = os.path.basename(pdf_path)\n",
    "    # Remove .pdf extension and clean up for table naming\n",
    "    clean_name = file_name.replace('.pdf', '').replace('.PDF', '')\n",
    "    # Replace special characters with underscores\n",
    "    clean_name = ''.join(c if c.isalnum() else '_' for c in clean_name)\n",
    "    # Remove consecutive underscores and strip\n",
    "    clean_name = '_'.join(filter(None, clean_name.split('_')))\n",
    "    return clean_name.lower()"
   ]
  },
  {
   "cell_type": "code",
   "execution_count": 0,
   "metadata": {
    "application/vnd.databricks.v1+cell": {
     "cellMetadata": {
      "byteLimit": 2048000,
      "rowLimit": 10000
     },
     "inputWidgets": {},
     "nuid": "b7ed2ecc-bd06-4f09-8666-2ae6a9a8d18f",
     "showTitle": false,
     "tableResultSettingsMap": {},
     "title": ""
    }
   },
   "outputs": [],
   "source": [
    "def convert_pdf_to_base64(pdf_path, dpi=300):\n",
    "    \"\"\"\n",
    "    PDF conversion with better metadata and error handling.\n",
    "    \n",
    "    Args:\n",
    "        pdf_path: Path to PDF file\n",
    "        dpi: Resolution\n",
    "    \n",
    "    Returns:\n",
    "        pandas DataFrame with metadata, success boolean, error message\n",
    "    \"\"\"\n",
    "    \n",
    "    zoom = dpi / 72\n",
    "    zoom_matrix = fitz.Matrix(zoom, zoom)\n",
    "    \n",
    "    try:\n",
    "        doc = fitz.open(pdf_path)\n",
    "        num_pages = len(doc)\n",
    "        \n",
    "        # Extract document metadata\n",
    "        metadata = doc.metadata\n",
    "        file_name = os.path.basename(pdf_path)\n",
    "        clean_doc_name = get_clean_doc_name(pdf_path)\n",
    "        \n",
    "        print(f\"Converting {file_name} to base64: {num_pages} pages at {dpi} DPI...\")\n",
    "        \n",
    "        df_data = []\n",
    "        start_time = time.time()\n",
    "        \n",
    "        for page_num in range(num_pages):\n",
    "            if page_num % 25 == 0:  # Progress update every 25 pages\n",
    "                print(f\"  Converting page {page_num + 1}/{num_pages} to base64\")\n",
    "            \n",
    "            page = doc.load_page(page_num)\n",
    "            \n",
    "            # Get page dimensions and text for metadata\n",
    "            page_rect = page.rect\n",
    "            page_text_length = len(page.get_text())\n",
    "            \n",
    "            pix = page.get_pixmap(matrix=zoom_matrix, alpha=False)\n",
    "            img_bytes = pix.tobytes(\"png\")  \n",
    "            img_base64 = base64.b64encode(img_bytes).decode('utf-8')\n",
    "            \n",
    "            df_data.append({\n",
    "                'doc_id': pdf_path,\n",
    "                'doc_name': clean_doc_name,\n",
    "                'file_name': file_name,\n",
    "                'page_num': page_num + 1,\n",
    "                'total_pages': num_pages,\n",
    "                'page_width': page_rect.width,\n",
    "                'page_height': page_rect.height,\n",
    "                'page_text_length': page_text_length,\n",
    "                'base64_img': img_base64,\n",
    "                'processed_timestamp': datetime.now(),\n",
    "                'dpi': dpi,\n",
    "                'doc_title': metadata.get('title', ''),\n",
    "                'doc_author': metadata.get('author', ''),\n",
    "                'doc_subject': metadata.get('subject', ''),\n",
    "                'doc_creator': metadata.get('creator', '')\n",
    "            })\n",
    "        \n",
    "        doc.close()\n",
    "        processing_time = time.time() - start_time\n",
    "        \n",
    "        print(f\"  Conversion complete: {len(df_data)} pages in {processing_time:.1f}s\")\n",
    "        \n",
    "        return pd.DataFrame(df_data), True, None\n",
    "        \n",
    "    except Exception as e:\n",
    "        error_msg = f\"Error processing {pdf_path}: {str(e)}\"\n",
    "        print(f\"❌ {error_msg}\")\n",
    "        return None, False, error_msg"
   ]
  },
  {
   "cell_type": "code",
   "execution_count": 0,
   "metadata": {
    "application/vnd.databricks.v1+cell": {
     "cellMetadata": {
      "byteLimit": 2048000,
      "rowLimit": 10000
     },
     "inputWidgets": {},
     "nuid": "1946b9fd-33f4-4d27-b1cf-58bb5a76855d",
     "showTitle": false,
     "tableResultSettingsMap": {},
     "title": ""
    }
   },
   "outputs": [],
   "source": [
    "def save_to_unity_catalog(df, table_path, mode=\"append\"):\n",
    "    \"\"\"\n",
    "    Save function with better error handling and options.\n",
    "    \"\"\"\n",
    "    try:\n",
    "        spark_df = spark.createDataFrame(df)\n",
    "        \n",
    "        if mode == \"overwrite\":\n",
    "            spark_df.write \\\n",
    "                .format(\"delta\") \\\n",
    "                .mode(\"overwrite\") \\\n",
    "                .option(\"overwriteSchema\", \"true\") \\\n",
    "                .saveAsTable(table_path)\n",
    "        else:\n",
    "            spark_df.write \\\n",
    "                .format(\"delta\") \\\n",
    "                .mode(\"append\") \\\n",
    "                .saveAsTable(table_path)\n",
    "        \n",
    "        print(f\"✅ Saved {len(df)} records to: {table_path}\")\n",
    "        return True\n",
    "        \n",
    "    except Exception as e:\n",
    "        print(f\"❌ Error saving to {table_path}: {str(e)}\")\n",
    "        return False"
   ]
  },
  {
   "cell_type": "code",
   "execution_count": 0,
   "metadata": {
    "application/vnd.databricks.v1+cell": {
     "cellMetadata": {
      "byteLimit": 2048000,
      "rowLimit": 10000
     },
     "inputWidgets": {},
     "nuid": "213d83a8-cb93-41be-8dbb-78f02772bad5",
     "showTitle": false,
     "tableResultSettingsMap": {},
     "title": ""
    }
   },
   "outputs": [],
   "source": [
    "RETRYABLE_ERROR_SUBSTRINGS = [\"retry\", \"got empty embedding result\", \"request_limit_exceeded\", \"rate limit\", \"insufficient_quota\", \"expecting value\", \"rate\", \"overloaded\", \"429\", \"bad gateway\", \"502\"]\n",
    "\n",
    "class RateLimitTracker:\n",
    "    \"\"\"Track API rate limits and adjust concurrency dynamically.\"\"\"\n",
    "    \n",
    "    def __init__(self, initial_workers=5, min_workers=1, max_workers=10):\n",
    "        self.current_workers = initial_workers\n",
    "        self.min_workers = min_workers\n",
    "        self.max_workers = max_workers\n",
    "        self.rate_limit_events = deque(maxlen=20)  # Track recent rate limits\n",
    "        self.success_count = 0\n",
    "        self.lock = threading.Lock()\n",
    "        \n",
    "    def record_rate_limit(self):\n",
    "        \"\"\"Record a rate limit event and potentially reduce workers.\"\"\"\n",
    "        with self.lock:\n",
    "            self.rate_limit_events.append(datetime.now())\n",
    "            \n",
    "            # If we've had multiple rate limits recently, reduce workers\n",
    "            recent_limits = sum(1 for event in self.rate_limit_events \n",
    "                              if datetime.now() - event < timedelta(minutes=2))\n",
    "            \n",
    "            if recent_limits >= 3 and self.current_workers > self.min_workers:\n",
    "                old_workers = self.current_workers\n",
    "                self.current_workers = max(self.min_workers, self.current_workers - 1)\n",
    "                print(f\"🔽 Rate limits detected! Reducing workers: {old_workers} → {self.current_workers}\")\n",
    "                \n",
    "    def record_success(self):\n",
    "        \"\"\"Record successful processing and potentially increase workers.\"\"\"\n",
    "        with self.lock:\n",
    "            self.success_count += 1\n",
    "            \n",
    "            # If no recent rate limits and we've had some successes, gradually increase workers\n",
    "            recent_limits = sum(1 for event in self.rate_limit_events \n",
    "                              if datetime.now() - event < timedelta(minutes=5))\n",
    "            \n",
    "            # Increase workers every 20 successes if no recent rate limits\n",
    "            if (recent_limits == 0 and \n",
    "                self.current_workers < self.max_workers and \n",
    "                self.success_count % 20 == 0):\n",
    "                old_workers = self.current_workers\n",
    "                self.current_workers = min(self.max_workers, self.current_workers + 1)\n",
    "                print(f\"🔼 Performance good! Increasing workers: {old_workers} → {self.current_workers}\")"
   ]
  },
  {
   "cell_type": "code",
   "execution_count": 0,
   "metadata": {
    "application/vnd.databricks.v1+cell": {
     "cellMetadata": {
      "byteLimit": 2048000,
      "rowLimit": 10000
     },
     "inputWidgets": {},
     "nuid": "1df8c680-f2af-473b-be01-73817201c1ef",
     "showTitle": false,
     "tableResultSettingsMap": {},
     "title": ""
    }
   },
   "outputs": [],
   "source": [
    "def process_single_image(prompt, image_data, image_index, databricks_token, databricks_url, model, rate_tracker):\n",
    "    \"\"\"Process a single image with adaptive rate limiting.\"\"\"\n",
    "    \n",
    "    client = OpenAI(api_key=databricks_token, base_url=databricks_url)\n",
    "    \n",
    "    # Skip empty images\n",
    "    if pd.isna(image_data) or image_data == \"\":\n",
    "        return (image_index, \"ERROR: Empty image\")\n",
    "    \n",
    "    \n",
    "    # Retry logic with exponential backoff\n",
    "    for attempt in range(3):\n",
    "        try:\n",
    "            response = client.chat.completions.create(\n",
    "                model=model,\n",
    "                messages=[{\n",
    "                    \"role\": \"user\",\n",
    "                    \"content\": [\n",
    "                        {\"type\": \"text\", \"text\": prompt},\n",
    "                        {\n",
    "                            \"type\": \"image_url\",\n",
    "                            \"image_url\": {\"url\": f\"data:image/jpeg;base64,{image_data}\"}\n",
    "                        }\n",
    "                    ]\n",
    "                }]\n",
    "            )\n",
    "            \n",
    "            result = response.choices[0].message.content.strip()\n",
    "            rate_tracker.record_success()\n",
    "            \n",
    "            # Print success message if this was a retry attempt\n",
    "            if attempt > 0:\n",
    "                print(f\"✅ SUCCESS: Image {image_index} processed successfully after {attempt + 1} attempts\")\n",
    "            \n",
    "            return (image_index, result)\n",
    "            \n",
    "        except Exception as e:\n",
    "            error_str = str(e).lower()\n",
    "            is_retryable = any(substring in error_str for substring in RETRYABLE_ERROR_SUBSTRINGS)\n",
    "            \n",
    "            if is_retryable:\n",
    "                rate_tracker.record_rate_limit()\n",
    "                \n",
    "                if attempt < 2:  # Only retry if we have attempts left\n",
    "                    # Exponential backoff with jitter\n",
    "                    wait_time = (2 ** attempt) + random.uniform(1, 3)\n",
    "                    print(f\"⚠️  RATE LIMIT: Image {image_index}, attempt {attempt + 1}/3. Retrying in {wait_time:.1f}s...\")\n",
    "                    time.sleep(wait_time)\n",
    "                    continue\n",
    "                else:\n",
    "                    print(f\"❌ FAILED: Image {image_index} failed after 3 attempts due to rate limiting\")\n",
    "                    return (image_index, f\"ERROR: Rate limited after 3 attempts - {str(e)}\")\n",
    "            else:\n",
    "                print(f\"❌ ERROR: Image {image_index} failed with non-retryable error: {str(e)}\")\n",
    "                return (image_index, f\"ERROR: {str(e)}\")\n",
    "    \n",
    "    return (image_index, \"ERROR: Max retries exceeded\")"
   ]
  },
  {
   "cell_type": "code",
   "execution_count": 0,
   "metadata": {
    "application/vnd.databricks.v1+cell": {
     "cellMetadata": {
      "byteLimit": 2048000,
      "rowLimit": 10000
     },
     "inputWidgets": {},
     "nuid": "c7aec551-7d74-41c6-8fb5-e28bfb9093e1",
     "showTitle": false,
     "tableResultSettingsMap": {},
     "title": ""
    }
   },
   "outputs": [],
   "source": [
    "def process_images_adaptive(prompt, images, databricks_token, databricks_url, \n",
    "                           model=\"databricks-llama-4-maverick\", \n",
    "                           initial_workers=5, min_workers=1, max_workers=10):\n",
    "    \"\"\"\n",
    "    Adaptive processing that adjusts concurrency based on rate limits.\n",
    "    \n",
    "    Args:\n",
    "        images: pandas Series of base64 encoded image strings\n",
    "        databricks_token: Token for Databricks API  \n",
    "        databricks_url: Base URL for Databricks API\n",
    "        model: Model name to use\n",
    "        initial_workers: Starting number of concurrent workers\n",
    "        min_workers: Minimum workers (fallback during heavy rate limiting)\n",
    "        max_workers: Maximum workers (cap for scaling up)\n",
    "        \n",
    "    Returns:\n",
    "        pandas Series: Results with same index as input\n",
    "    \"\"\"\n",
    "    \n",
    "    # Convert to pandas Series if needed\n",
    "    if not isinstance(images, pd.Series):\n",
    "        images = pd.Series(images)\n",
    "    \n",
    "    results = pd.Series(index=images.index, dtype='object')\n",
    "    rate_tracker = RateLimitTracker(\n",
    "        initial_workers=initial_workers, \n",
    "        min_workers=min_workers, \n",
    "        max_workers=max_workers\n",
    "    )\n",
    "    \n",
    "    print(f\"🚀 Starting transcription of {len(images)} images...\")\n",
    "    print(f\"📊 Model: {model}\")\n",
    "    print(f\"⚙️  Workers: {initial_workers} (range: {min_workers}-{max_workers})\")\n",
    "    \n",
    "    with ThreadPoolExecutor(max_workers=max_workers) as executor:\n",
    "        with tqdm(total=len(images), desc=\"Processing images\", unit=\"img\") as pbar:\n",
    "            \n",
    "            remaining_items = list(images.items())\n",
    "            \n",
    "            while remaining_items:\n",
    "                # Submit batch based on current worker count\n",
    "                batch_size = min(rate_tracker.current_workers, len(remaining_items))\n",
    "                current_batch = remaining_items[:batch_size]\n",
    "                remaining_items = remaining_items[batch_size:]\n",
    "                \n",
    "                # Submit current batch\n",
    "                futures = {\n",
    "                    executor.submit(process_single_image, prompt, img_data, idx, \n",
    "                                  databricks_token, databricks_url, model, rate_tracker): idx\n",
    "                    for idx, img_data in current_batch\n",
    "                }\n",
    "                \n",
    "                # Process batch results\n",
    "                for future in as_completed(futures):\n",
    "                    try:\n",
    "                        image_index, result = future.result()\n",
    "                        results[image_index] = result\n",
    "                        \n",
    "                        # Update progress bar with status and current worker count\n",
    "                        if result.startswith(\"ERROR:\"):\n",
    "                            pbar.set_postfix({\n",
    "                                \"Last\": f\"❌ {image_index}\", \n",
    "                                \"Workers\": rate_tracker.current_workers,\n",
    "                                \"Rate Limits\": len(rate_tracker.rate_limit_events)\n",
    "                            })\n",
    "                        else:\n",
    "                            pbar.set_postfix({\n",
    "                                \"Last\": f\"✅ {image_index}\", \n",
    "                                \"Workers\": rate_tracker.current_workers,\n",
    "                                \"Rate Limits\": len(rate_tracker.rate_limit_events)\n",
    "                            })\n",
    "                        \n",
    "                    except Exception as e:\n",
    "                        idx = futures[future]\n",
    "                        results[idx] = f\"ERROR: Exception - {str(e)}\"\n",
    "                        pbar.set_postfix({\n",
    "                            \"Last\": f\"❌ {idx} (Exception)\", \n",
    "                            \"Workers\": rate_tracker.current_workers\n",
    "                        })\n",
    "                        print(f\"❌ EXCEPTION: Image {idx} failed with exception: {str(e)}\")\n",
    "                    \n",
    "                    pbar.update(1)\n",
    "                \n",
    "                # Small delay between batches if we have more to process\n",
    "                if remaining_items:\n",
    "                    time.sleep(0.2)  # Small delay to prevent overwhelming\n",
    "    \n",
    "    # Final summary statistics\n",
    "    error_count = sum(1 for result in results if str(result).startswith(\"ERROR:\"))\n",
    "    success_count = len(results) - error_count\n",
    "    \n",
    "    print(f\"\\n📈 Llama 4 Transcription Summary:\")\n",
    "    print(f\"   ✅ Successful: {success_count}/{len(results)}\")\n",
    "    print(f\"   ❌ Failed: {error_count}/{len(results)}\")\n",
    "    print(f\"   📊 Success rate: {(success_count/len(results)*100):.1f}%\")\n",
    "    print(f\"   🔧 Final worker count: {rate_tracker.current_workers}\")\n",
    "    print(f\"   ⚠️  Total rate limit events: {len(rate_tracker.rate_limit_events)}\")\n",
    "    \n",
    "    return results"
   ]
  },
  {
   "cell_type": "markdown",
   "metadata": {
    "application/vnd.databricks.v1+cell": {
     "cellMetadata": {
      "byteLimit": 2048000,
      "rowLimit": 10000
     },
     "inputWidgets": {},
     "nuid": "ffb93f86-4251-4a13-91c7-08db80884d99",
     "showTitle": false,
     "tableResultSettingsMap": {},
     "title": ""
    }
   },
   "source": [
    "Tweak your prompt based on document content as needed."
   ]
  },
  {
   "cell_type": "code",
   "execution_count": 0,
   "metadata": {
    "application/vnd.databricks.v1+cell": {
     "cellMetadata": {
      "byteLimit": 2048000,
      "rowLimit": 10000
     },
     "inputWidgets": {},
     "nuid": "6a1a508f-2876-40fa-94a9-0d6d3509148f",
     "showTitle": false,
     "tableResultSettingsMap": {},
     "title": ""
    }
   },
   "outputs": [],
   "source": [
    "\n",
    "    # Define the prompt\n",
    "PROMPT = \"\"\"\n",
    "Instructions: Transcribe only the visible text from this PDF page. \n",
    "Rules:\n",
    "- Use markdown formatting only for text that appears formatted in the original\n",
    "- Do not add document titles, page headers, or section headings unless explicitly visible\n",
    "- Do not add introductory text like 'This page contains...' or 'The document shows...' or '# Transcription of PDF Page'\n",
    "- Preserve exact wording and technical terminology\n",
    "- For images/diagrams: describe content within <figure></figure> tags\n",
    "- For tables: use markdown table format if present\n",
    "- Start transcription immediately without preamble\n",
    "For visual elements, follow these rules:\n",
    "**TABLES**: If the content is clearly a structured table, provide BOTH:\n",
    "1. A detailed caption in <figure></figure> tags describing the table structure and content\n",
    "2. The actual table recreated in markdown format with proper alignment\n",
    "**FLOWCHARTS/DECISION TREES**: Provide detailed caption in <figure></figure> tags including:\n",
    "- Starting point and decision criteria\n",
    "- All pathways and decision branches\n",
    "- Specific thresholds, values, and conditions\n",
    "- Final outcomes and recommendations\n",
    "- Flow direction and logical connections\n",
    "**CHARTS/DIAGRAMS**: Provide detailed caption in <figure></figure> tags including:\n",
    "- Chart type and title\n",
    "- All categories, sections, and color coding\n",
    "- Specific values, ranges, and criteria\n",
    "- Evidence levels and recommendations\n",
    "- Visual organization and groupings\n",
    "**FORMS/CHECKLISTS**: Transcribe structure using markdown formatting, preserving:\n",
    "- Section headers and numbering\n",
    "- Checkbox options and rating scales\n",
    "- Please bold the Key in Key-Value Pairs in the form, e.g. **Name **: John Doe.\n",
    "Preserve exact technical terminology, drug names, dosages, and clinical criteria for diagnostic accuracy.\n",
    "This transcription will be used for technical diagnosis, so accuracy is critical.\n",
    "\"\"\""
   ]
  },
  {
   "cell_type": "code",
   "execution_count": 0,
   "metadata": {
    "application/vnd.databricks.v1+cell": {
     "cellMetadata": {
      "byteLimit": 2048000,
      "rowLimit": 10000
     },
     "inputWidgets": {},
     "nuid": "c4f1b6ae-b3f6-4ae0-af34-5559895c21eb",
     "showTitle": false,
     "tableResultSettingsMap": {},
     "title": ""
    }
   },
   "outputs": [],
   "source": [
    "def process_multiple_pdfs(pdf_directory, output_catalog, prompt=PROMPT, processing_mode=\"combined\", \n",
    "                         dpi=300, model=\"databricks-llama-4-maverick\", initial_workers=5, \n",
    "                         min_workers=1, max_workers=10):\n",
    "    \"\"\"\n",
    "    Process all PDFs in a directory.\n",
    "    \n",
    "    Args:\n",
    "        pdf_directory: Directory containing PDF files\n",
    "        output_catalog: Catalog.schema for output tables\n",
    "        processing_mode: \"combined\" or \"separate\"\n",
    "        dpi: Image resolution\n",
    "        model: LLM model to use\n",
    "    \"\"\"\n",
    "    \n",
    "    # Discover PDF files\n",
    "    pdf_files = get_pdf_files(pdf_directory)\n",
    "    \n",
    "    if not pdf_files:\n",
    "        print(\"No PDF files found. Exiting.\")\n",
    "        return\n",
    "    \n",
    "    print(f\"\\n🚀 Starting batch processing of {len(pdf_files)} PDFs\")\n",
    "    print(f\"📊 Processing mode: {processing_mode}\")\n",
    "    print(f\"🎯 Output catalog: {output_catalog}\")\n",
    "    \n",
    "    # Initialize tracking variables\n",
    "    total_files = len(pdf_files)\n",
    "    successful_files = 0\n",
    "    failed_files = 0\n",
    "    total_pages_processed = 0\n",
    "    all_results = []\n",
    "    processing_log = []\n",
    "    \n",
    "    # Process each PDF\n",
    "    for file_idx, pdf_path in enumerate(pdf_files, 1):\n",
    "        file_name = os.path.basename(pdf_path)\n",
    "        clean_doc_name = get_clean_doc_name(pdf_path)\n",
    "        \n",
    "        print(f\"\\n{'='*60}\")\n",
    "        print(f\"📄 Processing file {file_idx}/{total_files}: {file_name}\")\n",
    "        print(f\"{'='*60}\")\n",
    "        \n",
    "        file_start_time = time.time()\n",
    "        \n",
    "        try:\n",
    "            # Convert PDF to base64 images\n",
    "            df, success, error = convert_pdf_to_base64(pdf_path, dpi=dpi)\n",
    "            \n",
    "            if not success:\n",
    "                failed_files += 1\n",
    "                processing_log.append({\n",
    "                    'file_name': file_name,\n",
    "                    'status': 'FAILED_CONVERSION',\n",
    "                    'error': error,\n",
    "                    'pages_processed': 0,\n",
    "                    'processing_time': time.time() - file_start_time\n",
    "                })\n",
    "                continue\n",
    "            \n",
    "            # Save intermediate results\n",
    "            if processing_mode == \"combined\":\n",
    "                intermediate_table = f\"{output_catalog}.all_pdfs_parsed_intermediate\"\n",
    "                save_mode = \"append\" if file_idx > 1 else \"overwrite\"\n",
    "            else:\n",
    "                intermediate_table = f\"{output_catalog}.{clean_doc_name}_parsed_intermediate\"\n",
    "                save_mode = \"overwrite\"\n",
    "                \n",
    "            save_to_unity_catalog(df, intermediate_table, mode=save_mode)\n",
    "            \n",
    "            # Process images with LLM\n",
    "            print(f\"🤖 Starting LLM processing for {len(df)} pages...\")\n",
    "            \n",
    "            # Process with adaptive rate limiting\n",
    "            results_series = process_images_adaptive(\n",
    "                prompt=prompt,\n",
    "                images=df['base64_img'],\n",
    "                databricks_token=DATABRICKS_TOKEN,\n",
    "                databricks_url=DATABRICKS_BASE_URL,\n",
    "                model=model,\n",
    "                initial_workers=initial_workers,\n",
    "                min_workers=min_workers,\n",
    "                max_workers=max_workers\n",
    "            )\n",
    "            \n",
    "            # Add transcription results to dataframe\n",
    "            df['transcription'] = results_series\n",
    "            \n",
    "            # Count successful transcriptions\n",
    "            error_count = sum(1 for result in results_series if str(result).startswith(\"ERROR:\"))\n",
    "            success_count = len(results_series) - error_count\n",
    "            \n",
    "            # Save final results\n",
    "            if processing_mode == \"combined\":\n",
    "                final_table = f\"{output_catalog}.all_pdfs_parsed\"\n",
    "                save_mode = \"append\" if file_idx > 1 else \"overwrite\"\n",
    "            else:\n",
    "                final_table = f\"{output_catalog}.{clean_doc_name}_parsed\"\n",
    "                save_mode = \"overwrite\"\n",
    "                \n",
    "            save_success = save_to_unity_catalog(df, final_table, mode=save_mode)\n",
    "            \n",
    "            if save_success:\n",
    "                successful_files += 1\n",
    "                total_pages_processed += len(df)\n",
    "                all_results.append(df)\n",
    "                \n",
    "                file_processing_time = time.time() - file_start_time\n",
    "                \n",
    "                processing_log.append({\n",
    "                    'file_name': file_name,\n",
    "                    'status': 'SUCCESS',\n",
    "                    'pages_processed': len(df),\n",
    "                    'successful_transcriptions': success_count,\n",
    "                    'failed_transcriptions': error_count,\n",
    "                    'processing_time': file_processing_time,\n",
    "                    'final_table': final_table\n",
    "                })\n",
    "                \n",
    "                print(f\"✅ File completed successfully:\")\n",
    "                print(f\"   📊 Pages: {len(df)}\")\n",
    "                print(f\"   ✅ Successful transcriptions: {success_count}\")\n",
    "                print(f\"   ❌ Failed transcriptions: {error_count}\")\n",
    "                print(f\"   ⏱️  Processing time: {file_processing_time:.1f}s\")\n",
    "                print(f\"   💾 Saved to: {final_table}\")\n",
    "            else:\n",
    "                failed_files += 1\n",
    "                processing_log.append({\n",
    "                    'file_name': file_name,\n",
    "                    'status': 'FAILED_SAVE',\n",
    "                    'pages_processed': len(df),\n",
    "                    'processing_time': time.time() - file_start_time\n",
    "                })\n",
    "                \n",
    "        except Exception as e:\n",
    "            failed_files += 1\n",
    "            file_processing_time = time.time() - file_start_time\n",
    "            error_msg = str(e)\n",
    "            \n",
    "            processing_log.append({\n",
    "                'file_name': file_name,\n",
    "                'status': 'FAILED_EXCEPTION',\n",
    "                'error': error_msg,\n",
    "                'pages_processed': 0,\n",
    "                'processing_time': file_processing_time\n",
    "            })\n",
    "            \n",
    "            print(f\"❌ Failed to process {file_name}: {error_msg}\")\n",
    "    \n",
    "    # Final summary\n",
    "    print(f\"\\n{'='*80}\")\n",
    "    print(f\"🎊 BATCH PROCESSING COMPLETE\")\n",
    "    print(f\"{'='*80}\")\n",
    "    print(f\"📊 Files processed: {successful_files}/{total_files}\")\n",
    "    print(f\"📄 Total pages processed: {total_pages_processed}\")\n",
    "    print(f\"✅ Successful files: {successful_files}\")\n",
    "    print(f\"❌ Failed files: {failed_files}\")\n",
    "    \n",
    "    if processing_mode == \"combined\" and successful_files > 0:\n",
    "        print(f\"💾 All results combined in: {output_catalog}.all_pdfs_parsed\")\n",
    "    \n",
    "    # Show processing log\n",
    "    print(f\"\\n📋 PROCESSING LOG:\")\n",
    "    for log_entry in processing_log:\n",
    "        status_emoji = \"✅\" if log_entry['status'] == 'SUCCESS' else \"❌\"\n",
    "        print(f\"   {status_emoji} {log_entry['file_name']}: {log_entry['status']} \"\n",
    "              f\"({log_entry['pages_processed']} pages, {log_entry['processing_time']:.1f}s)\")\n",
    "        \n",
    "        if 'error' in log_entry:\n",
    "            print(f\"      Error: {log_entry['error']}\")\n",
    "    \n",
    "    return processing_log, all_results"
   ]
  },
  {
   "cell_type": "code",
   "execution_count": 0,
   "metadata": {
    "application/vnd.databricks.v1+cell": {
     "cellMetadata": {
      "byteLimit": 2048000,
      "rowLimit": 10000
     },
     "inputWidgets": {},
     "nuid": "0ad3564f-3046-4630-9582-9f42df423727",
     "showTitle": false,
     "tableResultSettingsMap": {},
     "title": ""
    }
   },
   "outputs": [
    {
     "name": "stdout",
     "output_type": "stream",
     "text": [
      "Found 6 PDF files in /Volumes/tsfrt/gsa/performance\n",
      "  - FY 2024 GSA Annual Performance Plan FY 2022 Report_Final_508.pdf\n",
      "    Path: /Volumes/tsfrt/gsa/performance/FY 2024 GSA Annual Performance Plan FY 2022 Report_Final_508.pdf\n",
      "  - FY-2023-Annual-Performance-Report_FINAL_508-1282025.pdf\n",
      "    Path: /Volumes/tsfrt/gsa/performance/FY-2023-Annual-Performance-Report_FINAL_508-1282025.pdf\n",
      "  - FY-2026-GSA-Annual-Performance-Plan_5-28-25.pdf\n",
      "    Path: /Volumes/tsfrt/gsa/performance/FY-2026-GSA-Annual-Performance-Plan_5-28-25.pdf\n",
      "  - GSA-FY2024-Annual-Performance-Report-Final-508-Jan-2025.pdf\n",
      "    Path: /Volumes/tsfrt/gsa/performance/GSA-FY2024-Annual-Performance-Report-Final-508-Jan-2025.pdf\n",
      "  - GSA_Annual_Performance_Plan_FY_2023_FINAL_508.pdf\n",
      "    Path: /Volumes/tsfrt/gsa/performance/GSA_Annual_Performance_Plan_FY_2023_FINAL_508.pdf\n",
      "  - executive-documents.pdf\n",
      "    Path: /Volumes/tsfrt/gsa/performance/executive-documents.pdf\n",
      "\n",
      "🚀 Starting batch processing of 6 PDFs\n",
      "📊 Processing mode: combined\n",
      "🎯 Output catalog: tsfrt.gsa\n",
      "\n",
      "============================================================\n",
      "📄 Processing file 1/6: FY 2024 GSA Annual Performance Plan FY 2022 Report_Final_508.pdf\n",
      "============================================================\n",
      "Converting FY 2024 GSA Annual Performance Plan FY 2022 Report_Final_508.pdf to base64: 91 pages at 150 DPI...\n",
      "  Converting page 1/91 to base64\n",
      "  Converting page 26/91 to base64\n",
      "  Converting page 51/91 to base64\n",
      "  Converting page 76/91 to base64\n",
      "  Conversion complete: 91 pages in 5.5s\n",
      "✅ Saved 91 records to: tsfrt.gsa.all_pdfs_parsed_intermediate\n",
      "🤖 Starting LLM processing for 91 pages...\n",
      "🚀 Starting transcription of 91 images...\n",
      "📊 Model: databricks-llama-4-maverick\n",
      "⚙️  Workers: 3 (range: 1-3)\n"
     ]
    },
    {
     "name": "stderr",
     "output_type": "stream",
     "text": [
      "\rProcessing images:   0%|          | 0/91 [00:00<?, ?img/s]\rProcessing images:   0%|          | 0/91 [00:00<?, ?img/s, Last=❌ 1, Workers=3, Rate Limits=0]\rProcessing images:   1%|          | 1/91 [00:00<01:23,  1.07img/s, Last=❌ 1, Workers=3, Rate Limits=0]\rProcessing images:   1%|          | 1/91 [00:01<01:23,  1.07img/s, Last=❌ 2, Workers=3, Rate Limits=0]"
     ]
    },
    {
     "name": "stdout",
     "output_type": "stream",
     "text": [
      "❌ ERROR: Image 1 failed with non-retryable error: Error code: 400 - {'error_code': 'BAD_REQUEST', 'message': 'Invalid base64 string for image\\n'}\n",
      "❌ ERROR: Image 2 failed with non-retryable error: Error code: 400 - {'error_code': 'BAD_REQUEST', 'message': 'Invalid base64 string for image\\n'}\n"
     ]
    },
    {
     "name": "stderr",
     "output_type": "stream",
     "text": [
      "\rProcessing images:   2%|▏         | 2/91 [00:01<01:22,  1.07img/s, Last=❌ 0, Workers=3, Rate Limits=0]\rProcessing images:   3%|▎         | 3/91 [00:01<00:28,  3.12img/s, Last=❌ 0, Workers=3, Rate Limits=0]"
     ]
    },
    {
     "name": "stdout",
     "output_type": "stream",
     "text": [
      "❌ ERROR: Image 0 failed with non-retryable error: Error code: 400 - {'error_code': 'BAD_REQUEST', 'message': 'Invalid base64 string for image\\n'}\n"
     ]
    },
    {
     "name": "stderr",
     "output_type": "stream",
     "text": [
      "\rProcessing images:   3%|▎         | 3/91 [00:02<00:28,  3.12img/s, Last=❌ 3, Workers=3, Rate Limits=0]\rProcessing images:   4%|▍         | 4/91 [00:02<00:50,  1.72img/s, Last=❌ 3, Workers=3, Rate Limits=0]\rProcessing images:   4%|▍         | 4/91 [00:02<00:50,  1.72img/s, Last=❌ 4, Workers=3, Rate Limits=0]\rProcessing images:   5%|▌         | 5/91 [00:02<00:50,  1.72img/s, Last=❌ 5, Workers=3, Rate Limits=0]"
     ]
    },
    {
     "name": "stdout",
     "output_type": "stream",
     "text": [
      "❌ ERROR: Image 3 failed with non-retryable error: Error code: 400 - {'error_code': 'BAD_REQUEST', 'message': 'Invalid base64 string for image\\n'}\n",
      "❌ ERROR: Image 4 failed with non-retryable error: Error code: 400 - {'error_code': 'BAD_REQUEST', 'message': 'Invalid base64 string for image\\n'}\n",
      "❌ ERROR: Image 5 failed with non-retryable error: Error code: 400 - {'error_code': 'BAD_REQUEST', 'message': 'Invalid base64 string for image\\n'}\n"
     ]
    },
    {
     "name": "stderr",
     "output_type": "stream",
     "text": [
      "\rProcessing images:   7%|▋         | 6/91 [00:03<00:49,  1.72img/s, Last=❌ 7, Workers=3, Rate Limits=0]\rProcessing images:   8%|▊         | 7/91 [00:03<00:36,  2.30img/s, Last=❌ 7, Workers=3, Rate Limits=0]\rProcessing images:   8%|▊         | 7/91 [00:03<00:36,  2.30img/s, Last=❌ 6, Workers=3, Rate Limits=0]\rProcessing images:   9%|▉         | 8/91 [00:03<00:30,  2.70img/s, Last=❌ 6, Workers=3, Rate Limits=0]"
     ]
    },
    {
     "name": "stdout",
     "output_type": "stream",
     "text": [
      "❌ ERROR: Image 7 failed with non-retryable error: Error code: 400 - {'error_code': 'BAD_REQUEST', 'message': 'Invalid base64 string for image\\n'}\n",
      "❌ ERROR: Image 6 failed with non-retryable error: Error code: 400 - {'error_code': 'BAD_REQUEST', 'message': 'Invalid base64 string for image\\n'}\n"
     ]
    },
    {
     "name": "stderr",
     "output_type": "stream",
     "text": [
      "\rProcessing images:   9%|▉         | 8/91 [00:03<00:30,  2.70img/s, Last=❌ 8, Workers=3, Rate Limits=0]\rProcessing images:  10%|▉         | 9/91 [00:03<00:27,  3.02img/s, Last=❌ 8, Workers=3, Rate Limits=0]"
     ]
    },
    {
     "name": "stdout",
     "output_type": "stream",
     "text": [
      "❌ ERROR: Image 8 failed with non-retryable error: Error code: 400 - {'error_code': 'BAD_REQUEST', 'message': 'Invalid base64 string for image\\n'}\n"
     ]
    },
    {
     "name": "stderr",
     "output_type": "stream",
     "text": [
      "\rProcessing images:  10%|▉         | 9/91 [00:04<00:27,  3.02img/s, Last=❌ 11, Workers=3, Rate Limits=0]\rProcessing images:  11%|█         | 10/91 [00:04<00:40,  2.00img/s, Last=❌ 11, Workers=3, Rate Limits=0]\rProcessing images:  11%|█         | 10/91 [00:04<00:40,  2.00img/s, Last=❌ 9, Workers=3, Rate Limits=0] \rProcessing images:  12%|█▏        | 11/91 [00:04<00:33,  2.38img/s, Last=❌ 9, Workers=3, Rate Limits=0]"
     ]
    },
    {
     "name": "stdout",
     "output_type": "stream",
     "text": [
      "❌ ERROR: Image 11 failed with non-retryable error: Error code: 400 - {'error_code': 'BAD_REQUEST', 'message': 'Invalid base64 string for image\\n'}\n",
      "❌ ERROR: Image 9 failed with non-retryable error: Error code: 400 - {'error_code': 'BAD_REQUEST', 'message': 'Invalid base64 string for image\\n'}\n"
     ]
    },
    {
     "name": "stderr",
     "output_type": "stream",
     "text": [
      "\rProcessing images:  12%|█▏        | 11/91 [00:04<00:33,  2.38img/s, Last=❌ 10, Workers=3, Rate Limits=0]"
     ]
    },
    {
     "name": "stdout",
     "output_type": "stream",
     "text": [
      "❌ ERROR: Image 10 failed with non-retryable error: Error code: 400 - {'error_code': 'BAD_REQUEST', 'message': 'Invalid base64 string for image\\n'}\n"
     ]
    },
    {
     "name": "stderr",
     "output_type": "stream",
     "text": [
      "\rProcessing images:  13%|█▎        | 12/91 [00:05<00:33,  2.38img/s, Last=❌ 14, Workers=3, Rate Limits=0]\rProcessing images:  14%|█▍        | 13/91 [00:05<00:37,  2.08img/s, Last=❌ 14, Workers=3, Rate Limits=0]\rProcessing images:  14%|█▍        | 13/91 [00:06<00:37,  2.08img/s, Last=❌ 12, Workers=3, Rate Limits=0]\rProcessing images:  15%|█▌        | 14/91 [00:06<00:31,  2.48img/s, Last=❌ 12, Workers=3, Rate Limits=0]\rProcessing images:  15%|█▌        | 14/91 [00:06<00:31,  2.48img/s, Last=❌ 13, Workers=3, Rate Limits=0]"
     ]
    },
    {
     "name": "stdout",
     "output_type": "stream",
     "text": [
      "❌ ERROR: Image 14 failed with non-retryable error: Error code: 400 - {'error_code': 'BAD_REQUEST', 'message': 'Invalid base64 string for image\\n'}\n",
      "❌ ERROR: Image 12 failed with non-retryable error: Error code: 400 - {'error_code': 'BAD_REQUEST', 'message': 'Invalid base64 string for image\\n'}\n",
      "❌ ERROR: Image 13 failed with non-retryable error: Error code: 400 - {'error_code': 'BAD_REQUEST', 'message': 'Invalid base64 string for image\\n'}\n"
     ]
    },
    {
     "name": "stderr",
     "output_type": "stream",
     "text": [
      "\rProcessing images:  16%|█▋        | 15/91 [00:07<00:30,  2.48img/s, Last=❌ 17, Workers=3, Rate Limits=0]\rProcessing images:  18%|█▊        | 16/91 [00:07<00:33,  2.25img/s, Last=❌ 17, Workers=3, Rate Limits=0]"
     ]
    },
    {
     "name": "stdout",
     "output_type": "stream",
     "text": [
      "❌ ERROR: Image 17 failed with non-retryable error: Error code: 400 - {'error_code': 'BAD_REQUEST', 'message': 'Invalid base64 string for image\\n'}\n"
     ]
    },
    {
     "name": "stderr",
     "output_type": "stream",
     "text": [
      "\rProcessing images:  18%|█▊        | 16/91 [00:07<00:33,  2.25img/s, Last=❌ 16, Workers=3, Rate Limits=0]\rProcessing images:  19%|█▊        | 17/91 [00:07<00:30,  2.41img/s, Last=❌ 16, Workers=3, Rate Limits=0]\rProcessing images:  19%|█▊        | 17/91 [00:07<00:30,  2.41img/s, Last=❌ 15, Workers=3, Rate Limits=0]"
     ]
    },
    {
     "name": "stdout",
     "output_type": "stream",
     "text": [
      "❌ ERROR: Image 16 failed with non-retryable error: Error code: 400 - {'error_code': 'BAD_REQUEST', 'message': 'Invalid base64 string for image\\n'}\n",
      "❌ ERROR: Image 15 failed with non-retryable error: Error code: 400 - {'error_code': 'BAD_REQUEST', 'message': 'Invalid base64 string for image\\n'}\n"
     ]
    },
    {
     "name": "stderr",
     "output_type": "stream",
     "text": [
      "\rProcessing images:  20%|█▉        | 18/91 [00:08<00:30,  2.41img/s, Last=❌ 20, Workers=3, Rate Limits=0]\rProcessing images:  21%|██        | 19/91 [00:08<00:34,  2.08img/s, Last=❌ 20, Workers=3, Rate Limits=0]\rProcessing images:  21%|██        | 19/91 [00:08<00:34,  2.08img/s, Last=❌ 18, Workers=3, Rate Limits=0]\rProcessing images:  22%|██▏       | 20/91 [00:08<00:34,  2.08img/s, Last=❌ 19, Workers=3, Rate Limits=0]"
     ]
    },
    {
     "name": "stdout",
     "output_type": "stream",
     "text": [
      "❌ ERROR: Image 20 failed with non-retryable error: Error code: 400 - {'error_code': 'BAD_REQUEST', 'message': 'Invalid base64 string for image\\n'}\n",
      "❌ ERROR: Image 18 failed with non-retryable error: Error code: 400 - {'error_code': 'BAD_REQUEST', 'message': 'Invalid base64 string for image\\n'}\n",
      "❌ ERROR: Image 19 failed with non-retryable error: Error code: 400 - {'error_code': 'BAD_REQUEST', 'message': 'Invalid base64 string for image\\n'}\n"
     ]
    },
    {
     "name": "stderr",
     "output_type": "stream",
     "text": [
      "\rProcessing images:  23%|██▎       | 21/91 [00:09<00:33,  2.08img/s, Last=❌ 22, Workers=3, Rate Limits=0]\rProcessing images:  24%|██▍       | 22/91 [00:09<00:27,  2.53img/s, Last=❌ 22, Workers=3, Rate Limits=0]\rProcessing images:  24%|██▍       | 22/91 [00:09<00:27,  2.53img/s, Last=❌ 21, Workers=3, Rate Limits=0]\rProcessing images:  25%|██▌       | 23/91 [00:09<00:26,  2.53img/s, Last=❌ 23, Workers=3, Rate Limits=0]\rProcessing images:  26%|██▋       | 24/91 [00:09<00:19,  3.42img/s, Last=❌ 23, Workers=3, Rate Limits=0]"
     ]
    },
    {
     "name": "stdout",
     "output_type": "stream",
     "text": [
      "❌ ERROR: Image 22 failed with non-retryable error: Error code: 400 - {'error_code': 'BAD_REQUEST', 'message': 'Invalid base64 string for image\\n'}\n",
      "❌ ERROR: Image 21 failed with non-retryable error: Error code: 400 - {'error_code': 'BAD_REQUEST', 'message': 'Invalid base64 string for image\\n'}\n",
      "❌ ERROR: Image 23 failed with non-retryable error: Error code: 400 - {'error_code': 'BAD_REQUEST', 'message': 'Invalid base64 string for image\\n'}\n"
     ]
    },
    {
     "name": "stderr",
     "output_type": "stream",
     "text": [
      "\rProcessing images:  26%|██▋       | 24/91 [00:10<00:19,  3.42img/s, Last=❌ 24, Workers=3, Rate Limits=0]\rProcessing images:  27%|██▋       | 25/91 [00:10<00:25,  2.61img/s, Last=❌ 24, Workers=3, Rate Limits=0]\rProcessing images:  27%|██▋       | 25/91 [00:10<00:25,  2.61img/s, Last=❌ 25, Workers=3, Rate Limits=0]\rProcessing images:  29%|██▊       | 26/91 [00:10<00:24,  2.61img/s, Last=❌ 26, Workers=3, Rate Limits=0]"
     ]
    },
    {
     "name": "stdout",
     "output_type": "stream",
     "text": [
      "❌ ERROR: Image 24 failed with non-retryable error: Error code: 400 - {'error_code': 'BAD_REQUEST', 'message': 'Invalid base64 string for image\\n'}\n",
      "❌ ERROR: Image 25 failed with non-retryable error: Error code: 400 - {'error_code': 'BAD_REQUEST', 'message': 'Invalid base64 string for image\\n'}\n",
      "❌ ERROR: Image 26 failed with non-retryable error: Error code: 400 - {'error_code': 'BAD_REQUEST', 'message': 'Invalid base64 string for image\\n'}\n"
     ]
    },
    {
     "name": "stderr",
     "output_type": "stream",
     "text": [
      "\rProcessing images:  30%|██▉       | 27/91 [00:11<00:24,  2.61img/s, Last=❌ 28, Workers=3, Rate Limits=0]\rProcessing images:  31%|███       | 28/91 [00:11<00:22,  2.86img/s, Last=❌ 28, Workers=3, Rate Limits=0]\rProcessing images:  31%|███       | 28/91 [00:11<00:22,  2.86img/s, Last=❌ 27, Workers=3, Rate Limits=0]\rProcessing images:  32%|███▏      | 29/91 [00:11<00:21,  2.86img/s, Last=❌ 29, Workers=3, Rate Limits=0]\rProcessing images:  33%|███▎      | 30/91 [00:11<00:16,  3.75img/s, Last=❌ 29, Workers=3, Rate Limits=0]"
     ]
    },
    {
     "name": "stdout",
     "output_type": "stream",
     "text": [
      "❌ ERROR: Image 28 failed with non-retryable error: Error code: 400 - {'error_code': 'BAD_REQUEST', 'message': 'Invalid base64 string for image\\n'}\n",
      "❌ ERROR: Image 27 failed with non-retryable error: Error code: 400 - {'error_code': 'BAD_REQUEST', 'message': 'Invalid base64 string for image\\n'}\n",
      "❌ ERROR: Image 29 failed with non-retryable error: Error code: 400 - {'error_code': 'BAD_REQUEST', 'message': 'Invalid base64 string for image\\n'}\n"
     ]
    },
    {
     "name": "stderr",
     "output_type": "stream",
     "text": [
      "\rProcessing images:  33%|███▎      | 30/91 [00:12<00:16,  3.75img/s, Last=❌ 30, Workers=3, Rate Limits=0]\rProcessing images:  34%|███▍      | 31/91 [00:12<00:21,  2.78img/s, Last=❌ 30, Workers=3, Rate Limits=0]\rProcessing images:  34%|███▍      | 31/91 [00:12<00:21,  2.78img/s, Last=❌ 31, Workers=3, Rate Limits=0]\rProcessing images:  35%|███▌      | 32/91 [00:12<00:21,  2.78img/s, Last=❌ 32, Workers=3, Rate Limits=0]"
     ]
    },
    {
     "name": "stdout",
     "output_type": "stream",
     "text": [
      "❌ ERROR: Image 30 failed with non-retryable error: Error code: 400 - {'error_code': 'BAD_REQUEST', 'message': 'Invalid base64 string for image\\n'}\n",
      "❌ ERROR: Image 31 failed with non-retryable error: Error code: 400 - {'error_code': 'BAD_REQUEST', 'message': 'Invalid base64 string for image\\n'}\n",
      "❌ ERROR: Image 32 failed with non-retryable error: Error code: 400 - {'error_code': 'BAD_REQUEST', 'message': 'Invalid base64 string for image\\n'}\n"
     ]
    },
    {
     "name": "stderr",
     "output_type": "stream",
     "text": [
      "\rProcessing images:  36%|███▋      | 33/91 [00:13<00:20,  2.78img/s, Last=❌ 33, Workers=3, Rate Limits=0]\rProcessing images:  37%|███▋      | 34/91 [00:13<00:18,  3.03img/s, Last=❌ 33, Workers=3, Rate Limits=0]\rProcessing images:  37%|███▋      | 34/91 [00:13<00:18,  3.03img/s, Last=❌ 34, Workers=3, Rate Limits=0]\rProcessing images:  38%|███▊      | 35/91 [00:13<00:18,  3.03img/s, Last=❌ 35, Workers=3, Rate Limits=0]"
     ]
    },
    {
     "name": "stdout",
     "output_type": "stream",
     "text": [
      "❌ ERROR: Image 33 failed with non-retryable error: Error code: 400 - {'error_code': 'BAD_REQUEST', 'message': 'Invalid base64 string for image\\n'}\n",
      "❌ ERROR: Image 34 failed with non-retryable error: Error code: 400 - {'error_code': 'BAD_REQUEST', 'message': 'Invalid base64 string for image\\n'}\n",
      "❌ ERROR: Image 35 failed with non-retryable error: Error code: 400 - {'error_code': 'BAD_REQUEST', 'message': 'Invalid base64 string for image\\n'}\n"
     ]
    },
    {
     "name": "stderr",
     "output_type": "stream",
     "text": [
      "\rProcessing images:  40%|███▉      | 36/91 [00:13<00:18,  3.03img/s, Last=❌ 36, Workers=3, Rate Limits=0]\rProcessing images:  41%|████      | 37/91 [00:13<00:16,  3.24img/s, Last=❌ 36, Workers=3, Rate Limits=0]\rProcessing images:  41%|████      | 37/91 [00:13<00:16,  3.24img/s, Last=❌ 38, Workers=3, Rate Limits=0]\rProcessing images:  42%|████▏     | 38/91 [00:13<00:16,  3.24img/s, Last=❌ 37, Workers=3, Rate Limits=0]"
     ]
    },
    {
     "name": "stdout",
     "output_type": "stream",
     "text": [
      "❌ ERROR: Image 36 failed with non-retryable error: Error code: 400 - {'error_code': 'BAD_REQUEST', 'message': 'Invalid base64 string for image\\n'}\n",
      "❌ ERROR: Image 38 failed with non-retryable error: Error code: 400 - {'error_code': 'BAD_REQUEST', 'message': 'Invalid base64 string for image\\n'}\n",
      "❌ ERROR: Image 37 failed with non-retryable error: Error code: 400 - {'error_code': 'BAD_REQUEST', 'message': 'Invalid base64 string for image\\n'}\n"
     ]
    },
    {
     "name": "stderr",
     "output_type": "stream",
     "text": [
      "\rProcessing images:  43%|████▎     | 39/91 [00:14<00:16,  3.24img/s, Last=❌ 39, Workers=3, Rate Limits=0]\rProcessing images:  44%|████▍     | 40/91 [00:14<00:15,  3.31img/s, Last=❌ 39, Workers=3, Rate Limits=0]\rProcessing images:  44%|████▍     | 40/91 [00:14<00:15,  3.31img/s, Last=❌ 40, Workers=3, Rate Limits=0]\rProcessing images:  45%|████▌     | 41/91 [00:14<00:15,  3.31img/s, Last=❌ 41, Workers=3, Rate Limits=0]\rProcessing images:  46%|████▌     | 42/91 [00:14<00:11,  4.16img/s, Last=❌ 41, Workers=3, Rate Limits=0]"
     ]
    },
    {
     "name": "stdout",
     "output_type": "stream",
     "text": [
      "❌ ERROR: Image 39 failed with non-retryable error: Error code: 400 - {'error_code': 'BAD_REQUEST', 'message': 'Invalid base64 string for image\\n'}\n",
      "❌ ERROR: Image 40 failed with non-retryable error: Error code: 400 - {'error_code': 'BAD_REQUEST', 'message': 'Invalid base64 string for image\\n'}\n",
      "❌ ERROR: Image 41 failed with non-retryable error: Error code: 400 - {'error_code': 'BAD_REQUEST', 'message': 'Invalid base64 string for image\\n'}\n"
     ]
    },
    {
     "name": "stderr",
     "output_type": "stream",
     "text": [
      "\rProcessing images:  46%|████▌     | 42/91 [00:15<00:11,  4.16img/s, Last=❌ 43, Workers=3, Rate Limits=0]\rProcessing images:  47%|████▋     | 43/91 [00:15<00:15,  3.06img/s, Last=❌ 43, Workers=3, Rate Limits=0]\rProcessing images:  47%|████▋     | 43/91 [00:15<00:15,  3.06img/s, Last=❌ 42, Workers=3, Rate Limits=0]\rProcessing images:  48%|████▊     | 44/91 [00:15<00:15,  3.06img/s, Last=❌ 44, Workers=3, Rate Limits=0]"
     ]
    },
    {
     "name": "stdout",
     "output_type": "stream",
     "text": [
      "❌ ERROR: Image 43 failed with non-retryable error: Error code: 400 - {'error_code': 'BAD_REQUEST', 'message': 'Invalid base64 string for image\\n'}\n",
      "❌ ERROR: Image 42 failed with non-retryable error: Error code: 400 - {'error_code': 'BAD_REQUEST', 'message': 'Invalid base64 string for image\\n'}\n",
      "❌ ERROR: Image 44 failed with non-retryable error: Error code: 400 - {'error_code': 'BAD_REQUEST', 'message': 'Invalid base64 string for image\\n'}\n"
     ]
    },
    {
     "name": "stderr",
     "output_type": "stream",
     "text": [
      "\rProcessing images:  49%|████▉     | 45/91 [00:16<00:15,  3.06img/s, Last=❌ 47, Workers=3, Rate Limits=0]\rProcessing images:  51%|█████     | 46/91 [00:16<00:14,  3.21img/s, Last=❌ 47, Workers=3, Rate Limits=0]\rProcessing images:  51%|█████     | 46/91 [00:16<00:14,  3.21img/s, Last=❌ 45, Workers=3, Rate Limits=0]\rProcessing images:  52%|█████▏    | 47/91 [00:16<00:13,  3.21img/s, Last=❌ 46, Workers=3, Rate Limits=0]"
     ]
    },
    {
     "name": "stdout",
     "output_type": "stream",
     "text": [
      "❌ ERROR: Image 47 failed with non-retryable error: Error code: 400 - {'error_code': 'BAD_REQUEST', 'message': 'Invalid base64 string for image\\n'}\n",
      "❌ ERROR: Image 45 failed with non-retryable error: Error code: 400 - {'error_code': 'BAD_REQUEST', 'message': 'Invalid base64 string for image\\n'}\n",
      "❌ ERROR: Image 46 failed with non-retryable error: Error code: 400 - {'error_code': 'BAD_REQUEST', 'message': 'Invalid base64 string for image\\n'}\n"
     ]
    },
    {
     "name": "stderr",
     "output_type": "stream",
     "text": [
      "\rProcessing images:  53%|█████▎    | 48/91 [00:17<00:13,  3.21img/s, Last=❌ 48, Workers=3, Rate Limits=0]\rProcessing images:  54%|█████▍    | 49/91 [00:17<00:12,  3.37img/s, Last=❌ 48, Workers=3, Rate Limits=0]"
     ]
    },
    {
     "name": "stdout",
     "output_type": "stream",
     "text": [
      "❌ ERROR: Image 48 failed with non-retryable error: Error code: 400 - {'error_code': 'BAD_REQUEST', 'message': 'Invalid base64 string for image\\n'}\n"
     ]
    },
    {
     "name": "stderr",
     "output_type": "stream",
     "text": [
      "\rProcessing images:  54%|█████▍    | 49/91 [00:17<00:12,  3.37img/s, Last=❌ 50, Workers=3, Rate Limits=0]\rProcessing images:  55%|█████▍    | 50/91 [00:17<00:13,  3.04img/s, Last=❌ 50, Workers=3, Rate Limits=0]\rProcessing images:  55%|█████▍    | 50/91 [00:17<00:13,  3.04img/s, Last=❌ 49, Workers=3, Rate Limits=0]\rProcessing images:  56%|█████▌    | 51/91 [00:17<00:11,  3.45img/s, Last=❌ 49, Workers=3, Rate Limits=0]"
     ]
    },
    {
     "name": "stdout",
     "output_type": "stream",
     "text": [
      "❌ ERROR: Image 50 failed with non-retryable error: Error code: 400 - {'error_code': 'BAD_REQUEST', 'message': 'Invalid base64 string for image\\n'}\n",
      "❌ ERROR: Image 49 failed with non-retryable error: Error code: 400 - {'error_code': 'BAD_REQUEST', 'message': 'Invalid base64 string for image\\n'}\n"
     ]
    },
    {
     "name": "stderr",
     "output_type": "stream",
     "text": [
      "\rProcessing images:  56%|█████▌    | 51/91 [00:18<00:11,  3.45img/s, Last=❌ 52, Workers=3, Rate Limits=0]\rProcessing images:  57%|█████▋    | 52/91 [00:18<00:15,  2.53img/s, Last=❌ 52, Workers=3, Rate Limits=0]\rProcessing images:  57%|█████▋    | 52/91 [00:18<00:15,  2.53img/s, Last=❌ 51, Workers=3, Rate Limits=0]\rProcessing images:  58%|█████▊    | 53/91 [00:18<00:14,  2.53img/s, Last=❌ 53, Workers=3, Rate Limits=0]"
     ]
    },
    {
     "name": "stdout",
     "output_type": "stream",
     "text": [
      "❌ ERROR: Image 52 failed with non-retryable error: Error code: 400 - {'error_code': 'BAD_REQUEST', 'message': 'Invalid base64 string for image\\n'}\n",
      "❌ ERROR: Image 51 failed with non-retryable error: Error code: 400 - {'error_code': 'BAD_REQUEST', 'message': 'Invalid base64 string for image\\n'}\n",
      "❌ ERROR: Image 53 failed with non-retryable error: Error code: 400 - {'error_code': 'BAD_REQUEST', 'message': 'Invalid base64 string for image\\n'}\n"
     ]
    },
    {
     "name": "stderr",
     "output_type": "stream",
     "text": [
      "\rProcessing images:  59%|█████▉    | 54/91 [00:19<00:14,  2.53img/s, Last=❌ 56, Workers=3, Rate Limits=0]\rProcessing images:  60%|██████    | 55/91 [00:19<00:12,  2.90img/s, Last=❌ 56, Workers=3, Rate Limits=0]\rProcessing images:  60%|██████    | 55/91 [00:19<00:12,  2.90img/s, Last=❌ 55, Workers=3, Rate Limits=0]\rProcessing images:  62%|██████▏   | 56/91 [00:19<00:12,  2.90img/s, Last=❌ 54, Workers=3, Rate Limits=0]"
     ]
    },
    {
     "name": "stdout",
     "output_type": "stream",
     "text": [
      "❌ ERROR: Image 56 failed with non-retryable error: Error code: 400 - {'error_code': 'BAD_REQUEST', 'message': 'Invalid base64 string for image\\n'}\n",
      "❌ ERROR: Image 55 failed with non-retryable error: Error code: 400 - {'error_code': 'BAD_REQUEST', 'message': 'Invalid base64 string for image\\n'}\n",
      "❌ ERROR: Image 54 failed with non-retryable error: Error code: 400 - {'error_code': 'BAD_REQUEST', 'message': 'Invalid base64 string for image\\n'}\n"
     ]
    },
    {
     "name": "stderr",
     "output_type": "stream",
     "text": [
      "\rProcessing images:  63%|██████▎   | 57/91 [00:20<00:11,  2.90img/s, Last=❌ 57, Workers=3, Rate Limits=0]\rProcessing images:  64%|██████▎   | 58/91 [00:20<00:10,  3.11img/s, Last=❌ 57, Workers=3, Rate Limits=0]\rProcessing images:  64%|██████▎   | 58/91 [00:20<00:10,  3.11img/s, Last=❌ 59, Workers=3, Rate Limits=0]\rProcessing images:  65%|██████▍   | 59/91 [00:20<00:10,  3.11img/s, Last=❌ 58, Workers=3, Rate Limits=0]"
     ]
    },
    {
     "name": "stdout",
     "output_type": "stream",
     "text": [
      "❌ ERROR: Image 57 failed with non-retryable error: Error code: 400 - {'error_code': 'BAD_REQUEST', 'message': 'Invalid base64 string for image\\n'}\n",
      "❌ ERROR: Image 59 failed with non-retryable error: Error code: 400 - {'error_code': 'BAD_REQUEST', 'message': 'Invalid base64 string for image\\n'}\n",
      "❌ ERROR: Image 58 failed with non-retryable error: Error code: 400 - {'error_code': 'BAD_REQUEST', 'message': 'Invalid base64 string for image\\n'}\n"
     ]
    },
    {
     "name": "stderr",
     "output_type": "stream",
     "text": [
      "\rProcessing images:  66%|██████▌   | 60/91 [00:21<00:09,  3.11img/s, Last=❌ 61, Workers=3, Rate Limits=0]\rProcessing images:  67%|██████▋   | 61/91 [00:21<00:09,  3.15img/s, Last=❌ 61, Workers=3, Rate Limits=0]"
     ]
    },
    {
     "name": "stdout",
     "output_type": "stream",
     "text": [
      "❌ ERROR: Image 61 failed with non-retryable error: Error code: 400 - {'error_code': 'BAD_REQUEST', 'message': 'Invalid base64 string for image\\n'}\n"
     ]
    },
    {
     "name": "stderr",
     "output_type": "stream",
     "text": [
      "\rProcessing images:  67%|██████▋   | 61/91 [00:21<00:09,  3.15img/s, Last=❌ 60, Workers=3, Rate Limits=0]\rProcessing images:  68%|██████▊   | 62/91 [00:21<00:09,  2.98img/s, Last=❌ 60, Workers=3, Rate Limits=0]\rProcessing images:  68%|██████▊   | 62/91 [00:21<00:09,  2.98img/s, Last=❌ 62, Workers=3, Rate Limits=0]"
     ]
    },
    {
     "name": "stdout",
     "output_type": "stream",
     "text": [
      "❌ ERROR: Image 60 failed with non-retryable error: Error code: 400 - {'error_code': 'BAD_REQUEST', 'message': 'Invalid base64 string for image\\n'}\n",
      "❌ ERROR: Image 62 failed with non-retryable error: Error code: 400 - {'error_code': 'BAD_REQUEST', 'message': 'Invalid base64 string for image\\n'}\n"
     ]
    },
    {
     "name": "stderr",
     "output_type": "stream",
     "text": [
      "\rProcessing images:  69%|██████▉   | 63/91 [00:22<00:09,  2.98img/s, Last=❌ 64, Workers=3, Rate Limits=0]\rProcessing images:  70%|███████   | 64/91 [00:22<00:09,  2.82img/s, Last=❌ 64, Workers=3, Rate Limits=0]\rProcessing images:  70%|███████   | 64/91 [00:22<00:09,  2.82img/s, Last=❌ 65, Workers=3, Rate Limits=0]\rProcessing images:  71%|███████▏  | 65/91 [00:22<00:09,  2.82img/s, Last=❌ 63, Workers=3, Rate Limits=0]"
     ]
    },
    {
     "name": "stdout",
     "output_type": "stream",
     "text": [
      "❌ ERROR: Image 64 failed with non-retryable error: Error code: 400 - {'error_code': 'BAD_REQUEST', 'message': 'Invalid base64 string for image\\n'}\n",
      "❌ ERROR: Image 65 failed with non-retryable error: Error code: 400 - {'error_code': 'BAD_REQUEST', 'message': 'Invalid base64 string for image\\n'}\n",
      "❌ ERROR: Image 63 failed with non-retryable error: Error code: 400 - {'error_code': 'BAD_REQUEST', 'message': 'Invalid base64 string for image\\n'}\n"
     ]
    },
    {
     "name": "stderr",
     "output_type": "stream",
     "text": [
      "\rProcessing images:  73%|███████▎  | 66/91 [00:23<00:08,  2.82img/s, Last=❌ 66, Workers=3, Rate Limits=0]\rProcessing images:  74%|███████▎  | 67/91 [00:23<00:07,  3.11img/s, Last=❌ 66, Workers=3, Rate Limits=0]\rProcessing images:  74%|███████▎  | 67/91 [00:23<00:07,  3.11img/s, Last=❌ 67, Workers=3, Rate Limits=0]\rProcessing images:  75%|███████▍  | 68/91 [00:23<00:07,  3.11img/s, Last=❌ 68, Workers=3, Rate Limits=0]\rProcessing images:  76%|███████▌  | 69/91 [00:23<00:05,  3.93img/s, Last=❌ 68, Workers=3, Rate Limits=0]"
     ]
    },
    {
     "name": "stdout",
     "output_type": "stream",
     "text": [
      "❌ ERROR: Image 66 failed with non-retryable error: Error code: 400 - {'error_code': 'BAD_REQUEST', 'message': 'Invalid base64 string for image\\n'}\n",
      "❌ ERROR: Image 67 failed with non-retryable error: Error code: 400 - {'error_code': 'BAD_REQUEST', 'message': 'Invalid base64 string for image\\n'}\n",
      "❌ ERROR: Image 68 failed with non-retryable error: Error code: 400 - {'error_code': 'BAD_REQUEST', 'message': 'Invalid base64 string for image\\n'}\n"
     ]
    },
    {
     "name": "stderr",
     "output_type": "stream",
     "text": [
      "\rProcessing images:  76%|███████▌  | 69/91 [00:24<00:05,  3.93img/s, Last=❌ 70, Workers=3, Rate Limits=0]\rProcessing images:  77%|███████▋  | 70/91 [00:24<00:07,  2.86img/s, Last=❌ 70, Workers=3, Rate Limits=0]\rProcessing images:  77%|███████▋  | 70/91 [00:24<00:07,  2.86img/s, Last=❌ 71, Workers=3, Rate Limits=0]\rProcessing images:  78%|███████▊  | 71/91 [00:24<00:06,  2.86img/s, Last=❌ 69, Workers=3, Rate Limits=0]"
     ]
    },
    {
     "name": "stdout",
     "output_type": "stream",
     "text": [
      "❌ ERROR: Image 70 failed with non-retryable error: Error code: 400 - {'error_code': 'BAD_REQUEST', 'message': 'Invalid base64 string for image\\n'}\n",
      "❌ ERROR: Image 71 failed with non-retryable error: Error code: 400 - {'error_code': 'BAD_REQUEST', 'message': 'Invalid base64 string for image\\n'}\n",
      "❌ ERROR: Image 69 failed with non-retryable error: Error code: 400 - {'error_code': 'BAD_REQUEST', 'message': 'Invalid base64 string for image\\n'}\n"
     ]
    },
    {
     "name": "stderr",
     "output_type": "stream",
     "text": [
      "\rProcessing images:  79%|███████▉  | 72/91 [00:25<00:06,  2.86img/s, Last=❌ 72, Workers=3, Rate Limits=0]\rProcessing images:  80%|████████  | 73/91 [00:25<00:05,  3.14img/s, Last=❌ 72, Workers=3, Rate Limits=0]"
     ]
    },
    {
     "name": "stdout",
     "output_type": "stream",
     "text": [
      "❌ ERROR: Image 72 failed with non-retryable error: Error code: 400 - {'error_code': 'BAD_REQUEST', 'message': 'Invalid base64 string for image\\n'}\n"
     ]
    },
    {
     "name": "stderr",
     "output_type": "stream",
     "text": [
      "\rProcessing images:  80%|████████  | 73/91 [00:25<00:05,  3.14img/s, Last=❌ 74, Workers=3, Rate Limits=0]\rProcessing images:  81%|████████▏ | 74/91 [00:25<00:05,  3.01img/s, Last=❌ 74, Workers=3, Rate Limits=0]\rProcessing images:  81%|████████▏ | 74/91 [00:25<00:05,  3.01img/s, Last=❌ 73, Workers=3, Rate Limits=0]"
     ]
    },
    {
     "name": "stdout",
     "output_type": "stream",
     "text": [
      "❌ ERROR: Image 74 failed with non-retryable error: Error code: 400 - {'error_code': 'BAD_REQUEST', 'message': 'Invalid base64 string for image\\n'}\n",
      "❌ ERROR: Image 73 failed with non-retryable error: Error code: 400 - {'error_code': 'BAD_REQUEST', 'message': 'Invalid base64 string for image\\n'}\n"
     ]
    },
    {
     "name": "stderr",
     "output_type": "stream",
     "text": [
      "\rProcessing images:  82%|████████▏ | 75/91 [00:26<00:05,  3.01img/s, Last=❌ 77, Workers=3, Rate Limits=0]\rProcessing images:  84%|████████▎ | 76/91 [00:26<00:05,  2.67img/s, Last=❌ 77, Workers=3, Rate Limits=0]\rProcessing images:  84%|████████▎ | 76/91 [00:26<00:05,  2.67img/s, Last=❌ 76, Workers=3, Rate Limits=0]\rProcessing images:  85%|████████▍ | 77/91 [00:26<00:05,  2.67img/s, Last=❌ 75, Workers=3, Rate Limits=0]"
     ]
    },
    {
     "name": "stdout",
     "output_type": "stream",
     "text": [
      "❌ ERROR: Image 77 failed with non-retryable error: Error code: 400 - {'error_code': 'BAD_REQUEST', 'message': 'Invalid base64 string for image\\n'}\n",
      "❌ ERROR: Image 76 failed with non-retryable error: Error code: 400 - {'error_code': 'BAD_REQUEST', 'message': 'Invalid base64 string for image\\n'}\n",
      "❌ ERROR: Image 75 failed with non-retryable error: Error code: 400 - {'error_code': 'BAD_REQUEST', 'message': 'Invalid base64 string for image\\n'}\n"
     ]
    },
    {
     "name": "stderr",
     "output_type": "stream",
     "text": [
      "\rProcessing images:  86%|████████▌ | 78/91 [00:27<00:04,  2.67img/s, Last=❌ 79, Workers=3, Rate Limits=0]\rProcessing images:  87%|████████▋ | 79/91 [00:27<00:03,  3.01img/s, Last=❌ 79, Workers=3, Rate Limits=0]\rProcessing images:  87%|████████▋ | 79/91 [00:27<00:03,  3.01img/s, Last=❌ 80, Workers=3, Rate Limits=0]\rProcessing images:  88%|████████▊ | 80/91 [00:27<00:03,  3.01img/s, Last=❌ 78, Workers=3, Rate Limits=0]"
     ]
    },
    {
     "name": "stdout",
     "output_type": "stream",
     "text": [
      "❌ ERROR: Image 79 failed with non-retryable error: Error code: 400 - {'error_code': 'BAD_REQUEST', 'message': 'Invalid base64 string for image\\n'}\n",
      "❌ ERROR: Image 80 failed with non-retryable error: Error code: 400 - {'error_code': 'BAD_REQUEST', 'message': 'Invalid base64 string for image\\n'}\n",
      "❌ ERROR: Image 78 failed with non-retryable error: Error code: 400 - {'error_code': 'BAD_REQUEST', 'message': 'Invalid base64 string for image\\n'}\n"
     ]
    },
    {
     "name": "stderr",
     "output_type": "stream",
     "text": [
      "\rProcessing images:  89%|████████▉ | 81/91 [00:28<00:03,  3.01img/s, Last=❌ 81, Workers=3, Rate Limits=0]\rProcessing images:  90%|█████████ | 82/91 [00:28<00:02,  3.24img/s, Last=❌ 81, Workers=3, Rate Limits=0]\rProcessing images:  90%|█████████ | 82/91 [00:28<00:02,  3.24img/s, Last=❌ 82, Workers=3, Rate Limits=0]"
     ]
    },
    {
     "name": "stdout",
     "output_type": "stream",
     "text": [
      "❌ ERROR: Image 81 failed with non-retryable error: Error code: 400 - {'error_code': 'BAD_REQUEST', 'message': 'Invalid base64 string for image\\n'}\n",
      "❌ ERROR: Image 82 failed with non-retryable error: Error code: 400 - {'error_code': 'BAD_REQUEST', 'message': 'Invalid base64 string for image\\n'}\n"
     ]
    },
    {
     "name": "stderr",
     "output_type": "stream",
     "text": [
      "\rProcessing images:  91%|█████████ | 83/91 [00:28<00:02,  3.24img/s, Last=❌ 83, Workers=3, Rate Limits=0]\rProcessing images:  92%|█████████▏| 84/91 [00:28<00:02,  3.33img/s, Last=❌ 83, Workers=3, Rate Limits=0]"
     ]
    },
    {
     "name": "stdout",
     "output_type": "stream",
     "text": [
      "❌ ERROR: Image 83 failed with non-retryable error: Error code: 400 - {'error_code': 'BAD_REQUEST', 'message': 'Invalid base64 string for image\\n'}\n"
     ]
    },
    {
     "name": "stderr",
     "output_type": "stream",
     "text": [
      "\rProcessing images:  92%|█████████▏| 84/91 [00:29<00:02,  3.33img/s, Last=❌ 85, Workers=3, Rate Limits=0]\rProcessing images:  93%|█████████▎| 85/91 [00:29<00:02,  2.61img/s, Last=❌ 85, Workers=3, Rate Limits=0]\rProcessing images:  93%|█████████▎| 85/91 [00:29<00:02,  2.61img/s, Last=❌ 84, Workers=3, Rate Limits=0]\rProcessing images:  95%|█████████▍| 86/91 [00:29<00:01,  2.61img/s, Last=❌ 86, Workers=3, Rate Limits=0]"
     ]
    },
    {
     "name": "stdout",
     "output_type": "stream",
     "text": [
      "❌ ERROR: Image 85 failed with non-retryable error: Error code: 400 - {'error_code': 'BAD_REQUEST', 'message': 'Invalid base64 string for image\\n'}\n",
      "❌ ERROR: Image 84 failed with non-retryable error: Error code: 400 - {'error_code': 'BAD_REQUEST', 'message': 'Invalid base64 string for image\\n'}\n",
      "❌ ERROR: Image 86 failed with non-retryable error: Error code: 400 - {'error_code': 'BAD_REQUEST', 'message': 'Invalid base64 string for image\\n'}\n"
     ]
    },
    {
     "name": "stderr",
     "output_type": "stream",
     "text": [
      "\rProcessing images:  96%|█████████▌| 87/91 [00:30<00:01,  2.61img/s, Last=❌ 89, Workers=3, Rate Limits=0]\rProcessing images:  97%|█████████▋| 88/91 [00:30<00:01,  2.86img/s, Last=❌ 89, Workers=3, Rate Limits=0]\rProcessing images:  97%|█████████▋| 88/91 [00:30<00:01,  2.86img/s, Last=❌ 87, Workers=3, Rate Limits=0]\rProcessing images:  98%|█████████▊| 89/91 [00:30<00:00,  2.86img/s, Last=❌ 88, Workers=3, Rate Limits=0]"
     ]
    },
    {
     "name": "stdout",
     "output_type": "stream",
     "text": [
      "❌ ERROR: Image 89 failed with non-retryable error: Error code: 400 - {'error_code': 'BAD_REQUEST', 'message': 'Invalid base64 string for image\\n'}\n",
      "❌ ERROR: Image 87 failed with non-retryable error: Error code: 400 - {'error_code': 'BAD_REQUEST', 'message': 'Invalid base64 string for image\\n'}\n",
      "❌ ERROR: Image 88 failed with non-retryable error: Error code: 400 - {'error_code': 'BAD_REQUEST', 'message': 'Invalid base64 string for image\\n'}\n"
     ]
    },
    {
     "name": "stderr",
     "output_type": "stream",
     "text": [
      "\rProcessing images:  99%|█████████▉| 90/91 [00:31<00:00,  2.86img/s, Last=❌ 90, Workers=3, Rate Limits=0]\rProcessing images: 100%|██████████| 91/91 [00:31<00:00,  2.99img/s, Last=❌ 90, Workers=3, Rate Limits=0]\rProcessing images: 100%|██████████| 91/91 [00:31<00:00,  2.89img/s, Last=❌ 90, Workers=3, Rate Limits=0]"
     ]
    },
    {
     "name": "stdout",
     "output_type": "stream",
     "text": [
      "❌ ERROR: Image 90 failed with non-retryable error: Error code: 400 - {'error_code': 'BAD_REQUEST', 'message': 'Invalid base64 string for image\\n'}\n",
      "\n",
      "📈 Llama 4 Transcription Summary:\n",
      "   ✅ Successful: 0/91\n",
      "   ❌ Failed: 91/91\n",
      "   📊 Success rate: 0.0%\n",
      "   🔧 Final worker count: 3\n",
      "   ⚠️  Total rate limit events: 0\n"
     ]
    },
    {
     "name": "stderr",
     "output_type": "stream",
     "text": [
      "\n"
     ]
    },
    {
     "name": "stdout",
     "output_type": "stream",
     "text": [
      "✅ Saved 91 records to: tsfrt.gsa.all_pdfs_parsed\n",
      "✅ File completed successfully:\n",
      "   📊 Pages: 91\n",
      "   ✅ Successful transcriptions: 0\n",
      "   ❌ Failed transcriptions: 91\n",
      "   ⏱️  Processing time: 42.6s\n",
      "   💾 Saved to: tsfrt.gsa.all_pdfs_parsed\n",
      "\n",
      "============================================================\n",
      "📄 Processing file 2/6: FY-2023-Annual-Performance-Report_FINAL_508-1282025.pdf\n",
      "============================================================\n",
      "Converting FY-2023-Annual-Performance-Report_FINAL_508-1282025.pdf to base64: 32 pages at 150 DPI...\n",
      "  Converting page 1/32 to base64\n",
      "  Converting page 26/32 to base64\n",
      "  Conversion complete: 32 pages in 2.0s\n",
      "✅ Saved 32 records to: tsfrt.gsa.all_pdfs_parsed_intermediate\n",
      "🤖 Starting LLM processing for 32 pages...\n",
      "🚀 Starting transcription of 32 images...\n",
      "📊 Model: databricks-llama-4-maverick\n",
      "⚙️  Workers: 3 (range: 1-3)\n"
     ]
    },
    {
     "name": "stderr",
     "output_type": "stream",
     "text": [
      "\rProcessing images:   0%|          | 0/32 [00:00<?, ?img/s]\rProcessing images:   0%|          | 0/32 [00:00<?, ?img/s, Last=❌ 2, Workers=3, Rate Limits=0]\rProcessing images:   3%|▎         | 1/32 [00:00<00:22,  1.38img/s, Last=❌ 2, Workers=3, Rate Limits=0]\rProcessing images:   3%|▎         | 1/32 [00:00<00:22,  1.38img/s, Last=❌ 1, Workers=3, Rate Limits=0]"
     ]
    },
    {
     "name": "stdout",
     "output_type": "stream",
     "text": [
      "❌ ERROR: Image 2 failed with non-retryable error: Error code: 400 - {'error_code': 'BAD_REQUEST', 'message': 'Invalid base64 string for image\\n'}\n",
      "❌ ERROR: Image 1 failed with non-retryable error: Error code: 400 - {'error_code': 'BAD_REQUEST', 'message': 'Invalid base64 string for image\\n'}\n"
     ]
    },
    {
     "name": "stderr",
     "output_type": "stream",
     "text": [
      "\rProcessing images:   6%|▋         | 2/32 [00:00<00:21,  1.38img/s, Last=❌ 0, Workers=3, Rate Limits=0]\rProcessing images:   9%|▉         | 3/32 [00:00<00:07,  3.76img/s, Last=❌ 0, Workers=3, Rate Limits=0]"
     ]
    },
    {
     "name": "stdout",
     "output_type": "stream",
     "text": [
      "❌ ERROR: Image 0 failed with non-retryable error: Error code: 400 - {'error_code': 'BAD_REQUEST', 'message': 'Invalid base64 string for image\\n'}\n"
     ]
    },
    {
     "name": "stderr",
     "output_type": "stream",
     "text": [
      "\rProcessing images:   9%|▉         | 3/32 [00:01<00:07,  3.76img/s, Last=❌ 4, Workers=3, Rate Limits=0]\rProcessing images:  12%|█▎        | 4/32 [00:01<00:13,  2.13img/s, Last=❌ 4, Workers=3, Rate Limits=0]\rProcessing images:  12%|█▎        | 4/32 [00:01<00:13,  2.13img/s, Last=❌ 5, Workers=3, Rate Limits=0]\rProcessing images:  16%|█▌        | 5/32 [00:01<00:12,  2.13img/s, Last=❌ 3, Workers=3, Rate Limits=0]"
     ]
    },
    {
     "name": "stdout",
     "output_type": "stream",
     "text": [
      "❌ ERROR: Image 4 failed with non-retryable error: Error code: 400 - {'error_code': 'BAD_REQUEST', 'message': 'Invalid base64 string for image\\n'}\n",
      "❌ ERROR: Image 5 failed with non-retryable error: Error code: 400 - {'error_code': 'BAD_REQUEST', 'message': 'Invalid base64 string for image\\n'}\n",
      "❌ ERROR: Image 3 failed with non-retryable error: Error code: 400 - {'error_code': 'BAD_REQUEST', 'message': 'Invalid base64 string for image\\n'}\n"
     ]
    },
    {
     "name": "stderr",
     "output_type": "stream",
     "text": [
      "\rProcessing images:  19%|█▉        | 6/32 [00:02<00:12,  2.13img/s, Last=❌ 6, Workers=3, Rate Limits=0]\rProcessing images:  22%|██▏       | 7/32 [00:02<00:09,  2.70img/s, Last=❌ 6, Workers=3, Rate Limits=0]\rProcessing images:  22%|██▏       | 7/32 [00:02<00:09,  2.70img/s, Last=❌ 7, Workers=3, Rate Limits=0]\rProcessing images:  25%|██▌       | 8/32 [00:02<00:08,  2.70img/s, Last=❌ 8, Workers=3, Rate Limits=0]"
     ]
    },
    {
     "name": "stdout",
     "output_type": "stream",
     "text": [
      "❌ ERROR: Image 6 failed with non-retryable error: Error code: 400 - {'error_code': 'BAD_REQUEST', 'message': 'Invalid base64 string for image\\n'}\n",
      "❌ ERROR: Image 7 failed with non-retryable error: Error code: 400 - {'error_code': 'BAD_REQUEST', 'message': 'Invalid base64 string for image\\n'}\n",
      "❌ ERROR: Image 8 failed with non-retryable error: Error code: 400 - {'error_code': 'BAD_REQUEST', 'message': 'Invalid base64 string for image\\n'}\n"
     ]
    },
    {
     "name": "stderr",
     "output_type": "stream",
     "text": [
      "\rProcessing images:  28%|██▊       | 9/32 [00:03<00:08,  2.70img/s, Last=❌ 11, Workers=3, Rate Limits=0]\rProcessing images:  31%|███▏      | 10/32 [00:03<00:07,  2.93img/s, Last=❌ 11, Workers=3, Rate Limits=0]\rProcessing images:  31%|███▏      | 10/32 [00:03<00:07,  2.93img/s, Last=❌ 10, Workers=3, Rate Limits=0]\rProcessing images:  34%|███▍      | 11/32 [00:03<00:07,  2.93img/s, Last=❌ 9, Workers=3, Rate Limits=0] \rProcessing images:  38%|███▊      | 12/32 [00:03<00:05,  3.96img/s, Last=❌ 9, Workers=3, Rate Limits=0]"
     ]
    },
    {
     "name": "stdout",
     "output_type": "stream",
     "text": [
      "❌ ERROR: Image 11 failed with non-retryable error: Error code: 400 - {'error_code': 'BAD_REQUEST', 'message': 'Invalid base64 string for image\\n'}\n",
      "❌ ERROR: Image 10 failed with non-retryable error: Error code: 400 - {'error_code': 'BAD_REQUEST', 'message': 'Invalid base64 string for image\\n'}\n",
      "❌ ERROR: Image 9 failed with non-retryable error: Error code: 400 - {'error_code': 'BAD_REQUEST', 'message': 'Invalid base64 string for image\\n'}\n"
     ]
    },
    {
     "name": "stderr",
     "output_type": "stream",
     "text": [
      "\rProcessing images:  38%|███▊      | 12/32 [00:04<00:05,  3.96img/s, Last=❌ 13, Workers=3, Rate Limits=0]\rProcessing images:  41%|████      | 13/32 [00:04<00:06,  2.81img/s, Last=❌ 13, Workers=3, Rate Limits=0]\rProcessing images:  41%|████      | 13/32 [00:04<00:06,  2.81img/s, Last=❌ 12, Workers=3, Rate Limits=0]\rProcessing images:  44%|████▍     | 14/32 [00:04<00:06,  2.81img/s, Last=❌ 14, Workers=3, Rate Limits=0]"
     ]
    },
    {
     "name": "stdout",
     "output_type": "stream",
     "text": [
      "❌ ERROR: Image 13 failed with non-retryable error: Error code: 400 - {'error_code': 'BAD_REQUEST', 'message': 'Invalid base64 string for image\\n'}\n",
      "❌ ERROR: Image 12 failed with non-retryable error: Error code: 400 - {'error_code': 'BAD_REQUEST', 'message': 'Invalid base64 string for image\\n'}\n",
      "❌ ERROR: Image 14 failed with non-retryable error: Error code: 400 - {'error_code': 'BAD_REQUEST', 'message': 'Invalid base64 string for image\\n'}\n"
     ]
    },
    {
     "name": "stderr",
     "output_type": "stream",
     "text": [
      "\rProcessing images:  47%|████▋     | 15/32 [00:05<00:06,  2.81img/s, Last=❌ 15, Workers=3, Rate Limits=0]\rProcessing images:  50%|█████     | 16/32 [00:05<00:05,  3.04img/s, Last=❌ 15, Workers=3, Rate Limits=0]\rProcessing images:  50%|█████     | 16/32 [00:05<00:05,  3.04img/s, Last=❌ 16, Workers=3, Rate Limits=0]\rProcessing images:  53%|█████▎    | 17/32 [00:05<00:04,  3.04img/s, Last=❌ 17, Workers=3, Rate Limits=0]"
     ]
    },
    {
     "name": "stdout",
     "output_type": "stream",
     "text": [
      "❌ ERROR: Image 15 failed with non-retryable error: Error code: 400 - {'error_code': 'BAD_REQUEST', 'message': 'Invalid base64 string for image\\n'}\n",
      "❌ ERROR: Image 16 failed with non-retryable error: Error code: 400 - {'error_code': 'BAD_REQUEST', 'message': 'Invalid base64 string for image\\n'}\n",
      "❌ ERROR: Image 17 failed with non-retryable error: Error code: 400 - {'error_code': 'BAD_REQUEST', 'message': 'Invalid base64 string for image\\n'}\n"
     ]
    },
    {
     "name": "stderr",
     "output_type": "stream",
     "text": [
      "\rProcessing images:  56%|█████▋    | 18/32 [00:06<00:04,  3.04img/s, Last=❌ 19, Workers=3, Rate Limits=0]\rProcessing images:  59%|█████▉    | 19/32 [00:06<00:04,  3.13img/s, Last=❌ 19, Workers=3, Rate Limits=0]\rProcessing images:  59%|█████▉    | 19/32 [00:06<00:04,  3.13img/s, Last=❌ 18, Workers=3, Rate Limits=0]\rProcessing images:  62%|██████▎   | 20/32 [00:06<00:03,  3.13img/s, Last=❌ 20, Workers=3, Rate Limits=0]"
     ]
    },
    {
     "name": "stdout",
     "output_type": "stream",
     "text": [
      "❌ ERROR: Image 19 failed with non-retryable error: Error code: 400 - {'error_code': 'BAD_REQUEST', 'message': 'Invalid base64 string for image\\n'}\n",
      "❌ ERROR: Image 18 failed with non-retryable error: Error code: 400 - {'error_code': 'BAD_REQUEST', 'message': 'Invalid base64 string for image\\n'}\n",
      "❌ ERROR: Image 20 failed with non-retryable error: Error code: 400 - {'error_code': 'BAD_REQUEST', 'message': 'Invalid base64 string for image\\n'}\n"
     ]
    },
    {
     "name": "stderr",
     "output_type": "stream",
     "text": [
      "\rProcessing images:  66%|██████▌   | 21/32 [00:07<00:03,  3.13img/s, Last=❌ 23, Workers=3, Rate Limits=0]\rProcessing images:  69%|██████▉   | 22/32 [00:07<00:03,  3.25img/s, Last=❌ 23, Workers=3, Rate Limits=0]\rProcessing images:  69%|██████▉   | 22/32 [00:07<00:03,  3.25img/s, Last=❌ 21, Workers=3, Rate Limits=0]\rProcessing images:  72%|███████▏  | 23/32 [00:07<00:02,  3.25img/s, Last=❌ 22, Workers=3, Rate Limits=0]"
     ]
    },
    {
     "name": "stdout",
     "output_type": "stream",
     "text": [
      "❌ ERROR: Image 23 failed with non-retryable error: Error code: 400 - {'error_code': 'BAD_REQUEST', 'message': 'Invalid base64 string for image\\n'}\n",
      "❌ ERROR: Image 21 failed with non-retryable error: Error code: 400 - {'error_code': 'BAD_REQUEST', 'message': 'Invalid base64 string for image\\n'}\n",
      "❌ ERROR: Image 22 failed with non-retryable error: Error code: 400 - {'error_code': 'BAD_REQUEST', 'message': 'Invalid base64 string for image\\n'}\n"
     ]
    },
    {
     "name": "stderr",
     "output_type": "stream",
     "text": [
      "\rProcessing images:  75%|███████▌  | 24/32 [00:07<00:02,  3.25img/s, Last=❌ 25, Workers=3, Rate Limits=0]\rProcessing images:  78%|███████▊  | 25/32 [00:08<00:02,  3.41img/s, Last=❌ 25, Workers=3, Rate Limits=0]\rProcessing images:  78%|███████▊  | 25/32 [00:08<00:02,  3.41img/s, Last=❌ 24, Workers=3, Rate Limits=0]\rProcessing images:  81%|████████▏ | 26/32 [00:08<00:01,  3.41img/s, Last=❌ 26, Workers=3, Rate Limits=0]"
     ]
    },
    {
     "name": "stdout",
     "output_type": "stream",
     "text": [
      "❌ ERROR: Image 25 failed with non-retryable error: Error code: 400 - {'error_code': 'BAD_REQUEST', 'message': 'Invalid base64 string for image\\n'}\n",
      "❌ ERROR: Image 24 failed with non-retryable error: Error code: 400 - {'error_code': 'BAD_REQUEST', 'message': 'Invalid base64 string for image\\n'}\n",
      "❌ ERROR: Image 26 failed with non-retryable error: Error code: 400 - {'error_code': 'BAD_REQUEST', 'message': 'Invalid base64 string for image\\n'}\n"
     ]
    },
    {
     "name": "stderr",
     "output_type": "stream",
     "text": [
      "\rProcessing images:  84%|████████▍ | 27/32 [00:08<00:01,  3.41img/s, Last=❌ 29, Workers=3, Rate Limits=0]\rProcessing images:  88%|████████▊ | 28/32 [00:08<00:01,  3.42img/s, Last=❌ 29, Workers=3, Rate Limits=0]\rProcessing images:  88%|████████▊ | 28/32 [00:08<00:01,  3.42img/s, Last=❌ 27, Workers=3, Rate Limits=0]\rProcessing images:  91%|█████████ | 29/32 [00:08<00:00,  3.42img/s, Last=❌ 28, Workers=3, Rate Limits=0]"
     ]
    },
    {
     "name": "stdout",
     "output_type": "stream",
     "text": [
      "❌ ERROR: Image 29 failed with non-retryable error: Error code: 400 - {'error_code': 'BAD_REQUEST', 'message': 'Invalid base64 string for image\\n'}\n",
      "❌ ERROR: Image 27 failed with non-retryable error: Error code: 400 - {'error_code': 'BAD_REQUEST', 'message': 'Invalid base64 string for image\\n'}\n",
      "❌ ERROR: Image 28 failed with non-retryable error: Error code: 400 - {'error_code': 'BAD_REQUEST', 'message': 'Invalid base64 string for image\\n'}\n"
     ]
    },
    {
     "name": "stderr",
     "output_type": "stream",
     "text": [
      "\rProcessing images:  94%|█████████▍| 30/32 [00:09<00:00,  3.42img/s, Last=❌ 31, Workers=3, Rate Limits=0]\rProcessing images:  97%|█████████▋| 31/32 [00:09<00:00,  3.47img/s, Last=❌ 31, Workers=3, Rate Limits=0]"
     ]
    },
    {
     "name": "stdout",
     "output_type": "stream",
     "text": [
      "❌ ERROR: Image 31 failed with non-retryable error: Error code: 400 - {'error_code': 'BAD_REQUEST', 'message': 'Invalid base64 string for image\\n'}\n"
     ]
    },
    {
     "name": "stderr",
     "output_type": "stream",
     "text": [
      "\rProcessing images:  97%|█████████▋| 31/32 [00:10<00:00,  3.47img/s, Last=❌ 30, Workers=3, Rate Limits=0]\rProcessing images: 100%|██████████| 32/32 [00:10<00:00,  3.03img/s, Last=❌ 30, Workers=3, Rate Limits=0]\rProcessing images: 100%|██████████| 32/32 [00:10<00:00,  3.10img/s, Last=❌ 30, Workers=3, Rate Limits=0]"
     ]
    },
    {
     "name": "stdout",
     "output_type": "stream",
     "text": [
      "❌ ERROR: Image 30 failed with non-retryable error: Error code: 400 - {'error_code': 'BAD_REQUEST', 'message': 'Invalid base64 string for image\\n'}\n",
      "\n",
      "📈 Llama 4 Transcription Summary:\n",
      "   ✅ Successful: 0/32\n",
      "   ❌ Failed: 32/32\n",
      "   📊 Success rate: 0.0%\n",
      "   🔧 Final worker count: 3\n",
      "   ⚠️  Total rate limit events: 0\n"
     ]
    },
    {
     "name": "stderr",
     "output_type": "stream",
     "text": [
      "\n"
     ]
    },
    {
     "name": "stdout",
     "output_type": "stream",
     "text": [
      "✅ Saved 32 records to: tsfrt.gsa.all_pdfs_parsed\n",
      "✅ File completed successfully:\n",
      "   📊 Pages: 32\n",
      "   ✅ Successful transcriptions: 0\n",
      "   ❌ Failed transcriptions: 32\n",
      "   ⏱️  Processing time: 20.7s\n",
      "   💾 Saved to: tsfrt.gsa.all_pdfs_parsed\n",
      "\n",
      "============================================================\n",
      "📄 Processing file 3/6: FY-2026-GSA-Annual-Performance-Plan_5-28-25.pdf\n",
      "============================================================\n",
      "Converting FY-2026-GSA-Annual-Performance-Plan_5-28-25.pdf to base64: 10 pages at 150 DPI...\n",
      "  Converting page 1/10 to base64\n",
      "  Conversion complete: 10 pages in 0.9s\n",
      "✅ Saved 10 records to: tsfrt.gsa.all_pdfs_parsed_intermediate\n",
      "🤖 Starting LLM processing for 10 pages...\n",
      "🚀 Starting transcription of 10 images...\n",
      "📊 Model: databricks-llama-4-maverick\n",
      "⚙️  Workers: 3 (range: 1-3)\n"
     ]
    },
    {
     "name": "stderr",
     "output_type": "stream",
     "text": [
      "\rProcessing images:   0%|          | 0/10 [00:00<?, ?img/s]\rProcessing images:   0%|          | 0/10 [00:00<?, ?img/s, Last=❌ 2, Workers=3, Rate Limits=0]\rProcessing images:  10%|█         | 1/10 [00:00<00:07,  1.26img/s, Last=❌ 2, Workers=3, Rate Limits=0]\rProcessing images:  10%|█         | 1/10 [00:00<00:07,  1.26img/s, Last=❌ 1, Workers=3, Rate Limits=0]\rProcessing images:  20%|██        | 2/10 [00:00<00:06,  1.26img/s, Last=❌ 0, Workers=3, Rate Limits=0]\rProcessing images:  30%|███       | 3/10 [00:00<00:01,  3.76img/s, Last=❌ 0, Workers=3, Rate Limits=0]"
     ]
    },
    {
     "name": "stdout",
     "output_type": "stream",
     "text": [
      "❌ ERROR: Image 2 failed with non-retryable error: Error code: 400 - {'error_code': 'BAD_REQUEST', 'message': 'Invalid base64 string for image\\n'}\n",
      "❌ ERROR: Image 1 failed with non-retryable error: Error code: 400 - {'error_code': 'BAD_REQUEST', 'message': 'Invalid base64 string for image\\n'}\n",
      "❌ ERROR: Image 0 failed with non-retryable error: Error code: 400 - {'error_code': 'BAD_REQUEST', 'message': 'Request size cannot exceed 4194304 bytes. Please shorten the request.'}\n"
     ]
    },
    {
     "name": "stderr",
     "output_type": "stream",
     "text": [
      "\rProcessing images:  30%|███       | 3/10 [00:01<00:01,  3.76img/s, Last=❌ 5, Workers=3, Rate Limits=0]\rProcessing images:  40%|████      | 4/10 [00:01<00:02,  2.17img/s, Last=❌ 5, Workers=3, Rate Limits=0]\rProcessing images:  40%|████      | 4/10 [00:01<00:02,  2.17img/s, Last=❌ 4, Workers=3, Rate Limits=0]"
     ]
    },
    {
     "name": "stdout",
     "output_type": "stream",
     "text": [
      "❌ ERROR: Image 5 failed with non-retryable error: Error code: 400 - {'error_code': 'BAD_REQUEST', 'message': 'Invalid base64 string for image\\n'}\n",
      "❌ ERROR: Image 4 failed with non-retryable error: Error code: 400 - {'error_code': 'BAD_REQUEST', 'message': 'Invalid base64 string for image\\n'}\n"
     ]
    },
    {
     "name": "stderr",
     "output_type": "stream",
     "text": [
      "\rProcessing images:  50%|█████     | 5/10 [00:02<00:02,  2.17img/s, Last=❌ 3, Workers=3, Rate Limits=0]\rProcessing images:  60%|██████    | 6/10 [00:02<00:01,  3.41img/s, Last=❌ 3, Workers=3, Rate Limits=0]"
     ]
    },
    {
     "name": "stdout",
     "output_type": "stream",
     "text": [
      "❌ ERROR: Image 3 failed with non-retryable error: Error code: 400 - {'error_code': 'BAD_REQUEST', 'message': 'Invalid base64 string for image\\n'}\n"
     ]
    },
    {
     "name": "stderr",
     "output_type": "stream",
     "text": [
      "\rProcessing images:  60%|██████    | 6/10 [00:02<00:01,  3.41img/s, Last=❌ 7, Workers=3, Rate Limits=0]\rProcessing images:  70%|███████   | 7/10 [00:02<00:01,  2.28img/s, Last=❌ 7, Workers=3, Rate Limits=0]\rProcessing images:  70%|███████   | 7/10 [00:02<00:01,  2.28img/s, Last=❌ 6, Workers=3, Rate Limits=0]\rProcessing images:  80%|████████  | 8/10 [00:02<00:00,  2.28img/s, Last=❌ 8, Workers=3, Rate Limits=0]\rProcessing images:  90%|█████████ | 9/10 [00:02<00:00,  3.66img/s, Last=❌ 8, Workers=3, Rate Limits=0]"
     ]
    },
    {
     "name": "stdout",
     "output_type": "stream",
     "text": [
      "❌ ERROR: Image 7 failed with non-retryable error: Error code: 400 - {'error_code': 'BAD_REQUEST', 'message': 'Invalid base64 string for image\\n'}\n",
      "❌ ERROR: Image 6 failed with non-retryable error: Error code: 400 - {'error_code': 'BAD_REQUEST', 'message': 'Invalid base64 string for image\\n'}\n",
      "❌ ERROR: Image 8 failed with non-retryable error: Error code: 400 - {'error_code': 'BAD_REQUEST', 'message': 'Invalid base64 string for image\\n'}\n"
     ]
    },
    {
     "name": "stderr",
     "output_type": "stream",
     "text": [
      "\rProcessing images:  90%|█████████ | 9/10 [00:03<00:00,  3.66img/s, Last=❌ 9, Workers=3, Rate Limits=0]\rProcessing images: 100%|██████████| 10/10 [00:03<00:00,  2.54img/s, Last=❌ 9, Workers=3, Rate Limits=0]\rProcessing images: 100%|██████████| 10/10 [00:03<00:00,  2.65img/s, Last=❌ 9, Workers=3, Rate Limits=0]"
     ]
    },
    {
     "name": "stdout",
     "output_type": "stream",
     "text": [
      "❌ ERROR: Image 9 failed with non-retryable error: Error code: 400 - {'error_code': 'BAD_REQUEST', 'message': 'Invalid base64 string for image\\n'}\n",
      "\n",
      "📈 Llama 4 Transcription Summary:\n",
      "   ✅ Successful: 0/10\n",
      "   ❌ Failed: 10/10\n",
      "   📊 Success rate: 0.0%\n",
      "   🔧 Final worker count: 3\n",
      "   ⚠️  Total rate limit events: 0\n"
     ]
    },
    {
     "name": "stderr",
     "output_type": "stream",
     "text": [
      "\n"
     ]
    },
    {
     "name": "stdout",
     "output_type": "stream",
     "text": [
      "✅ Saved 10 records to: tsfrt.gsa.all_pdfs_parsed\n",
      "✅ File completed successfully:\n",
      "   📊 Pages: 10\n",
      "   ✅ Successful transcriptions: 0\n",
      "   ❌ Failed transcriptions: 10\n",
      "   ⏱️  Processing time: 7.9s\n",
      "   💾 Saved to: tsfrt.gsa.all_pdfs_parsed\n",
      "\n",
      "============================================================\n",
      "📄 Processing file 4/6: GSA-FY2024-Annual-Performance-Report-Final-508-Jan-2025.pdf\n",
      "============================================================\n",
      "Converting GSA-FY2024-Annual-Performance-Report-Final-508-Jan-2025.pdf to base64: 29 pages at 150 DPI...\n",
      "  Converting page 1/29 to base64\n",
      "  Converting page 26/29 to base64\n",
      "  Conversion complete: 29 pages in 1.9s\n",
      "✅ Saved 29 records to: tsfrt.gsa.all_pdfs_parsed_intermediate\n",
      "🤖 Starting LLM processing for 29 pages...\n",
      "🚀 Starting transcription of 29 images...\n",
      "📊 Model: databricks-llama-4-maverick\n",
      "⚙️  Workers: 3 (range: 1-3)\n"
     ]
    },
    {
     "name": "stderr",
     "output_type": "stream",
     "text": [
      "\rProcessing images:   0%|          | 0/29 [00:00<?, ?img/s]\rProcessing images:   0%|          | 0/29 [00:00<?, ?img/s, Last=❌ 1, Workers=3, Rate Limits=0]\rProcessing images:   3%|▎         | 1/29 [00:00<00:18,  1.50img/s, Last=❌ 1, Workers=3, Rate Limits=0]\rProcessing images:   3%|▎         | 1/29 [00:00<00:18,  1.50img/s, Last=❌ 2, Workers=3, Rate Limits=0]"
     ]
    },
    {
     "name": "stdout",
     "output_type": "stream",
     "text": [
      "❌ ERROR: Image 1 failed with non-retryable error: Error code: 400 - {'error_code': 'BAD_REQUEST', 'message': 'Invalid base64 string for image\\n'}\n",
      "❌ ERROR: Image 2 failed with non-retryable error: Error code: 400 - {'error_code': 'BAD_REQUEST', 'message': 'Invalid base64 string for image\\n'}\n"
     ]
    },
    {
     "name": "stderr",
     "output_type": "stream",
     "text": [
      "\rProcessing images:   7%|▋         | 2/29 [00:01<00:18,  1.50img/s, Last=❌ 0, Workers=3, Rate Limits=0]\rProcessing images:  10%|█         | 3/29 [00:01<00:08,  3.22img/s, Last=❌ 0, Workers=3, Rate Limits=0]"
     ]
    },
    {
     "name": "stdout",
     "output_type": "stream",
     "text": [
      "❌ ERROR: Image 0 failed with non-retryable error: Error code: 400 - {'error_code': 'BAD_REQUEST', 'message': 'Invalid base64 string for image\\n'}\n"
     ]
    },
    {
     "name": "stderr",
     "output_type": "stream",
     "text": [
      "\rProcessing images:  10%|█         | 3/29 [00:01<00:08,  3.22img/s, Last=❌ 3, Workers=3, Rate Limits=0]\rProcessing images:  14%|█▍        | 4/29 [00:01<00:13,  1.91img/s, Last=❌ 3, Workers=3, Rate Limits=0]\rProcessing images:  14%|█▍        | 4/29 [00:01<00:13,  1.91img/s, Last=❌ 5, Workers=3, Rate Limits=0]\rProcessing images:  17%|█▋        | 5/29 [00:01<00:12,  1.91img/s, Last=❌ 4, Workers=3, Rate Limits=0]"
     ]
    },
    {
     "name": "stdout",
     "output_type": "stream",
     "text": [
      "❌ ERROR: Image 3 failed with non-retryable error: Error code: 400 - {'error_code': 'BAD_REQUEST', 'message': 'Invalid base64 string for image\\n'}\n",
      "❌ ERROR: Image 5 failed with non-retryable error: Error code: 400 - {'error_code': 'BAD_REQUEST', 'message': 'Invalid base64 string for image\\n'}\n",
      "❌ ERROR: Image 4 failed with non-retryable error: Error code: 400 - {'error_code': 'BAD_REQUEST', 'message': 'Invalid base64 string for image\\n'}\n"
     ]
    },
    {
     "name": "stderr",
     "output_type": "stream",
     "text": [
      "\rProcessing images:  21%|██        | 6/29 [00:02<00:12,  1.91img/s, Last=❌ 6, Workers=3, Rate Limits=0]\rProcessing images:  24%|██▍       | 7/29 [00:02<00:08,  2.66img/s, Last=❌ 6, Workers=3, Rate Limits=0]\rProcessing images:  24%|██▍       | 7/29 [00:02<00:08,  2.66img/s, Last=❌ 7, Workers=3, Rate Limits=0]\rProcessing images:  28%|██▊       | 8/29 [00:02<00:07,  2.66img/s, Last=❌ 8, Workers=3, Rate Limits=0]"
     ]
    },
    {
     "name": "stdout",
     "output_type": "stream",
     "text": [
      "❌ ERROR: Image 6 failed with non-retryable error: Error code: 400 - {'error_code': 'BAD_REQUEST', 'message': 'Invalid base64 string for image\\n'}\n",
      "❌ ERROR: Image 7 failed with non-retryable error: Error code: 400 - {'error_code': 'BAD_REQUEST', 'message': 'Invalid base64 string for image\\n'}\n",
      "❌ ERROR: Image 8 failed with non-retryable error: Error code: 400 - {'error_code': 'BAD_REQUEST', 'message': 'Invalid base64 string for image\\n'}\n"
     ]
    },
    {
     "name": "stderr",
     "output_type": "stream",
     "text": [
      "\rProcessing images:  31%|███       | 9/29 [00:03<00:07,  2.66img/s, Last=❌ 10, Workers=3, Rate Limits=0]\rProcessing images:  34%|███▍      | 10/29 [00:03<00:06,  2.93img/s, Last=❌ 10, Workers=3, Rate Limits=0]\rProcessing images:  34%|███▍      | 10/29 [00:03<00:06,  2.93img/s, Last=❌ 9, Workers=3, Rate Limits=0] \rProcessing images:  38%|███▊      | 11/29 [00:03<00:06,  2.93img/s, Last=❌ 11, Workers=3, Rate Limits=0]"
     ]
    },
    {
     "name": "stdout",
     "output_type": "stream",
     "text": [
      "❌ ERROR: Image 10 failed with non-retryable error: Error code: 400 - {'error_code': 'BAD_REQUEST', 'message': 'Invalid base64 string for image\\n'}\n",
      "❌ ERROR: Image 9 failed with non-retryable error: Error code: 400 - {'error_code': 'BAD_REQUEST', 'message': 'Invalid base64 string for image\\n'}\n",
      "❌ ERROR: Image 11 failed with non-retryable error: Error code: 400 - {'error_code': 'BAD_REQUEST', 'message': 'Invalid base64 string for image\\n'}\n"
     ]
    },
    {
     "name": "stderr",
     "output_type": "stream",
     "text": [
      "\rProcessing images:  41%|████▏     | 12/29 [00:04<00:05,  2.93img/s, Last=❌ 13, Workers=3, Rate Limits=0]\rProcessing images:  45%|████▍     | 13/29 [00:04<00:05,  3.07img/s, Last=❌ 13, Workers=3, Rate Limits=0]\rProcessing images:  45%|████▍     | 13/29 [00:04<00:05,  3.07img/s, Last=❌ 12, Workers=3, Rate Limits=0]\rProcessing images:  48%|████▊     | 14/29 [00:04<00:04,  3.07img/s, Last=❌ 14, Workers=3, Rate Limits=0]"
     ]
    },
    {
     "name": "stdout",
     "output_type": "stream",
     "text": [
      "❌ ERROR: Image 13 failed with non-retryable error: Error code: 400 - {'error_code': 'BAD_REQUEST', 'message': 'Invalid base64 string for image\\n'}\n",
      "❌ ERROR: Image 12 failed with non-retryable error: Error code: 400 - {'error_code': 'BAD_REQUEST', 'message': 'Invalid base64 string for image\\n'}\n",
      "❌ ERROR: Image 14 failed with non-retryable error: Error code: 400 - {'error_code': 'BAD_REQUEST', 'message': 'Invalid base64 string for image\\n'}\n"
     ]
    },
    {
     "name": "stderr",
     "output_type": "stream",
     "text": [
      "\rProcessing images:  52%|█████▏    | 15/29 [00:05<00:04,  3.07img/s, Last=❌ 17, Workers=3, Rate Limits=0]\rProcessing images:  55%|█████▌    | 16/29 [00:05<00:04,  2.94img/s, Last=❌ 17, Workers=3, Rate Limits=0]\rProcessing images:  55%|█████▌    | 16/29 [00:05<00:04,  2.94img/s, Last=❌ 15, Workers=3, Rate Limits=0]\rProcessing images:  59%|█████▊    | 17/29 [00:05<00:04,  2.94img/s, Last=❌ 16, Workers=3, Rate Limits=0]"
     ]
    },
    {
     "name": "stdout",
     "output_type": "stream",
     "text": [
      "❌ ERROR: Image 17 failed with non-retryable error: Error code: 400 - {'error_code': 'BAD_REQUEST', 'message': 'Invalid base64 string for image\\n'}\n",
      "❌ ERROR: Image 15 failed with non-retryable error: Error code: 400 - {'error_code': 'BAD_REQUEST', 'message': 'Invalid base64 string for image\\n'}\n",
      "❌ ERROR: Image 16 failed with non-retryable error: Error code: 400 - {'error_code': 'BAD_REQUEST', 'message': 'Invalid base64 string for image\\n'}\n"
     ]
    },
    {
     "name": "stderr",
     "output_type": "stream",
     "text": [
      "\rProcessing images:  62%|██████▏   | 18/29 [00:06<00:03,  2.94img/s, Last=❌ 18, Workers=3, Rate Limits=0]\rProcessing images:  66%|██████▌   | 19/29 [00:06<00:03,  3.03img/s, Last=❌ 18, Workers=3, Rate Limits=0]\rProcessing images:  66%|██████▌   | 19/29 [00:06<00:03,  3.03img/s, Last=❌ 19, Workers=3, Rate Limits=0]\rProcessing images:  69%|██████▉   | 20/29 [00:06<00:02,  3.03img/s, Last=❌ 20, Workers=3, Rate Limits=0]\rProcessing images:  72%|███████▏  | 21/29 [00:06<00:02,  3.67img/s, Last=❌ 20, Workers=3, Rate Limits=0]"
     ]
    },
    {
     "name": "stdout",
     "output_type": "stream",
     "text": [
      "❌ ERROR: Image 18 failed with non-retryable error: Error code: 400 - {'error_code': 'BAD_REQUEST', 'message': 'Invalid base64 string for image\\n'}\n",
      "❌ ERROR: Image 19 failed with non-retryable error: Error code: 400 - {'error_code': 'BAD_REQUEST', 'message': 'Invalid base64 string for image\\n'}\n",
      "❌ ERROR: Image 20 failed with non-retryable error: Error code: 400 - {'error_code': 'BAD_REQUEST', 'message': 'Invalid base64 string for image\\n'}\n"
     ]
    },
    {
     "name": "stderr",
     "output_type": "stream",
     "text": [
      "\rProcessing images:  72%|███████▏  | 21/29 [00:07<00:02,  3.67img/s, Last=❌ 21, Workers=3, Rate Limits=0]\rProcessing images:  76%|███████▌  | 22/29 [00:07<00:02,  2.67img/s, Last=❌ 21, Workers=3, Rate Limits=0]"
     ]
    },
    {
     "name": "stdout",
     "output_type": "stream",
     "text": [
      "❌ ERROR: Image 21 failed with non-retryable error: Error code: 400 - {'error_code': 'BAD_REQUEST', 'message': 'Invalid base64 string for image\\n'}\n"
     ]
    },
    {
     "name": "stderr",
     "output_type": "stream",
     "text": [
      "\rProcessing images:  76%|███████▌  | 22/29 [00:08<00:02,  2.67img/s, Last=❌ 23, Workers=3, Rate Limits=0]\rProcessing images:  79%|███████▉  | 23/29 [00:08<00:02,  2.87img/s, Last=❌ 23, Workers=3, Rate Limits=0]\rProcessing images:  79%|███████▉  | 23/29 [00:08<00:02,  2.87img/s, Last=❌ 22, Workers=3, Rate Limits=0]"
     ]
    },
    {
     "name": "stdout",
     "output_type": "stream",
     "text": [
      "❌ ERROR: Image 23 failed with non-retryable error: Error code: 400 - {'error_code': 'BAD_REQUEST', 'message': 'Invalid base64 string for image\\n'}\n",
      "❌ ERROR: Image 22 failed with non-retryable error: Error code: 400 - {'error_code': 'BAD_REQUEST', 'message': 'Invalid base64 string for image\\n'}\n"
     ]
    },
    {
     "name": "stderr",
     "output_type": "stream",
     "text": [
      "\rProcessing images:  83%|████████▎ | 24/29 [00:09<00:01,  2.87img/s, Last=❌ 26, Workers=3, Rate Limits=0]\rProcessing images:  86%|████████▌ | 25/29 [00:09<00:01,  2.42img/s, Last=❌ 26, Workers=3, Rate Limits=0]\rProcessing images:  86%|████████▌ | 25/29 [00:09<00:01,  2.42img/s, Last=❌ 25, Workers=3, Rate Limits=0]\rProcessing images:  90%|████████▉ | 26/29 [00:09<00:01,  2.42img/s, Last=❌ 24, Workers=3, Rate Limits=0]"
     ]
    },
    {
     "name": "stdout",
     "output_type": "stream",
     "text": [
      "❌ ERROR: Image 26 failed with non-retryable error: Error code: 400 - {'error_code': 'BAD_REQUEST', 'message': 'Invalid base64 string for image\\n'}\n",
      "❌ ERROR: Image 25 failed with non-retryable error: Error code: 400 - {'error_code': 'BAD_REQUEST', 'message': 'Invalid base64 string for image\\n'}\n",
      "❌ ERROR: Image 24 failed with non-retryable error: Error code: 400 - {'error_code': 'BAD_REQUEST', 'message': 'Invalid base64 string for image\\n'}\n"
     ]
    },
    {
     "name": "stderr",
     "output_type": "stream",
     "text": [
      "\rProcessing images:  93%|█████████▎| 27/29 [00:10<00:00,  2.42img/s, Last=❌ 28, Workers=3, Rate Limits=0]\rProcessing images:  97%|█████████▋| 28/29 [00:10<00:00,  2.72img/s, Last=❌ 28, Workers=3, Rate Limits=0]\rProcessing images:  97%|█████████▋| 28/29 [00:10<00:00,  2.72img/s, Last=❌ 27, Workers=3, Rate Limits=0]\rProcessing images: 100%|██████████| 29/29 [00:10<00:00,  2.87img/s, Last=❌ 27, Workers=3, Rate Limits=0]"
     ]
    },
    {
     "name": "stdout",
     "output_type": "stream",
     "text": [
      "❌ ERROR: Image 28 failed with non-retryable error: Error code: 400 - {'error_code': 'BAD_REQUEST', 'message': 'Invalid base64 string for image\\n'}\n",
      "❌ ERROR: Image 27 failed with non-retryable error: Error code: 400 - {'error_code': 'BAD_REQUEST', 'message': 'Invalid base64 string for image\\n'}\n",
      "\n",
      "📈 Llama 4 Transcription Summary:\n",
      "   ✅ Successful: 0/29\n",
      "   ❌ Failed: 29/29\n",
      "   📊 Success rate: 0.0%\n",
      "   🔧 Final worker count: 3\n",
      "   ⚠️  Total rate limit events: 0\n"
     ]
    },
    {
     "name": "stderr",
     "output_type": "stream",
     "text": [
      "\n"
     ]
    },
    {
     "name": "stdout",
     "output_type": "stream",
     "text": [
      "✅ Saved 29 records to: tsfrt.gsa.all_pdfs_parsed\n",
      "✅ File completed successfully:\n",
      "   📊 Pages: 29\n",
      "   ✅ Successful transcriptions: 0\n",
      "   ❌ Failed transcriptions: 29\n",
      "   ⏱️  Processing time: 16.3s\n",
      "   💾 Saved to: tsfrt.gsa.all_pdfs_parsed\n",
      "\n",
      "============================================================\n",
      "📄 Processing file 5/6: GSA_Annual_Performance_Plan_FY_2023_FINAL_508.pdf\n",
      "============================================================\n",
      "Converting GSA_Annual_Performance_Plan_FY_2023_FINAL_508.pdf to base64: 90 pages at 150 DPI...\n",
      "  Converting page 1/90 to base64\n",
      "  Converting page 26/90 to base64\n",
      "  Converting page 51/90 to base64\n",
      "  Converting page 76/90 to base64\n",
      "  Conversion complete: 90 pages in 5.0s\n",
      "✅ Saved 90 records to: tsfrt.gsa.all_pdfs_parsed_intermediate\n",
      "🤖 Starting LLM processing for 90 pages...\n",
      "🚀 Starting transcription of 90 images...\n",
      "📊 Model: databricks-llama-4-maverick\n",
      "⚙️  Workers: 3 (range: 1-3)\n"
     ]
    },
    {
     "name": "stderr",
     "output_type": "stream",
     "text": [
      "\rProcessing images:   0%|          | 0/90 [00:00<?, ?img/s]\rProcessing images:   0%|          | 0/90 [00:00<?, ?img/s, Last=❌ 1, Workers=3, Rate Limits=0]\rProcessing images:   1%|          | 1/90 [00:00<01:18,  1.14img/s, Last=❌ 1, Workers=3, Rate Limits=0]\rProcessing images:   1%|          | 1/90 [00:00<01:18,  1.14img/s, Last=❌ 2, Workers=3, Rate Limits=0]"
     ]
    },
    {
     "name": "stdout",
     "output_type": "stream",
     "text": [
      "❌ ERROR: Image 1 failed with non-retryable error: Error code: 400 - {'error_code': 'BAD_REQUEST', 'message': 'Invalid base64 string for image\\n'}\n",
      "❌ ERROR: Image 2 failed with non-retryable error: Error code: 400 - {'error_code': 'BAD_REQUEST', 'message': 'Invalid base64 string for image\\n'}\n"
     ]
    },
    {
     "name": "stderr",
     "output_type": "stream",
     "text": [
      "\rProcessing images:   2%|▏         | 2/90 [00:01<01:17,  1.14img/s, Last=❌ 0, Workers=3, Rate Limits=0]\rProcessing images:   3%|▎         | 3/90 [00:01<00:28,  3.06img/s, Last=❌ 0, Workers=3, Rate Limits=0]"
     ]
    },
    {
     "name": "stdout",
     "output_type": "stream",
     "text": [
      "❌ ERROR: Image 0 failed with non-retryable error: Error code: 400 - {'error_code': 'BAD_REQUEST', 'message': 'Invalid base64 string for image\\n'}\n"
     ]
    },
    {
     "name": "stderr",
     "output_type": "stream",
     "text": [
      "\rProcessing images:   3%|▎         | 3/90 [00:02<00:28,  3.06img/s, Last=❌ 5, Workers=3, Rate Limits=0]\rProcessing images:   4%|▍         | 4/90 [00:02<00:52,  1.63img/s, Last=❌ 5, Workers=3, Rate Limits=0]\rProcessing images:   4%|▍         | 4/90 [00:02<00:52,  1.63img/s, Last=❌ 4, Workers=3, Rate Limits=0]"
     ]
    },
    {
     "name": "stdout",
     "output_type": "stream",
     "text": [
      "❌ ERROR: Image 5 failed with non-retryable error: Error code: 400 - {'error_code': 'BAD_REQUEST', 'message': 'Invalid base64 string for image\\n'}\n",
      "❌ ERROR: Image 4 failed with non-retryable error: Error code: 400 - {'error_code': 'BAD_REQUEST', 'message': 'Invalid base64 string for image\\n'}\n"
     ]
    },
    {
     "name": "stderr",
     "output_type": "stream",
     "text": [
      "\rProcessing images:   6%|▌         | 5/90 [00:02<00:52,  1.63img/s, Last=❌ 3, Workers=3, Rate Limits=0]\rProcessing images:   7%|▋         | 6/90 [00:02<00:31,  2.70img/s, Last=❌ 3, Workers=3, Rate Limits=0]"
     ]
    },
    {
     "name": "stdout",
     "output_type": "stream",
     "text": [
      "❌ ERROR: Image 3 failed with non-retryable error: Error code: 400 - {'error_code': 'BAD_REQUEST', 'message': 'Invalid base64 string for image\\n'}\n"
     ]
    },
    {
     "name": "stderr",
     "output_type": "stream",
     "text": [
      "\rProcessing images:   7%|▋         | 6/90 [00:03<00:31,  2.70img/s, Last=❌ 7, Workers=3, Rate Limits=0]\rProcessing images:   8%|▊         | 7/90 [00:03<00:45,  1.83img/s, Last=❌ 7, Workers=3, Rate Limits=0]\rProcessing images:   8%|▊         | 7/90 [00:03<00:45,  1.83img/s, Last=❌ 6, Workers=3, Rate Limits=0]\rProcessing images:   9%|▉         | 8/90 [00:03<00:44,  1.83img/s, Last=❌ 8, Workers=3, Rate Limits=0]\rProcessing images:  10%|█         | 9/90 [00:03<00:28,  2.89img/s, Last=❌ 8, Workers=3, Rate Limits=0]"
     ]
    },
    {
     "name": "stdout",
     "output_type": "stream",
     "text": [
      "❌ ERROR: Image 7 failed with non-retryable error: Error code: 400 - {'error_code': 'BAD_REQUEST', 'message': 'Invalid base64 string for image\\n'}\n",
      "❌ ERROR: Image 6 failed with non-retryable error: Error code: 400 - {'error_code': 'BAD_REQUEST', 'message': 'Invalid base64 string for image\\n'}\n",
      "❌ ERROR: Image 8 failed with non-retryable error: Error code: 400 - {'error_code': 'BAD_REQUEST', 'message': 'Invalid base64 string for image\\n'}\n"
     ]
    },
    {
     "name": "stderr",
     "output_type": "stream",
     "text": [
      "\rProcessing images:  10%|█         | 9/90 [00:04<00:28,  2.89img/s, Last=❌ 9, Workers=3, Rate Limits=0]\rProcessing images:  11%|█         | 10/90 [00:04<00:42,  1.90img/s, Last=❌ 9, Workers=3, Rate Limits=0]\rProcessing images:  11%|█         | 10/90 [00:04<00:42,  1.90img/s, Last=❌ 11, Workers=3, Rate Limits=0]\rProcessing images:  12%|█▏        | 11/90 [00:04<00:41,  1.90img/s, Last=❌ 10, Workers=3, Rate Limits=0]"
     ]
    },
    {
     "name": "stdout",
     "output_type": "stream",
     "text": [
      "❌ ERROR: Image 9 failed with non-retryable error: Error code: 400 - {'error_code': 'BAD_REQUEST', 'message': 'Invalid base64 string for image\\n'}\n",
      "❌ ERROR: Image 11 failed with non-retryable error: Error code: 400 - {'error_code': 'BAD_REQUEST', 'message': 'Invalid base64 string for image\\n'}\n",
      "❌ ERROR: Image 10 failed with non-retryable error: Error code: 400 - {'error_code': 'BAD_REQUEST', 'message': 'Invalid base64 string for image\\n'}\n"
     ]
    },
    {
     "name": "stderr",
     "output_type": "stream",
     "text": [
      "\rProcessing images:  13%|█▎        | 12/90 [00:06<00:41,  1.90img/s, Last=❌ 12, Workers=3, Rate Limits=0]\rProcessing images:  14%|█▍        | 13/90 [00:06<00:35,  2.17img/s, Last=❌ 12, Workers=3, Rate Limits=0]\rProcessing images:  14%|█▍        | 13/90 [00:06<00:35,  2.17img/s, Last=❌ 13, Workers=3, Rate Limits=0]\rProcessing images:  16%|█▌        | 14/90 [00:06<00:35,  2.17img/s, Last=❌ 14, Workers=3, Rate Limits=0]"
     ]
    },
    {
     "name": "stdout",
     "output_type": "stream",
     "text": [
      "❌ ERROR: Image 12 failed with non-retryable error: Error code: 400 - {'error_code': 'BAD_REQUEST', 'message': 'Invalid base64 string for image\\n'}\n",
      "❌ ERROR: Image 13 failed with non-retryable error: Error code: 400 - {'error_code': 'BAD_REQUEST', 'message': 'Invalid base64 string for image\\n'}\n",
      "❌ ERROR: Image 14 failed with non-retryable error: Error code: 400 - {'error_code': 'BAD_REQUEST', 'message': 'Invalid base64 string for image\\n'}\n"
     ]
    },
    {
     "name": "stderr",
     "output_type": "stream",
     "text": [
      "\rProcessing images:  17%|█▋        | 15/90 [00:06<00:34,  2.17img/s, Last=❌ 16, Workers=3, Rate Limits=0]\rProcessing images:  18%|█▊        | 16/90 [00:06<00:29,  2.53img/s, Last=❌ 16, Workers=3, Rate Limits=0]\rProcessing images:  18%|█▊        | 16/90 [00:07<00:29,  2.53img/s, Last=❌ 17, Workers=3, Rate Limits=0]"
     ]
    },
    {
     "name": "stdout",
     "output_type": "stream",
     "text": [
      "❌ ERROR: Image 16 failed with non-retryable error: Error code: 400 - {'error_code': 'BAD_REQUEST', 'message': 'Invalid base64 string for image\\n'}\n",
      "❌ ERROR: Image 17 failed with non-retryable error: Error code: 400 - {'error_code': 'BAD_REQUEST', 'message': 'Invalid base64 string for image\\n'}\n"
     ]
    },
    {
     "name": "stderr",
     "output_type": "stream",
     "text": [
      "\rProcessing images:  19%|█▉        | 17/90 [00:07<00:28,  2.53img/s, Last=❌ 15, Workers=3, Rate Limits=0]\rProcessing images:  20%|██        | 18/90 [00:07<00:22,  3.20img/s, Last=❌ 15, Workers=3, Rate Limits=0]"
     ]
    },
    {
     "name": "stdout",
     "output_type": "stream",
     "text": [
      "❌ ERROR: Image 15 failed with non-retryable error: Error code: 400 - {'error_code': 'BAD_REQUEST', 'message': 'Invalid base64 string for image\\n'}\n"
     ]
    },
    {
     "name": "stderr",
     "output_type": "stream",
     "text": [
      "\rProcessing images:  20%|██        | 18/90 [00:08<00:22,  3.20img/s, Last=❌ 18, Workers=3, Rate Limits=0]\rProcessing images:  21%|██        | 19/90 [00:08<00:29,  2.44img/s, Last=❌ 18, Workers=3, Rate Limits=0]\rProcessing images:  21%|██        | 19/90 [00:08<00:29,  2.44img/s, Last=❌ 20, Workers=3, Rate Limits=0]\rProcessing images:  22%|██▏       | 20/90 [00:08<00:24,  2.85img/s, Last=❌ 20, Workers=3, Rate Limits=0]"
     ]
    },
    {
     "name": "stdout",
     "output_type": "stream",
     "text": [
      "❌ ERROR: Image 18 failed with non-retryable error: Error code: 400 - {'error_code': 'BAD_REQUEST', 'message': 'Invalid base64 string for image\\n'}\n",
      "❌ ERROR: Image 20 failed with non-retryable error: Error code: 400 - {'error_code': 'BAD_REQUEST', 'message': 'Invalid base64 string for image\\n'}\n"
     ]
    },
    {
     "name": "stderr",
     "output_type": "stream",
     "text": [
      "\rProcessing images:  22%|██▏       | 20/90 [00:08<00:24,  2.85img/s, Last=❌ 19, Workers=3, Rate Limits=0]\rProcessing images:  23%|██▎       | 21/90 [00:08<00:20,  3.34img/s, Last=❌ 19, Workers=3, Rate Limits=0]"
     ]
    },
    {
     "name": "stdout",
     "output_type": "stream",
     "text": [
      "❌ ERROR: Image 19 failed with non-retryable error: Error code: 400 - {'error_code': 'BAD_REQUEST', 'message': 'Invalid base64 string for image\\n'}\n"
     ]
    },
    {
     "name": "stderr",
     "output_type": "stream",
     "text": [
      "\rProcessing images:  23%|██▎       | 21/90 [00:09<00:20,  3.34img/s, Last=❌ 23, Workers=3, Rate Limits=0]\rProcessing images:  24%|██▍       | 22/90 [00:09<00:31,  2.17img/s, Last=❌ 23, Workers=3, Rate Limits=0]\rProcessing images:  24%|██▍       | 22/90 [00:09<00:31,  2.17img/s, Last=❌ 22, Workers=3, Rate Limits=0]\rProcessing images:  26%|██▌       | 23/90 [00:09<00:24,  2.70img/s, Last=❌ 22, Workers=3, Rate Limits=0]\rProcessing images:  26%|██▌       | 23/90 [00:09<00:24,  2.70img/s, Last=❌ 21, Workers=3, Rate Limits=0]"
     ]
    },
    {
     "name": "stdout",
     "output_type": "stream",
     "text": [
      "❌ ERROR: Image 23 failed with non-retryable error: Error code: 400 - {'error_code': 'BAD_REQUEST', 'message': 'Invalid base64 string for image\\n'}\n",
      "❌ ERROR: Image 22 failed with non-retryable error: Error code: 400 - {'error_code': 'BAD_REQUEST', 'message': 'Invalid base64 string for image\\n'}\n",
      "❌ ERROR: Image 21 failed with non-retryable error: Error code: 400 - {'error_code': 'BAD_REQUEST', 'message': 'Invalid base64 string for image\\n'}\n"
     ]
    },
    {
     "name": "stderr",
     "output_type": "stream",
     "text": [
      "\rProcessing images:  27%|██▋       | 24/90 [00:10<00:24,  2.70img/s, Last=❌ 24, Workers=3, Rate Limits=0]\rProcessing images:  28%|██▊       | 25/90 [00:10<00:28,  2.30img/s, Last=❌ 24, Workers=3, Rate Limits=0]\rProcessing images:  28%|██▊       | 25/90 [00:10<00:28,  2.30img/s, Last=❌ 26, Workers=3, Rate Limits=0]\rProcessing images:  29%|██▉       | 26/90 [00:10<00:27,  2.30img/s, Last=❌ 25, Workers=3, Rate Limits=0]\rProcessing images:  30%|███       | 27/90 [00:10<00:18,  3.36img/s, Last=❌ 25, Workers=3, Rate Limits=0]"
     ]
    },
    {
     "name": "stdout",
     "output_type": "stream",
     "text": [
      "❌ ERROR: Image 24 failed with non-retryable error: Error code: 400 - {'error_code': 'BAD_REQUEST', 'message': 'Invalid base64 string for image\\n'}\n",
      "❌ ERROR: Image 26 failed with non-retryable error: Error code: 400 - {'error_code': 'BAD_REQUEST', 'message': 'Invalid base64 string for image\\n'}\n",
      "❌ ERROR: Image 25 failed with non-retryable error: Error code: 400 - {'error_code': 'BAD_REQUEST', 'message': 'Invalid base64 string for image\\n'}\n"
     ]
    },
    {
     "name": "stderr",
     "output_type": "stream",
     "text": [
      "\rProcessing images:  30%|███       | 27/90 [00:11<00:18,  3.36img/s, Last=❌ 29, Workers=3, Rate Limits=0]\rProcessing images:  31%|███       | 28/90 [00:11<00:25,  2.43img/s, Last=❌ 29, Workers=3, Rate Limits=0]\rProcessing images:  31%|███       | 28/90 [00:11<00:25,  2.43img/s, Last=❌ 28, Workers=3, Rate Limits=0]"
     ]
    },
    {
     "name": "stdout",
     "output_type": "stream",
     "text": [
      "❌ ERROR: Image 29 failed with non-retryable error: Error code: 400 - {'error_code': 'BAD_REQUEST', 'message': 'Invalid base64 string for image\\n'}\n",
      "❌ ERROR: Image 28 failed with non-retryable error: Error code: 400 - {'error_code': 'BAD_REQUEST', 'message': 'Invalid base64 string for image\\n'}\n"
     ]
    },
    {
     "name": "stderr",
     "output_type": "stream",
     "text": [
      "\rProcessing images:  32%|███▏      | 29/90 [00:11<00:25,  2.43img/s, Last=❌ 27, Workers=3, Rate Limits=0]\rProcessing images:  33%|███▎      | 30/90 [00:11<00:19,  3.02img/s, Last=❌ 27, Workers=3, Rate Limits=0]"
     ]
    },
    {
     "name": "stdout",
     "output_type": "stream",
     "text": [
      "❌ ERROR: Image 27 failed with non-retryable error: Error code: 400 - {'error_code': 'BAD_REQUEST', 'message': 'Invalid base64 string for image\\n'}\n"
     ]
    },
    {
     "name": "stderr",
     "output_type": "stream",
     "text": [
      "\rProcessing images:  33%|███▎      | 30/90 [00:12<00:19,  3.02img/s, Last=❌ 30, Workers=3, Rate Limits=0]\rProcessing images:  34%|███▍      | 31/90 [00:12<00:28,  2.10img/s, Last=❌ 30, Workers=3, Rate Limits=0]\rProcessing images:  34%|███▍      | 31/90 [00:12<00:28,  2.10img/s, Last=❌ 32, Workers=3, Rate Limits=0]\rProcessing images:  36%|███▌      | 32/90 [00:12<00:23,  2.47img/s, Last=❌ 32, Workers=3, Rate Limits=0]\rProcessing images:  36%|███▌      | 32/90 [00:12<00:23,  2.47img/s, Last=❌ 31, Workers=3, Rate Limits=0]"
     ]
    },
    {
     "name": "stdout",
     "output_type": "stream",
     "text": [
      "❌ ERROR: Image 30 failed with non-retryable error: Error code: 400 - {'error_code': 'BAD_REQUEST', 'message': 'Invalid base64 string for image\\n'}\n",
      "❌ ERROR: Image 32 failed with non-retryable error: Error code: 400 - {'error_code': 'BAD_REQUEST', 'message': 'Invalid base64 string for image\\n'}\n",
      "❌ ERROR: Image 31 failed with non-retryable error: Error code: 400 - {'error_code': 'BAD_REQUEST', 'message': 'Invalid base64 string for image\\n'}\n"
     ]
    },
    {
     "name": "stderr",
     "output_type": "stream",
     "text": [
      "\rProcessing images:  37%|███▋      | 33/90 [00:14<00:23,  2.47img/s, Last=❌ 35, Workers=3, Rate Limits=0]\rProcessing images:  38%|███▊      | 34/90 [00:14<00:25,  2.18img/s, Last=❌ 35, Workers=3, Rate Limits=0]\rProcessing images:  38%|███▊      | 34/90 [00:14<00:25,  2.18img/s, Last=❌ 34, Workers=3, Rate Limits=0]\rProcessing images:  39%|███▉      | 35/90 [00:14<00:25,  2.18img/s, Last=❌ 33, Workers=3, Rate Limits=0]\rProcessing images:  40%|████      | 36/90 [00:14<00:16,  3.22img/s, Last=❌ 33, Workers=3, Rate Limits=0]"
     ]
    },
    {
     "name": "stdout",
     "output_type": "stream",
     "text": [
      "❌ ERROR: Image 35 failed with non-retryable error: Error code: 400 - {'error_code': 'BAD_REQUEST', 'message': 'Invalid base64 string for image\\n'}\n",
      "❌ ERROR: Image 34 failed with non-retryable error: Error code: 400 - {'error_code': 'BAD_REQUEST', 'message': 'Invalid base64 string for image\\n'}\n",
      "❌ ERROR: Image 33 failed with non-retryable error: Error code: 400 - {'error_code': 'BAD_REQUEST', 'message': 'Invalid base64 string for image\\n'}\n"
     ]
    },
    {
     "name": "stderr",
     "output_type": "stream",
     "text": [
      "\rProcessing images:  40%|████      | 36/90 [00:15<00:16,  3.22img/s, Last=❌ 38, Workers=3, Rate Limits=0]\rProcessing images:  41%|████      | 37/90 [00:15<00:24,  2.20img/s, Last=❌ 38, Workers=3, Rate Limits=0]\rProcessing images:  41%|████      | 37/90 [00:15<00:24,  2.20img/s, Last=❌ 36, Workers=3, Rate Limits=0]\rProcessing images:  42%|████▏     | 38/90 [00:15<00:23,  2.20img/s, Last=❌ 37, Workers=3, Rate Limits=0]\rProcessing images:  43%|████▎     | 39/90 [00:15<00:16,  3.19img/s, Last=❌ 37, Workers=3, Rate Limits=0]"
     ]
    },
    {
     "name": "stdout",
     "output_type": "stream",
     "text": [
      "❌ ERROR: Image 38 failed with non-retryable error: Error code: 400 - {'error_code': 'BAD_REQUEST', 'message': 'Invalid base64 string for image\\n'}\n",
      "❌ ERROR: Image 36 failed with non-retryable error: Error code: 400 - {'error_code': 'BAD_REQUEST', 'message': 'Invalid base64 string for image\\n'}\n",
      "❌ ERROR: Image 37 failed with non-retryable error: Error code: 400 - {'error_code': 'BAD_REQUEST', 'message': 'Invalid base64 string for image\\n'}\n"
     ]
    },
    {
     "name": "stderr",
     "output_type": "stream",
     "text": [
      "\rProcessing images:  43%|████▎     | 39/90 [00:16<00:16,  3.19img/s, Last=❌ 40, Workers=3, Rate Limits=0]\rProcessing images:  44%|████▍     | 40/90 [00:16<00:20,  2.38img/s, Last=❌ 40, Workers=3, Rate Limits=0]\rProcessing images:  44%|████▍     | 40/90 [00:16<00:20,  2.38img/s, Last=❌ 39, Workers=3, Rate Limits=0]\rProcessing images:  46%|████▌     | 41/90 [00:16<00:20,  2.38img/s, Last=❌ 41, Workers=3, Rate Limits=0]"
     ]
    },
    {
     "name": "stdout",
     "output_type": "stream",
     "text": [
      "❌ ERROR: Image 40 failed with non-retryable error: Error code: 400 - {'error_code': 'BAD_REQUEST', 'message': 'Invalid base64 string for image\\n'}\n",
      "❌ ERROR: Image 39 failed with non-retryable error: Error code: 400 - {'error_code': 'BAD_REQUEST', 'message': 'Invalid base64 string for image\\n'}\n",
      "❌ ERROR: Image 41 failed with non-retryable error: Error code: 400 - {'error_code': 'BAD_REQUEST', 'message': 'Invalid base64 string for image\\n'}\n"
     ]
    },
    {
     "name": "stderr",
     "output_type": "stream",
     "text": [
      "\rProcessing images:  47%|████▋     | 42/90 [00:17<00:20,  2.38img/s, Last=❌ 44, Workers=3, Rate Limits=0]\rProcessing images:  48%|████▊     | 43/90 [00:17<00:18,  2.57img/s, Last=❌ 44, Workers=3, Rate Limits=0]\rProcessing images:  48%|████▊     | 43/90 [00:17<00:18,  2.57img/s, Last=❌ 42, Workers=3, Rate Limits=0]\rProcessing images:  49%|████▉     | 44/90 [00:17<00:17,  2.57img/s, Last=❌ 43, Workers=3, Rate Limits=0]"
     ]
    },
    {
     "name": "stdout",
     "output_type": "stream",
     "text": [
      "❌ ERROR: Image 44 failed with non-retryable error: Error code: 400 - {'error_code': 'BAD_REQUEST', 'message': 'Invalid base64 string for image\\n'}\n",
      "❌ ERROR: Image 42 failed with non-retryable error: Error code: 400 - {'error_code': 'BAD_REQUEST', 'message': 'Invalid base64 string for image\\n'}\n",
      "❌ ERROR: Image 43 failed with non-retryable error: Error code: 400 - {'error_code': 'BAD_REQUEST', 'message': 'Invalid base64 string for image\\n'}\n"
     ]
    },
    {
     "name": "stderr",
     "output_type": "stream",
     "text": [
      "\rProcessing images:  50%|█████     | 45/90 [00:18<00:17,  2.57img/s, Last=❌ 47, Workers=3, Rate Limits=0]\rProcessing images:  51%|█████     | 46/90 [00:18<00:17,  2.57img/s, Last=❌ 47, Workers=3, Rate Limits=0]\rProcessing images:  51%|█████     | 46/90 [00:18<00:17,  2.57img/s, Last=❌ 46, Workers=3, Rate Limits=0]\rProcessing images:  52%|█████▏    | 47/90 [00:18<00:16,  2.57img/s, Last=❌ 45, Workers=3, Rate Limits=0]\rProcessing images:  53%|█████▎    | 48/90 [00:18<00:12,  3.35img/s, Last=❌ 45, Workers=3, Rate Limits=0]"
     ]
    },
    {
     "name": "stdout",
     "output_type": "stream",
     "text": [
      "❌ ERROR: Image 47 failed with non-retryable error: Error code: 400 - {'error_code': 'BAD_REQUEST', 'message': 'Invalid base64 string for image\\n'}\n",
      "❌ ERROR: Image 46 failed with non-retryable error: Error code: 400 - {'error_code': 'BAD_REQUEST', 'message': 'Invalid base64 string for image\\n'}\n",
      "❌ ERROR: Image 45 failed with non-retryable error: Error code: 400 - {'error_code': 'BAD_REQUEST', 'message': 'Invalid base64 string for image\\n'}\n"
     ]
    },
    {
     "name": "stderr",
     "output_type": "stream",
     "text": [
      "\rProcessing images:  53%|█████▎    | 48/90 [00:19<00:12,  3.35img/s, Last=❌ 48, Workers=3, Rate Limits=0]\rProcessing images:  54%|█████▍    | 49/90 [00:19<00:17,  2.40img/s, Last=❌ 48, Workers=3, Rate Limits=0]\rProcessing images:  54%|█████▍    | 49/90 [00:19<00:17,  2.40img/s, Last=❌ 50, Workers=3, Rate Limits=0]\rProcessing images:  56%|█████▌    | 50/90 [00:19<00:14,  2.73img/s, Last=❌ 50, Workers=3, Rate Limits=0]"
     ]
    },
    {
     "name": "stdout",
     "output_type": "stream",
     "text": [
      "❌ ERROR: Image 48 failed with non-retryable error: Error code: 400 - {'error_code': 'BAD_REQUEST', 'message': 'Invalid base64 string for image\\n'}\n",
      "❌ ERROR: Image 50 failed with non-retryable error: Error code: 400 - {'error_code': 'BAD_REQUEST', 'message': 'Invalid base64 string for image\\n'}\n"
     ]
    },
    {
     "name": "stderr",
     "output_type": "stream",
     "text": [
      "\rProcessing images:  56%|█████▌    | 50/90 [00:19<00:14,  2.73img/s, Last=❌ 49, Workers=3, Rate Limits=0]"
     ]
    },
    {
     "name": "stdout",
     "output_type": "stream",
     "text": [
      "❌ ERROR: Image 49 failed with non-retryable error: Error code: 400 - {'error_code': 'BAD_REQUEST', 'message': 'Invalid base64 string for image\\n'}\n"
     ]
    },
    {
     "name": "stderr",
     "output_type": "stream",
     "text": [
      "\rProcessing images:  57%|█████▋    | 51/90 [00:20<00:14,  2.73img/s, Last=❌ 51, Workers=3, Rate Limits=0]\rProcessing images:  58%|█████▊    | 52/90 [00:20<00:16,  2.25img/s, Last=❌ 51, Workers=3, Rate Limits=0]\rProcessing images:  58%|█████▊    | 52/90 [00:20<00:16,  2.25img/s, Last=❌ 53, Workers=3, Rate Limits=0]\rProcessing images:  59%|█████▉    | 53/90 [00:20<00:16,  2.25img/s, Last=❌ 52, Workers=3, Rate Limits=0]"
     ]
    },
    {
     "name": "stdout",
     "output_type": "stream",
     "text": [
      "❌ ERROR: Image 51 failed with non-retryable error: Error code: 400 - {'error_code': 'BAD_REQUEST', 'message': 'Invalid base64 string for image\\n'}\n",
      "❌ ERROR: Image 53 failed with non-retryable error: Error code: 400 - {'error_code': 'BAD_REQUEST', 'message': 'Invalid base64 string for image\\n'}\n",
      "❌ ERROR: Image 52 failed with non-retryable error: Error code: 400 - {'error_code': 'BAD_REQUEST', 'message': 'Invalid base64 string for image\\n'}\n"
     ]
    },
    {
     "name": "stderr",
     "output_type": "stream",
     "text": [
      "\rProcessing images:  60%|██████    | 54/90 [00:21<00:16,  2.25img/s, Last=❌ 56, Workers=3, Rate Limits=0]\rProcessing images:  61%|██████    | 55/90 [00:22<00:14,  2.37img/s, Last=❌ 56, Workers=3, Rate Limits=0]\rProcessing images:  61%|██████    | 55/90 [00:22<00:14,  2.37img/s, Last=❌ 54, Workers=3, Rate Limits=0]"
     ]
    },
    {
     "name": "stdout",
     "output_type": "stream",
     "text": [
      "❌ ERROR: Image 54 failed with non-retryable error: Error code: 400 - {'error_code': 'BAD_REQUEST', 'message': 'Invalid base64 string for image\\n'}❌ ERROR: Image 56 failed with non-retryable error: Error code: 400 - {'error_code': 'BAD_REQUEST', 'message': 'Invalid base64 string for image\\n'}\n",
      "\n"
     ]
    },
    {
     "name": "stderr",
     "output_type": "stream",
     "text": [
      "\rProcessing images:  62%|██████▏   | 56/90 [00:22<00:14,  2.37img/s, Last=❌ 55, Workers=3, Rate Limits=0]\rProcessing images:  63%|██████▎   | 57/90 [00:22<00:11,  2.93img/s, Last=❌ 55, Workers=3, Rate Limits=0]"
     ]
    },
    {
     "name": "stdout",
     "output_type": "stream",
     "text": [
      "❌ ERROR: Image 55 failed with non-retryable error: Error code: 400 - {'error_code': 'BAD_REQUEST', 'message': 'Invalid base64 string for image\\n'}\n"
     ]
    },
    {
     "name": "stderr",
     "output_type": "stream",
     "text": [
      "\rProcessing images:  63%|██████▎   | 57/90 [00:23<00:11,  2.93img/s, Last=❌ 58, Workers=3, Rate Limits=0]\rProcessing images:  64%|██████▍   | 58/90 [00:23<00:14,  2.14img/s, Last=❌ 58, Workers=3, Rate Limits=0]"
     ]
    },
    {
     "name": "stdout",
     "output_type": "stream",
     "text": [
      "❌ ERROR: Image 58 failed with non-retryable error: Error code: 400 - {'error_code': 'BAD_REQUEST', 'message': 'Invalid base64 string for image\\n'}\n"
     ]
    },
    {
     "name": "stderr",
     "output_type": "stream",
     "text": [
      "\rProcessing images:  64%|██████▍   | 58/90 [00:23<00:14,  2.14img/s, Last=❌ 59, Workers=3, Rate Limits=0]\rProcessing images:  66%|██████▌   | 59/90 [00:23<00:13,  2.32img/s, Last=❌ 59, Workers=3, Rate Limits=0]\rProcessing images:  66%|██████▌   | 59/90 [00:23<00:13,  2.32img/s, Last=❌ 57, Workers=3, Rate Limits=0]"
     ]
    },
    {
     "name": "stdout",
     "output_type": "stream",
     "text": [
      "❌ ERROR: Image 59 failed with non-retryable error: Error code: 400 - {'error_code': 'BAD_REQUEST', 'message': 'Invalid base64 string for image\\n'}\n",
      "❌ ERROR: Image 57 failed with non-retryable error: Error code: 400 - {'error_code': 'BAD_REQUEST', 'message': 'Invalid base64 string for image\\n'}\n"
     ]
    },
    {
     "name": "stderr",
     "output_type": "stream",
     "text": [
      "\rProcessing images:  67%|██████▋   | 60/90 [00:24<00:12,  2.32img/s, Last=❌ 62, Workers=3, Rate Limits=0]\rProcessing images:  68%|██████▊   | 61/90 [00:24<00:12,  2.24img/s, Last=❌ 62, Workers=3, Rate Limits=0]\rProcessing images:  68%|██████▊   | 61/90 [00:24<00:12,  2.24img/s, Last=❌ 61, Workers=3, Rate Limits=0]"
     ]
    },
    {
     "name": "stdout",
     "output_type": "stream",
     "text": [
      "❌ ERROR: Image 62 failed with non-retryable error: Error code: 400 - {'error_code': 'BAD_REQUEST', 'message': 'Invalid base64 string for image\\n'}\n",
      "❌ ERROR: Image 61 failed with non-retryable error: Error code: 400 - {'error_code': 'BAD_REQUEST', 'message': 'Invalid base64 string for image\\n'}\n"
     ]
    },
    {
     "name": "stderr",
     "output_type": "stream",
     "text": [
      "\rProcessing images:  69%|██████▉   | 62/90 [00:24<00:12,  2.24img/s, Last=❌ 60, Workers=3, Rate Limits=0]\rProcessing images:  70%|███████   | 63/90 [00:24<00:09,  2.96img/s, Last=❌ 60, Workers=3, Rate Limits=0]"
     ]
    },
    {
     "name": "stdout",
     "output_type": "stream",
     "text": [
      "❌ ERROR: Image 60 failed with non-retryable error: Error code: 400 - {'error_code': 'BAD_REQUEST', 'message': 'Invalid base64 string for image\\n'}\n"
     ]
    },
    {
     "name": "stderr",
     "output_type": "stream",
     "text": [
      "\rProcessing images:  70%|███████   | 63/90 [00:25<00:09,  2.96img/s, Last=❌ 63, Workers=3, Rate Limits=0]\rProcessing images:  71%|███████   | 64/90 [00:25<00:12,  2.12img/s, Last=❌ 63, Workers=3, Rate Limits=0]\rProcessing images:  71%|███████   | 64/90 [00:25<00:12,  2.12img/s, Last=❌ 64, Workers=3, Rate Limits=0]\rProcessing images:  72%|███████▏  | 65/90 [00:25<00:11,  2.12img/s, Last=❌ 65, Workers=3, Rate Limits=0]"
     ]
    },
    {
     "name": "stdout",
     "output_type": "stream",
     "text": [
      "❌ ERROR: Image 63 failed with non-retryable error: Error code: 400 - {'error_code': 'BAD_REQUEST', 'message': 'Invalid base64 string for image\\n'}\n",
      "❌ ERROR: Image 64 failed with non-retryable error: Error code: 400 - {'error_code': 'BAD_REQUEST', 'message': 'Invalid base64 string for image\\n'}\n",
      "❌ ERROR: Image 65 failed with non-retryable error: Error code: 400 - {'error_code': 'BAD_REQUEST', 'message': 'Invalid base64 string for image\\n'}\n"
     ]
    },
    {
     "name": "stderr",
     "output_type": "stream",
     "text": [
      "\rProcessing images:  73%|███████▎  | 66/90 [00:26<00:11,  2.12img/s, Last=❌ 66, Workers=3, Rate Limits=0]\rProcessing images:  74%|███████▍  | 67/90 [00:26<00:08,  2.67img/s, Last=❌ 66, Workers=3, Rate Limits=0]\rProcessing images:  74%|███████▍  | 67/90 [00:26<00:08,  2.67img/s, Last=❌ 68, Workers=3, Rate Limits=0]\rProcessing images:  76%|███████▌  | 68/90 [00:26<00:08,  2.67img/s, Last=❌ 67, Workers=3, Rate Limits=0]"
     ]
    },
    {
     "name": "stdout",
     "output_type": "stream",
     "text": [
      "❌ ERROR: Image 66 failed with non-retryable error: Error code: 400 - {'error_code': 'BAD_REQUEST', 'message': 'Invalid base64 string for image\\n'}\n",
      "❌ ERROR: Image 68 failed with non-retryable error: Error code: 400 - {'error_code': 'BAD_REQUEST', 'message': 'Invalid base64 string for image\\n'}\n",
      "❌ ERROR: Image 67 failed with non-retryable error: Error code: 400 - {'error_code': 'BAD_REQUEST', 'message': 'Invalid base64 string for image\\n'}\n"
     ]
    },
    {
     "name": "stderr",
     "output_type": "stream",
     "text": [
      "\rProcessing images:  77%|███████▋  | 69/90 [00:27<00:07,  2.67img/s, Last=❌ 70, Workers=3, Rate Limits=0]\rProcessing images:  78%|███████▊  | 70/90 [00:27<00:07,  2.68img/s, Last=❌ 70, Workers=3, Rate Limits=0]\rProcessing images:  78%|███████▊  | 70/90 [00:27<00:07,  2.68img/s, Last=❌ 69, Workers=3, Rate Limits=0]\rProcessing images:  79%|███████▉  | 71/90 [00:27<00:07,  2.68img/s, Last=❌ 71, Workers=3, Rate Limits=0]"
     ]
    },
    {
     "name": "stdout",
     "output_type": "stream",
     "text": [
      "❌ ERROR: Image 70 failed with non-retryable error: Error code: 400 - {'error_code': 'BAD_REQUEST', 'message': 'Invalid base64 string for image\\n'}\n",
      "❌ ERROR: Image 69 failed with non-retryable error: Error code: 400 - {'error_code': 'BAD_REQUEST', 'message': 'Invalid base64 string for image\\n'}\n",
      "❌ ERROR: Image 71 failed with non-retryable error: Error code: 400 - {'error_code': 'BAD_REQUEST', 'message': 'Invalid base64 string for image\\n'}\n"
     ]
    },
    {
     "name": "stderr",
     "output_type": "stream",
     "text": [
      "\rProcessing images:  80%|████████  | 72/90 [00:28<00:06,  2.68img/s, Last=❌ 74, Workers=3, Rate Limits=0]\rProcessing images:  81%|████████  | 73/90 [00:28<00:05,  2.87img/s, Last=❌ 74, Workers=3, Rate Limits=0]\rProcessing images:  81%|████████  | 73/90 [00:28<00:05,  2.87img/s, Last=❌ 72, Workers=3, Rate Limits=0]\rProcessing images:  82%|████████▏ | 74/90 [00:28<00:05,  2.87img/s, Last=❌ 73, Workers=3, Rate Limits=0]"
     ]
    },
    {
     "name": "stdout",
     "output_type": "stream",
     "text": [
      "❌ ERROR: Image 72 failed with non-retryable error: Error code: 400 - {'error_code': 'BAD_REQUEST', 'message': 'Invalid base64 string for image\\n'}❌ ERROR: Image 74 failed with non-retryable error: Error code: 400 - {'error_code': 'BAD_REQUEST', 'message': 'Invalid base64 string for image\\n'}\n",
      "\n",
      "❌ ERROR: Image 73 failed with non-retryable error: Error code: 400 - {'error_code': 'BAD_REQUEST', 'message': 'Invalid base64 string for image\\n'}\n"
     ]
    },
    {
     "name": "stderr",
     "output_type": "stream",
     "text": [
      "\rProcessing images:  83%|████████▎ | 75/90 [00:29<00:05,  2.87img/s, Last=❌ 76, Workers=3, Rate Limits=0]\rProcessing images:  84%|████████▍ | 76/90 [00:29<00:05,  2.79img/s, Last=❌ 76, Workers=3, Rate Limits=0]\rProcessing images:  84%|████████▍ | 76/90 [00:29<00:05,  2.79img/s, Last=❌ 77, Workers=3, Rate Limits=0]\rProcessing images:  86%|████████▌ | 77/90 [00:29<00:04,  2.79img/s, Last=❌ 75, Workers=3, Rate Limits=0]\rProcessing images:  87%|████████▋ | 78/90 [00:29<00:03,  3.47img/s, Last=❌ 75, Workers=3, Rate Limits=0]"
     ]
    },
    {
     "name": "stdout",
     "output_type": "stream",
     "text": [
      "❌ ERROR: Image 76 failed with non-retryable error: Error code: 400 - {'error_code': 'BAD_REQUEST', 'message': 'Invalid base64 string for image\\n'}\n",
      "❌ ERROR: Image 77 failed with non-retryable error: Error code: 400 - {'error_code': 'BAD_REQUEST', 'message': 'Invalid base64 string for image\\n'}\n",
      "❌ ERROR: Image 75 failed with non-retryable error: Error code: 400 - {'error_code': 'BAD_REQUEST', 'message': 'Invalid base64 string for image\\n'}\n"
     ]
    },
    {
     "name": "stderr",
     "output_type": "stream",
     "text": [
      "\rProcessing images:  87%|████████▋ | 78/90 [00:30<00:03,  3.47img/s, Last=❌ 79, Workers=3, Rate Limits=0]\rProcessing images:  88%|████████▊ | 79/90 [00:30<00:04,  2.59img/s, Last=❌ 79, Workers=3, Rate Limits=0]\rProcessing images:  88%|████████▊ | 79/90 [00:31<00:04,  2.59img/s, Last=❌ 78, Workers=3, Rate Limits=0]\rProcessing images:  89%|████████▉ | 80/90 [00:31<00:03,  2.88img/s, Last=❌ 78, Workers=3, Rate Limits=0]\rProcessing images:  89%|████████▉ | 80/90 [00:31<00:03,  2.88img/s, Last=❌ 80, Workers=3, Rate Limits=0]"
     ]
    },
    {
     "name": "stdout",
     "output_type": "stream",
     "text": [
      "❌ ERROR: Image 79 failed with non-retryable error: Error code: 400 - {'error_code': 'BAD_REQUEST', 'message': 'Invalid base64 string for image\\n'}\n",
      "❌ ERROR: Image 78 failed with non-retryable error: Error code: 400 - {'error_code': 'BAD_REQUEST', 'message': 'Invalid base64 string for image\\n'}\n",
      "❌ ERROR: Image 80 failed with non-retryable error: Error code: 400 - {'error_code': 'BAD_REQUEST', 'message': 'Invalid base64 string for image\\n'}\n"
     ]
    },
    {
     "name": "stderr",
     "output_type": "stream",
     "text": [
      "\rProcessing images:  90%|█████████ | 81/90 [00:32<00:03,  2.88img/s, Last=❌ 81, Workers=3, Rate Limits=0]\rProcessing images:  91%|█████████ | 82/90 [00:32<00:03,  2.38img/s, Last=❌ 81, Workers=3, Rate Limits=0]\rProcessing images:  91%|█████████ | 82/90 [00:32<00:03,  2.38img/s, Last=❌ 83, Workers=3, Rate Limits=0]\rProcessing images:  92%|█████████▏| 83/90 [00:32<00:02,  2.38img/s, Last=❌ 82, Workers=3, Rate Limits=0]"
     ]
    },
    {
     "name": "stdout",
     "output_type": "stream",
     "text": [
      "❌ ERROR: Image 81 failed with non-retryable error: Error code: 400 - {'error_code': 'BAD_REQUEST', 'message': 'Invalid base64 string for image\\n'}\n",
      "❌ ERROR: Image 83 failed with non-retryable error: Error code: 400 - {'error_code': 'BAD_REQUEST', 'message': 'Invalid base64 string for image\\n'}\n",
      "❌ ERROR: Image 82 failed with non-retryable error: Error code: 400 - {'error_code': 'BAD_REQUEST', 'message': 'Invalid base64 string for image\\n'}\n"
     ]
    },
    {
     "name": "stderr",
     "output_type": "stream",
     "text": [
      "\rProcessing images:  93%|█████████▎| 84/90 [00:33<00:02,  2.38img/s, Last=❌ 86, Workers=3, Rate Limits=0]\rProcessing images:  94%|█████████▍| 85/90 [00:33<00:02,  2.44img/s, Last=❌ 86, Workers=3, Rate Limits=0]\rProcessing images:  94%|█████████▍| 85/90 [00:33<00:02,  2.44img/s, Last=❌ 84, Workers=3, Rate Limits=0]\rProcessing images:  96%|█████████▌| 86/90 [00:33<00:01,  2.79img/s, Last=❌ 84, Workers=3, Rate Limits=0]\rProcessing images:  96%|█████████▌| 86/90 [00:33<00:01,  2.79img/s, Last=❌ 85, Workers=3, Rate Limits=0]"
     ]
    },
    {
     "name": "stdout",
     "output_type": "stream",
     "text": [
      "❌ ERROR: Image 86 failed with non-retryable error: Error code: 400 - {'error_code': 'BAD_REQUEST', 'message': 'Invalid base64 string for image\\n'}\n",
      "❌ ERROR: Image 84 failed with non-retryable error: Error code: 400 - {'error_code': 'BAD_REQUEST', 'message': 'Invalid base64 string for image\\n'}\n",
      "❌ ERROR: Image 85 failed with non-retryable error: Error code: 400 - {'error_code': 'BAD_REQUEST', 'message': 'Invalid base64 string for image\\n'}\n"
     ]
    },
    {
     "name": "stderr",
     "output_type": "stream",
     "text": [
      "\rProcessing images:  97%|█████████▋| 87/90 [00:34<00:01,  2.79img/s, Last=❌ 88, Workers=3, Rate Limits=0]\rProcessing images:  98%|█████████▊| 88/90 [00:34<00:00,  2.39img/s, Last=❌ 88, Workers=3, Rate Limits=0]\rProcessing images:  98%|█████████▊| 88/90 [00:34<00:00,  2.39img/s, Last=❌ 89, Workers=3, Rate Limits=0]\rProcessing images:  99%|█████████▉| 89/90 [00:34<00:00,  2.39img/s, Last=❌ 87, Workers=3, Rate Limits=0]\rProcessing images: 100%|██████████| 90/90 [00:34<00:00,  3.30img/s, Last=❌ 87, Workers=3, Rate Limits=0]\rProcessing images: 100%|██████████| 90/90 [00:34<00:00,  2.60img/s, Last=❌ 87, Workers=3, Rate Limits=0]"
     ]
    },
    {
     "name": "stdout",
     "output_type": "stream",
     "text": [
      "❌ ERROR: Image 88 failed with non-retryable error: Error code: 400 - {'error_code': 'BAD_REQUEST', 'message': 'Invalid base64 string for image\\n'}\n",
      "❌ ERROR: Image 89 failed with non-retryable error: Error code: 400 - {'error_code': 'BAD_REQUEST', 'message': 'Invalid base64 string for image\\n'}\n",
      "❌ ERROR: Image 87 failed with non-retryable error: Error code: 400 - {'error_code': 'BAD_REQUEST', 'message': 'Invalid base64 string for image\\n'}\n",
      "\n",
      "📈 Llama 4 Transcription Summary:\n",
      "   ✅ Successful: 0/90\n",
      "   ❌ Failed: 90/90\n",
      "   📊 Success rate: 0.0%\n",
      "   🔧 Final worker count: 3\n",
      "   ⚠️  Total rate limit events: 0\n"
     ]
    },
    {
     "name": "stderr",
     "output_type": "stream",
     "text": [
      "\n"
     ]
    },
    {
     "name": "stdout",
     "output_type": "stream",
     "text": [
      "✅ Saved 90 records to: tsfrt.gsa.all_pdfs_parsed\n",
      "✅ File completed successfully:\n",
      "   📊 Pages: 90\n",
      "   ✅ Successful transcriptions: 0\n",
      "   ❌ Failed transcriptions: 90\n",
      "   ⏱️  Processing time: 43.8s\n",
      "   💾 Saved to: tsfrt.gsa.all_pdfs_parsed\n",
      "\n",
      "============================================================\n",
      "📄 Processing file 6/6: executive-documents.pdf\n",
      "============================================================\n",
      "Converting executive-documents.pdf to base64: 1 pages at 150 DPI...\n",
      "  Converting page 1/1 to base64\n",
      "  Conversion complete: 1 pages in 0.0s\n",
      "✅ Saved 1 records to: tsfrt.gsa.all_pdfs_parsed_intermediate\n",
      "🤖 Starting LLM processing for 1 pages...\n",
      "🚀 Starting transcription of 1 images...\n",
      "📊 Model: databricks-llama-4-maverick\n",
      "⚙️  Workers: 3 (range: 1-3)\n"
     ]
    },
    {
     "name": "stderr",
     "output_type": "stream",
     "text": [
      "\rProcessing images:   0%|          | 0/1 [00:00<?, ?img/s]\rProcessing images:   0%|          | 0/1 [00:00<?, ?img/s, Last=❌ 0, Workers=3, Rate Limits=0]\rProcessing images: 100%|██████████| 1/1 [00:00<00:00,  2.30img/s, Last=❌ 0, Workers=3, Rate Limits=0]\rProcessing images: 100%|██████████| 1/1 [00:00<00:00,  2.29img/s, Last=❌ 0, Workers=3, Rate Limits=0]"
     ]
    },
    {
     "name": "stdout",
     "output_type": "stream",
     "text": [
      "❌ ERROR: Image 0 failed with non-retryable error: Error code: 400 - {'error_code': 'BAD_REQUEST', 'message': 'Invalid base64 string for image\\n'}\n",
      "\n",
      "📈 Llama 4 Transcription Summary:\n",
      "   ✅ Successful: 0/1\n",
      "   ❌ Failed: 1/1\n",
      "   📊 Success rate: 0.0%\n",
      "   🔧 Final worker count: 3\n",
      "   ⚠️  Total rate limit events: 0\n"
     ]
    },
    {
     "name": "stderr",
     "output_type": "stream",
     "text": [
      "\n"
     ]
    },
    {
     "name": "stdout",
     "output_type": "stream",
     "text": [
      "✅ Saved 1 records to: tsfrt.gsa.all_pdfs_parsed\n",
      "✅ File completed successfully:\n",
      "   📊 Pages: 1\n",
      "   ✅ Successful transcriptions: 0\n",
      "   ❌ Failed transcriptions: 1\n",
      "   ⏱️  Processing time: 3.7s\n",
      "   💾 Saved to: tsfrt.gsa.all_pdfs_parsed\n",
      "\n",
      "================================================================================\n",
      "🎊 BATCH PROCESSING COMPLETE\n",
      "================================================================================\n",
      "📊 Files processed: 6/6\n",
      "📄 Total pages processed: 253\n",
      "✅ Successful files: 6\n",
      "❌ Failed files: 0\n",
      "💾 All results combined in: tsfrt.gsa.all_pdfs_parsed\n",
      "\n",
      "📋 PROCESSING LOG:\n",
      "   ✅ FY 2024 GSA Annual Performance Plan FY 2022 Report_Final_508.pdf: SUCCESS (91 pages, 42.6s)\n",
      "   ✅ FY-2023-Annual-Performance-Report_FINAL_508-1282025.pdf: SUCCESS (32 pages, 20.7s)\n",
      "   ✅ FY-2026-GSA-Annual-Performance-Plan_5-28-25.pdf: SUCCESS (10 pages, 7.9s)\n",
      "   ✅ GSA-FY2024-Annual-Performance-Report-Final-508-Jan-2025.pdf: SUCCESS (29 pages, 16.3s)\n",
      "   ✅ GSA_Annual_Performance_Plan_FY_2023_FINAL_508.pdf: SUCCESS (90 pages, 43.8s)\n",
      "   ✅ executive-documents.pdf: SUCCESS (1 pages, 3.7s)\n"
     ]
    },
    {
     "data": {
      "application/databricks.mlflow.trace": "[\"tr-58d00ec5d0d44bf18daffb169a1b8005\", \"tr-af4f56b9004d44419aba5e60e4327d82\", \"tr-e723ad506b3b44258017c0e4795d4d63\", \"tr-99fbce238c5441cea188f856a38c9039\", \"tr-29fad26fede54477809c0add1849a8eb\", \"tr-68109773fba943de8e692fe7f601e26e\", \"tr-cb127c658a4f489d817df6fd82e0bfb4\", \"tr-1be5acbe81b545e88d603e92ad63bc29\", \"tr-4272d7a2a4684400849c38f062131b22\", \"tr-46ec44ecfc4143dd84f20018421fad20\"]",
      "text/plain": [
       "[Trace(request_id=tr-58d00ec5d0d44bf18daffb169a1b8005), Trace(request_id=tr-af4f56b9004d44419aba5e60e4327d82), Trace(request_id=tr-e723ad506b3b44258017c0e4795d4d63), Trace(request_id=tr-99fbce238c5441cea188f856a38c9039), Trace(request_id=tr-29fad26fede54477809c0add1849a8eb), Trace(request_id=tr-68109773fba943de8e692fe7f601e26e), Trace(request_id=tr-cb127c658a4f489d817df6fd82e0bfb4), Trace(request_id=tr-1be5acbe81b545e88d603e92ad63bc29), Trace(request_id=tr-4272d7a2a4684400849c38f062131b22), Trace(request_id=tr-46ec44ecfc4143dd84f20018421fad20)]"
      ]
     },
     "metadata": {},
     "output_type": "display_data"
    }
   ],
   "source": [
    "# Run the batch processing\n",
    "processing_log, all_results = process_multiple_pdfs(\n",
    "    pdf_directory=PDF_DIRECTORY,\n",
    "    output_catalog=OUTPUT_CATALOG,\n",
    "    prompt = PROMPT,\n",
    "    processing_mode=PROCESSING_MODE,\n",
    "    dpi=150,\n",
    "    model=\"databricks-llama-4-maverick\", #default databricks-llama-4-maverick, change to your own provisioned throughput endpoint for more speed\n",
    "    initial_workers=3, #update if you have a provisioned throughput endpoint\n",
    "    min_workers=1, #default 1\n",
    "    max_workers=3 #update if you have a provisioned throughput endpoint\n",
    ")"
   ]
  },
  {
   "cell_type": "code",
   "execution_count": 0,
   "metadata": {
    "application/vnd.databricks.v1+cell": {
     "cellMetadata": {
      "byteLimit": 2048000,
      "rowLimit": 10000
     },
     "inputWidgets": {},
     "nuid": "a449586b-cd8c-4d83-a844-21400da249b8",
     "showTitle": false,
     "tableResultSettingsMap": {},
     "title": ""
    }
   },
   "outputs": [
    {
     "name": "stdout",
     "output_type": "stream",
     "text": [
      "📊 PROCESSING SUMMARY BY FILE:\n"
     ]
    },
    {
     "data": {
      "text/html": [
       "<style scoped>\n",
       "  .table-result-container {\n",
       "    max-height: 300px;\n",
       "    overflow: auto;\n",
       "  }\n",
       "  table, th, td {\n",
       "    border: 1px solid black;\n",
       "    border-collapse: collapse;\n",
       "  }\n",
       "  th, td {\n",
       "    padding: 5px;\n",
       "  }\n",
       "  th {\n",
       "    text-align: left;\n",
       "  }\n",
       "</style><div class='table-result-container'><table class='table-result'><thead style='background-color: white'><tr><th>file_name</th><th>doc_name</th><th>total_pages</th><th>successful_pages</th><th>failed_pages</th><th>avg_page_text_length</th><th>first_processed</th><th>last_processed</th></tr></thead><tbody><tr><td>FY 2024 GSA Annual Performance Plan FY 2022 Report_Final_508.pdf</td><td>fy_2024_gsa_annual_performance_plan_fy_2022_report_final_508</td><td>91</td><td>0</td><td>91</td><td>2615.3186813186812</td><td>2025-08-05T01:57:28.973886Z</td><td>2025-08-05T01:57:34.21837Z</td></tr><tr><td>FY-2023-Annual-Performance-Report_FINAL_508-1282025.pdf</td><td>fy_2023_annual_performance_report_final_508_1282025</td><td>32</td><td>0</td><td>32</td><td>2601.03125</td><td>2025-08-05T01:58:11.377245Z</td><td>2025-08-05T01:58:13.176927Z</td></tr><tr><td>FY-2026-GSA-Annual-Performance-Plan_5-28-25.pdf</td><td>fy_2026_gsa_annual_performance_plan_5_28_25</td><td>10</td><td>0</td><td>10</td><td>2194.1</td><td>2025-08-05T01:58:32.228746Z</td><td>2025-08-05T01:58:32.791388Z</td></tr><tr><td>GSA-FY2024-Annual-Performance-Report-Final-508-Jan-2025.pdf</td><td>gsa_fy2024_annual_performance_report_final_508_jan_2025</td><td>29</td><td>0</td><td>29</td><td>2631.793103448276</td><td>2025-08-05T01:58:40.018158Z</td><td>2025-08-05T01:58:41.724466Z</td></tr><tr><td>GSA_Annual_Performance_Plan_FY_2023_FINAL_508.pdf</td><td>gsa_annual_performance_plan_fy_2023_final_508</td><td>90</td><td>0</td><td>90</td><td>2137.3555555555554</td><td>2025-08-05T01:58:56.294563Z</td><td>2025-08-05T01:59:01.027461Z</td></tr><tr><td>executive-documents.pdf</td><td>executive_documents</td><td>1</td><td>0</td><td>1</td><td>117.0</td><td>2025-08-05T01:59:39.899189Z</td><td>2025-08-05T01:59:39.899189Z</td></tr></tbody></table></div>"
      ]
     },
     "metadata": {
      "application/vnd.databricks.v1+output": {
       "addedWidgets": {},
       "aggData": [],
       "aggError": "",
       "aggOverflow": false,
       "aggSchema": [],
       "aggSeriesLimitReached": false,
       "aggType": "",
       "arguments": {},
       "columnCustomDisplayInfos": {},
       "data": [
        [
         "FY 2024 GSA Annual Performance Plan FY 2022 Report_Final_508.pdf",
         "fy_2024_gsa_annual_performance_plan_fy_2022_report_final_508",
         91,
         0,
         91,
         2615.3186813186812,
         "2025-08-05T01:57:28.973886Z",
         "2025-08-05T01:57:34.21837Z"
        ],
        [
         "FY-2023-Annual-Performance-Report_FINAL_508-1282025.pdf",
         "fy_2023_annual_performance_report_final_508_1282025",
         32,
         0,
         32,
         2601.03125,
         "2025-08-05T01:58:11.377245Z",
         "2025-08-05T01:58:13.176927Z"
        ],
        [
         "FY-2026-GSA-Annual-Performance-Plan_5-28-25.pdf",
         "fy_2026_gsa_annual_performance_plan_5_28_25",
         10,
         0,
         10,
         2194.1,
         "2025-08-05T01:58:32.228746Z",
         "2025-08-05T01:58:32.791388Z"
        ],
        [
         "GSA-FY2024-Annual-Performance-Report-Final-508-Jan-2025.pdf",
         "gsa_fy2024_annual_performance_report_final_508_jan_2025",
         29,
         0,
         29,
         2631.793103448276,
         "2025-08-05T01:58:40.018158Z",
         "2025-08-05T01:58:41.724466Z"
        ],
        [
         "GSA_Annual_Performance_Plan_FY_2023_FINAL_508.pdf",
         "gsa_annual_performance_plan_fy_2023_final_508",
         90,
         0,
         90,
         2137.3555555555554,
         "2025-08-05T01:58:56.294563Z",
         "2025-08-05T01:59:01.027461Z"
        ],
        [
         "executive-documents.pdf",
         "executive_documents",
         1,
         0,
         1,
         117,
         "2025-08-05T01:59:39.899189Z",
         "2025-08-05T01:59:39.899189Z"
        ]
       ],
       "datasetInfos": [],
       "dbfsResultPath": null,
       "isJsonSchema": true,
       "metadata": {},
       "overflow": false,
       "plotOptions": {
        "customPlotOptions": {},
        "displayType": "table",
        "pivotAggregation": null,
        "pivotColumns": null,
        "xColumns": null,
        "yColumns": null
       },
       "removedWidgets": [],
       "schema": [
        {
         "metadata": "{}",
         "name": "file_name",
         "type": "\"string\""
        },
        {
         "metadata": "{}",
         "name": "doc_name",
         "type": "\"string\""
        },
        {
         "metadata": "{}",
         "name": "total_pages",
         "type": "\"long\""
        },
        {
         "metadata": "{}",
         "name": "successful_pages",
         "type": "\"long\""
        },
        {
         "metadata": "{}",
         "name": "failed_pages",
         "type": "\"long\""
        },
        {
         "metadata": "{}",
         "name": "avg_page_text_length",
         "type": "\"double\""
        },
        {
         "metadata": "{}",
         "name": "first_processed",
         "type": "\"timestamp\""
        },
        {
         "metadata": "{}",
         "name": "last_processed",
         "type": "\"timestamp\""
        }
       ],
       "type": "table"
      }
     },
     "output_type": "display_data"
    }
   ],
   "source": [
    "# If using combined mode, show summary statistics\n",
    "if PROCESSING_MODE == \"combined\":\n",
    "    summary_df = spark.sql(f\"\"\"\n",
    "        SELECT \n",
    "            file_name,\n",
    "            doc_name,\n",
    "            COUNT(*) as total_pages,\n",
    "            SUM(CASE WHEN transcription NOT LIKE 'ERROR:%' THEN 1 ELSE 0 END) as successful_pages,\n",
    "            SUM(CASE WHEN transcription LIKE 'ERROR:%' THEN 1 ELSE 0 END) as failed_pages,\n",
    "            AVG(page_text_length) as avg_page_text_length,\n",
    "            MIN(processed_timestamp) as first_processed,\n",
    "            MAX(processed_timestamp) as last_processed\n",
    "        FROM {FINAL_TABLE}\n",
    "        GROUP BY file_name, doc_name\n",
    "        ORDER BY file_name\n",
    "    \"\"\")\n",
    "    \n",
    "    print(\"📊 PROCESSING SUMMARY BY FILE:\")\n",
    "display(summary_df)"
   ]
  },
  {
   "cell_type": "code",
   "execution_count": 0,
   "metadata": {
    "application/vnd.databricks.v1+cell": {
     "cellMetadata": {
      "byteLimit": 2048000,
      "rowLimit": 10000
     },
     "inputWidgets": {},
     "nuid": "c1f72bb9-fe0c-4e1b-8416-523e04d6f6a5",
     "showTitle": false,
     "tableResultSettingsMap": {},
     "title": ""
    }
   },
   "outputs": [
    {
     "data": {
      "text/plain": [
       "DataFrame[]"
      ]
     },
     "execution_count": 16,
     "metadata": {},
     "output_type": "execute_result"
    }
   ],
   "source": [
    "spark.sql(f\"DROP TABLE IF EXISTS {OUTPUT_CTLG}.{OUTPUT_SCHEMA}.{OUTPUT_TABLE}\")"
   ]
  },
  {
   "cell_type": "code",
   "execution_count": 0,
   "metadata": {
    "application/vnd.databricks.v1+cell": {
     "cellMetadata": {
      "byteLimit": 2048000,
      "implicitDf": true,
      "rowLimit": 10000
     },
     "inputWidgets": {},
     "nuid": "8adc9a6c-40fb-4d2c-bf3a-d8061e075924",
     "showTitle": false,
     "tableResultSettingsMap": {},
     "title": ""
    }
   },
   "outputs": [
    {
     "data": {
      "text/plain": [
       "DataFrame[num_affected_rows: bigint, num_inserted_rows: bigint]"
      ]
     },
     "execution_count": 17,
     "metadata": {},
     "output_type": "execute_result"
    }
   ],
   "source": [
    "embedding_model = dbutils.widgets.get(\"embedding_model\")\n",
    "\n",
    "spark.sql(f\"\"\"\n",
    "CREATE TABLE {OUTPUT_CTLG}.{OUTPUT_SCHEMA}.{OUTPUT_TABLE} as SELECT\n",
    "  ROW_NUMBER() OVER (ORDER BY transcription) as id,\n",
    "  doc_id,\n",
    "  transcription,\n",
    "  ai_query(\"{embedding_model}\", subquery.transcription) as embedding\n",
    "FROM\n",
    "  (\n",
    "    SELECT\n",
    "      doc_id,\n",
    "      transcription\n",
    "    FROM\n",
    "      {OUTPUT_CTLG}.{OUTPUT_SCHEMA}.all_pdfs_parsed\n",
    "  ) AS subquery\n",
    "\"\"\")"
   ]
  }
 ],
 "metadata": {
  "application/vnd.databricks.v1+notebook": {
   "computePreferences": null,
   "dashboards": [],
   "environmentMetadata": {
    "base_environment": "dbe_41a50460-c90b-4840-9288-afcb847395d5",
    "environment_version": "2"
   },
   "inputWidgetPreferences": null,
   "language": "python",
   "notebookMetadata": {
    "mostRecentlyExecutedCommandWithImplicitDF": {
     "commandId": -1,
     "dataframes": [
      "_sqldf"
     ]
    },
    "pythonIndentUnit": 2
   },
   "notebookName": "01_document_parse",
   "widgets": {
    "embedding_model": {
     "currentValue": "databricks-gte-large-en",
     "nuid": "e7a18c5d-69a1-4aa7-bb32-7ebcd184bbce",
     "typedWidgetInfo": {
      "autoCreated": false,
      "defaultValue": "databricks-gte-large-en",
      "label": "embedding model to use",
      "name": "embedding_model",
      "options": {
       "validationRegex": null,
       "widgetDisplayType": "Text"
      },
      "parameterDataType": "String"
     },
     "widgetInfo": {
      "defaultValue": "databricks-gte-large-en",
      "label": "embedding model to use",
      "name": "embedding_model",
      "options": {
       "autoCreated": null,
       "validationRegex": null,
       "widgetType": "text"
      },
      "widgetType": "text"
     }
    },
    "foundation_model": {
     "currentValue": "databricks-llama-4-maverick",
     "nuid": "8c25ee5d-0013-4afa-b6e9-ad9af065289d",
     "typedWidgetInfo": {
      "autoCreated": false,
      "defaultValue": "databricks-llama-4-maverick",
      "label": "foundation model used for doc parsing",
      "name": "foundation_model",
      "options": {
       "validationRegex": null,
       "widgetDisplayType": "Text"
      },
      "parameterDataType": "String"
     },
     "widgetInfo": {
      "defaultValue": "databricks-llama-4-maverick",
      "label": "foundation model used for doc parsing",
      "name": "foundation_model",
      "options": {
       "autoCreated": null,
       "validationRegex": null,
       "widgetType": "text"
      },
      "widgetType": "text"
     }
    },
    "output_schema": {
     "currentValue": "tsfrt.gsa",
     "nuid": "5572b69d-c9e7-4d22-a05d-5a65b1dff641",
     "typedWidgetInfo": {
      "autoCreated": false,
      "defaultValue": "tsfrt.gsa",
      "label": "Catalog and schema name for output table ({catalog}.{schema})",
      "name": "output_schema",
      "options": {
       "validationRegex": null,
       "widgetDisplayType": "Text"
      },
      "parameterDataType": "String"
     },
     "widgetInfo": {
      "defaultValue": "tsfrt.gsa",
      "label": "Catalog and schema name for output table ({catalog}.{schema})",
      "name": "output_schema",
      "options": {
       "autoCreated": null,
       "validationRegex": null,
       "widgetType": "text"
      },
      "widgetType": "text"
     }
    },
    "output_table": {
     "currentValue": "tsfrt.gsa.document_base",
     "nuid": "fcb2f541-97fc-4092-a50e-604bed54b3d9",
     "typedWidgetInfo": {
      "autoCreated": false,
      "defaultValue": "tsfrt.gsa.document_base2",
      "label": "table for final output with embeddings",
      "name": "output_table",
      "options": {
       "validationRegex": null,
       "widgetDisplayType": "Text"
      },
      "parameterDataType": "String"
     },
     "widgetInfo": {
      "defaultValue": "tsfrt.gsa.document_base2",
      "label": "table for final output with embeddings",
      "name": "output_table",
      "options": {
       "autoCreated": null,
       "validationRegex": null,
       "widgetType": "text"
      },
      "widgetType": "text"
     }
    },
    "volume_path": {
     "currentValue": "/Volumes/tsfrt/gsa/performance",
     "nuid": "bf3e1256-9f0c-4023-a278-c83732cab929",
     "typedWidgetInfo": {
      "autoCreated": false,
      "defaultValue": "/Volumes/tsfrt/gsa/performance",
      "label": "Path to volume containing documents",
      "name": "volume_path",
      "options": {
       "validationRegex": null,
       "widgetDisplayType": "Text"
      },
      "parameterDataType": "String"
     },
     "widgetInfo": {
      "defaultValue": "/Volumes/tsfrt/gsa/performance",
      "label": "Path to volume containing documents",
      "name": "volume_path",
      "options": {
       "autoCreated": null,
       "validationRegex": null,
       "widgetType": "text"
      },
      "widgetType": "text"
     }
    }
   }
  },
  "language_info": {
   "name": "python"
  }
 },
 "nbformat": 4,
 "nbformat_minor": 0
}
