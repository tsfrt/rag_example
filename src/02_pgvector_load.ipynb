{
 "cells": [
  {
   "cell_type": "code",
   "execution_count": 0,
   "metadata": {
    "application/vnd.databricks.v1+cell": {
     "cellMetadata": {
      "byteLimit": 2048000,
      "rowLimit": 10000
     },
     "inputWidgets": {},
     "nuid": "160ca033-153a-44d6-adf5-0f9b2dd20a63",
     "showTitle": false,
     "tableResultSettingsMap": {},
     "title": ""
    }
   },
   "outputs": [],
   "source": [
    "dbutils.widgets.text(\n",
    "    \"output_table\",\n",
    "    \"tsfrt.gsa.document_base2\",\n",
    "    label=\"source for chunk content\",\n",
    ")\n",
    "\n",
    "dbutils.widgets.text(\n",
    "    \"vector_index_table\",\n",
    "    \"document_base\",\n",
    "    label=\"name of pgvector index\",\n",
    ")"
   ]
  },
  {
   "cell_type": "code",
   "execution_count": 0,
   "metadata": {
    "application/vnd.databricks.v1+cell": {
     "cellMetadata": {
      "byteLimit": 2048000,
      "rowLimit": 10000
     },
     "inputWidgets": {},
     "nuid": "4db530a3-fe0e-4be7-8cc2-16bd2aa8829f",
     "showTitle": false,
     "tableResultSettingsMap": {
      "0": {
       "dataGridStateBlob": "{\"version\":1,\"tableState\":{\"columnPinning\":{\"left\":[\"#row_number#\"],\"right\":[]},\"columnSizing\":{},\"columnVisibility\":{}},\"settings\":{\"columns\":{}},\"syncTimestamp\":1753719342410}",
       "filterBlob": null,
       "queryPlanFiltersBlob": null,
       "tableResultIndex": 0
      }
     },
     "title": ""
    }
   },
   "outputs": [],
   "source": [
    "from pyspark.sql.functions import col, lit, concat_ws, to_json\n",
    "\n",
    "chunk_table = dbutils.widgets.get(\"output_table\")\n",
    "\n",
    "# Read the table\n",
    "df = spark.read.table(chunk_table)\n",
    "\n",
    "# Select specific columns and rename them\n",
    "df = df.select(\n",
    "    col(\"id\"),\n",
    "    col(\"doc_id\").alias(\"doc_url\"),\n",
    "    col(\"transcription\").alias(\"content\"),\n",
    "    to_json(col(\"embedding\")).alias(\"embedding\")\n",
    ").withColumn(\"sensitivity\", lit(\"public\"))\n",
    "\n",
    "df.printSchema()\n",
    "display(df)"
   ]
  },
  {
   "cell_type": "code",
   "execution_count": 0,
   "metadata": {
    "application/vnd.databricks.v1+cell": {
     "cellMetadata": {
      "byteLimit": 2048000,
      "rowLimit": 10000
     },
     "inputWidgets": {},
     "nuid": "9d4a18bf-d9b7-4585-8fea-2195ebfd04f5",
     "showTitle": false,
     "tableResultSettingsMap": {},
     "title": ""
    }
   },
   "outputs": [],
   "source": [
    "import pandas as pd\n",
    "import json\n",
    "import psycopg2\n",
    "from psycopg2.extras import execute_values\n",
    "\n",
    "vector_index = dbutils.widgets.get(\"vector_index_table\")\n",
    "\n",
    "connection_config = dbutils.secrets.get(\"gsa-rag\", \"vector-conn-params\")\n",
    "\n",
    "pdf = df.toPandas()\n",
    "\n",
    "for i in range(253):\n",
    "    # Establish a connection to your PostgreSQL database\n",
    "    data = pdf.iloc[i:i+1].copy()\n",
    "    \n",
    "    # Convert data types to Python native types\n",
    "    data = data.astype(object).where(pd.notnull(data), None)\n",
    "    \n",
    "    conn = psycopg2.connect(**json.loads(connection_config))\n",
    "    \n",
    "    cursor = conn.cursor()\n",
    "    # Prepare data for insertion (list of tuples)\n",
    "    data_to_insert = [tuple(row) for row in data.itertuples(index=False, name=None)]\n",
    "    # Define the SQL INSERT statement\n",
    "    table_name = vector_index\n",
    "    columns = \", \".join(data.columns)\n",
    "    \n",
    "    # Use ON CONFLICT DO UPDATE for merging (upsert)\n",
    "    # Replace 'id' with your primary key or unique constraint\n",
    "    insert_sql = f\"\"\"\n",
    "    INSERT INTO {table_name} ({columns})\n",
    "    VALUES %s\n",
    "    ON CONFLICT (id) DO UPDATE SET\n",
    "        content = EXCLUDED.content,\n",
    "        doc_url = EXCLUDED.doc_url,\n",
    "        sensitivity = EXCLUDED.sensitivity,\n",
    "        embedding = EXCLUDED.embedding;\n",
    "    \"\"\"\n",
    "    \n",
    "    # Execute the bulk insertion/update\n",
    "    try:\n",
    "        execute_values(cursor, insert_sql, data_to_insert)\n",
    "        conn.commit()\n",
    "        print(f\"{len(data_to_insert)} rows successfully merged into {table_name}.\")\n",
    "    except Exception as e:\n",
    "        conn.rollback()\n",
    "        print(f\"{i}Error merging data: {e}\")\n",
    "    finally:\n",
    "        cursor.close()\n",
    "        conn.close()"
   ]
  },
  {
   "cell_type": "code",
   "execution_count": 0,
   "metadata": {
    "application/vnd.databricks.v1+cell": {
     "cellMetadata": {
      "byteLimit": 2048000,
      "rowLimit": 10000
     },
     "inputWidgets": {},
     "nuid": "89849acb-3fd9-4c91-a3a1-0cb8d1f1ef9a",
     "showTitle": false,
     "tableResultSettingsMap": {},
     "title": ""
    }
   },
   "outputs": [],
   "source": []
  }
 ],
 "metadata": {
  "application/vnd.databricks.v1+notebook": {
   "computePreferences": {
    "hardware": {
     "accelerator": null,
     "gpuPoolId": null,
     "memory": "HIGH"
    }
   },
   "dashboards": [],
   "environmentMetadata": {
    "base_environment": "dbe_41a50460-c90b-4840-9288-afcb847395d5",
    "environment_version": "2"
   },
   "inputWidgetPreferences": null,
   "language": "python",
   "notebookMetadata": {
    "pythonIndentUnit": 2
   },
   "notebookName": "02_pgvector_load",
   "widgets": {
    "chunk_table": {
     "currentValue": "tsfrt.gsa.document_base2",
     "nuid": "354ef62a-7101-4dd6-a9dd-753bf006d8ef",
     "typedWidgetInfo": {
      "autoCreated": false,
      "defaultValue": "tsfrt.gsa.document_base2",
      "label": "source for chunk content",
      "name": "chunk_table",
      "options": {
       "validationRegex": null,
       "widgetDisplayType": "Text"
      },
      "parameterDataType": "String"
     },
     "widgetInfo": {
      "defaultValue": "tsfrt.gsa.document_base2",
      "label": "source for chunk content",
      "name": "chunk_table",
      "options": {
       "autoCreated": null,
       "validationRegex": null,
       "widgetType": "text"
      },
      "widgetType": "text"
     }
    },
    "output_table": {
     "currentValue": "tsfrt.gsa.document_base2",
     "nuid": "5da7b723-7bd9-4bd6-b5ee-0b6ae9b79305",
     "typedWidgetInfo": {
      "autoCreated": false,
      "defaultValue": "tsfrt.gsa.document_base2",
      "label": "source for chunk content",
      "name": "output_table",
      "options": {
       "validationRegex": null,
       "widgetDisplayType": "Text"
      },
      "parameterDataType": "String"
     },
     "widgetInfo": {
      "defaultValue": "tsfrt.gsa.document_base2",
      "label": "source for chunk content",
      "name": "output_table",
      "options": {
       "autoCreated": false,
       "validationRegex": null,
       "widgetType": "text"
      },
      "widgetType": "text"
     }
    },
    "vector_index_table": {
     "currentValue": "document_base",
     "nuid": "b10d1fd1-6fb5-4995-86dc-181bfd9c191d",
     "typedWidgetInfo": {
      "autoCreated": false,
      "defaultValue": "document_base",
      "label": "name of pgvector index",
      "name": "vector_index_table",
      "options": {
       "validationRegex": null,
       "widgetDisplayType": "Text"
      },
      "parameterDataType": "String"
     },
     "widgetInfo": {
      "defaultValue": "document_base",
      "label": "name of pgvector index",
      "name": "vector_index_table",
      "options": {
       "autoCreated": null,
       "validationRegex": null,
       "widgetType": "text"
      },
      "widgetType": "text"
     }
    }
   }
  },
  "language_info": {
   "name": "python"
  }
 },
 "nbformat": 4,
 "nbformat_minor": 0
}
